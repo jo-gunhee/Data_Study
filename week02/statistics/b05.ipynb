{
 "cells": [
  {
   "cell_type": "code",
   "execution_count": 1,
   "id": "4ff844ef",
   "metadata": {},
   "outputs": [],
   "source": [
    "# one sample Z- test\n",
    "import numpy as np\n",
    "import pandas as pd\n",
    "from scipy import stats\n",
    "from matplotlib import pyplot as plt"
   ]
  },
  {
   "cell_type": "code",
   "execution_count": 2,
   "id": "7f333575",
   "metadata": {},
   "outputs": [
    {
     "name": "stdout",
     "output_type": "stream",
     "text": [
      "H0 : mean IQ == 100\n",
      "H1 : mean IQ != 100\n"
     ]
    }
   ],
   "source": [
    "print(\"H0 : mean IQ == 100\")\n",
    "print(\"H1 : mean IQ != 100\")"
   ]
  },
  {
   "cell_type": "code",
   "execution_count": 3,
   "id": "b531f08a",
   "metadata": {},
   "outputs": [
    {
     "name": "stdout",
     "output_type": "stream",
     "text": [
      "30\n"
     ]
    },
    {
     "data": {
      "text/html": [
       "<div>\n",
       "<style scoped>\n",
       "    .dataframe tbody tr th:only-of-type {\n",
       "        vertical-align: middle;\n",
       "    }\n",
       "\n",
       "    .dataframe tbody tr th {\n",
       "        vertical-align: top;\n",
       "    }\n",
       "\n",
       "    .dataframe thead th {\n",
       "        text-align: right;\n",
       "    }\n",
       "</style>\n",
       "<table border=\"1\" class=\"dataframe\">\n",
       "  <thead>\n",
       "    <tr style=\"text-align: right;\">\n",
       "      <th></th>\n",
       "      <th>0</th>\n",
       "    </tr>\n",
       "  </thead>\n",
       "  <tbody>\n",
       "    <tr>\n",
       "      <th>0</th>\n",
       "      <td>109.0</td>\n",
       "    </tr>\n",
       "    <tr>\n",
       "      <th>1</th>\n",
       "      <td>110.0</td>\n",
       "    </tr>\n",
       "    <tr>\n",
       "      <th>2</th>\n",
       "      <td>108.0</td>\n",
       "    </tr>\n",
       "    <tr>\n",
       "      <th>3</th>\n",
       "      <td>110.0</td>\n",
       "    </tr>\n",
       "    <tr>\n",
       "      <th>4</th>\n",
       "      <td>109.0</td>\n",
       "    </tr>\n",
       "  </tbody>\n",
       "</table>\n",
       "</div>"
      ],
      "text/plain": [
       "       0\n",
       "0  109.0\n",
       "1  110.0\n",
       "2  108.0\n",
       "3  110.0\n",
       "4  109.0"
      ]
     },
     "execution_count": 3,
     "metadata": {},
     "output_type": "execute_result"
    }
   ],
   "source": [
    "sample = pd.read_csv('./sample.csv', header=None)\n",
    "print(len(sample))\n",
    "sample.head()"
   ]
  },
  {
   "cell_type": "code",
   "execution_count": 4,
   "id": "efc7f70e",
   "metadata": {},
   "outputs": [
    {
     "data": {
      "text/plain": [
       "[109.0,\n",
       " 110.0,\n",
       " 108.0,\n",
       " 110.0,\n",
       " 109.0,\n",
       " 111.0,\n",
       " 111.0,\n",
       " 110.0,\n",
       " 109.0,\n",
       " 111.0,\n",
       " 109.0,\n",
       " 110.0,\n",
       " 110.0,\n",
       " 108.0,\n",
       " 109.0,\n",
       " 110.0,\n",
       " 109.0,\n",
       " 110.0,\n",
       " 110.0,\n",
       " 110.0,\n",
       " 110.0,\n",
       " 109.0,\n",
       " 110.0,\n",
       " 110.0,\n",
       " 110.0,\n",
       " 112.0,\n",
       " 110.0,\n",
       " 109.0,\n",
       " 108.0,\n",
       " 109.0]"
      ]
     },
     "execution_count": 4,
     "metadata": {},
     "output_type": "execute_result"
    }
   ],
   "source": [
    "# list 만들기\n",
    "sample.columns=[\"IQ\"]\n",
    "sample_list= sample[\"IQ\"].to_list()\n",
    "sample_list"
   ]
  },
  {
   "cell_type": "code",
   "execution_count": 5,
   "id": "94e77ae4",
   "metadata": {},
   "outputs": [
    {
     "name": "stdout",
     "output_type": "stream",
     "text": [
      "Test Statistics is 5.92\n"
     ]
    }
   ],
   "source": [
    "# 검정 통계량\n",
    "\n",
    "pop_mean0=100\n",
    "pop_std = np.sqrt(80)\n",
    "n = sample.shape[0] \n",
    "sample_mean = np.mean(sample_list)\n",
    "sample_std = np.std(sample_list, ddof=1) # to use (n-1)\n",
    "\n",
    "t = (sample_mean-pop_mean0)/(pop_std/np.sqrt(n))\n",
    "\n",
    "print(\"Test Statistics is {}\".format(np.round(t,3)))"
   ]
  },
  {
   "cell_type": "code",
   "execution_count": 6,
   "id": "8ea3a5a7",
   "metadata": {},
   "outputs": [
    {
     "name": "stdout",
     "output_type": "stream",
     "text": [
      "crtical values are 11 and 1.96\n"
     ]
    }
   ],
   "source": [
    "# 임계치 구하기\n",
    "\n",
    "alpha = 0.05\n",
    "dist_norm = stats.norm(loc=0, scale=1)\n",
    "\n",
    "li= dist_norm.ppf(alpha/2)\n",
    "ul = dist_norm.ppf(1-(alpha/2))\n",
    "\n",
    "print(\"crtical values are {} and {}\".format(np.round(11,3),np.round(ul,3)))"
   ]
  },
  {
   "cell_type": "code",
   "execution_count": 7,
   "id": "bc91b60d",
   "metadata": {},
   "outputs": [
    {
     "name": "stdout",
     "output_type": "stream",
     "text": [
      "Result: we can reject H0\n"
     ]
    }
   ],
   "source": [
    "# 검정하기\n",
    "\n",
    "if(np.abs(t)>ul):\n",
    "    print(\"Result: we can reject H0\")\n",
    "else:\n",
    "    print(\"Result: we accept H0\")"
   ]
  },
  {
   "cell_type": "code",
   "execution_count": 8,
   "id": "1151ed8f",
   "metadata": {},
   "outputs": [
    {
     "data": {
      "image/png": "[encoded data removed]",
      "text/plain": [
       "<Figure size 432x288 with 1 Axes>"
      ]
     },
     "metadata": {
      "needs_background": "light"
     },
     "output_type": "display_data"
    }
   ],
   "source": [
    "# normality check\n",
    "\n",
    "stats.probplot(sample_list,plot=plt, dist='norm')\n",
    "plt.title(\"probability plot: normality\")\n",
    "plt.show()"
   ]
  }
 ],
 "metadata": {
  "kernelspec": {
   "display_name": "Python 3",
   "language": "python",
   "name": "python3"
  },
  "language_info": {
   "codemirror_mode": {
    "name": "ipython",
    "version": 3
   },
   "file_extension": ".py",
   "mimetype": "text/x-python",
   "name": "python",
   "nbconvert_exporter": "python",
   "pygments_lexer": "ipython3",
   "version": "3.8.8"
  }
 },
 "nbformat": 4,
 "nbformat_minor": 5
}
