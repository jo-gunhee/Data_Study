{
 "cells": [
  {
   "cell_type": "markdown",
   "id": "c9f63782",
   "metadata": {},
   "source": [
    "### 코로나 데이터 분석"
   ]
  },
  {
   "cell_type": "markdown",
   "id": "08f724d5",
   "metadata": {},
   "source": [
    "## 프로젝트 목차\n",
    "1. **데이터 불러오기\n",
    "<br> \n",
    "2. **데이터 정제하기\n",
    "<br>\n",
    "3. **데이터 시각화"
   ]
  },
  {
   "cell_type": "markdown",
   "id": "d2cc79f4",
   "metadata": {},
   "source": [
    "## 데이터 출처\n",
    "-  https://www.data.go.kr/tcs/dss/selectFileDataDetailView.do?publicDataPk=15063273"
   ]
  },
  {
   "cell_type": "markdown",
   "id": "581ac2b0",
   "metadata": {},
   "source": [
    "---"
   ]
  },
  {
   "cell_type": "markdown",
   "id": "d370fd11",
   "metadata": {},
   "source": [
    "## 1. 데이터 불러오기"
   ]
  },
  {
   "cell_type": "code",
   "execution_count": 1,
   "id": "af1b1d3e",
   "metadata": {},
   "outputs": [],
   "source": [
    "import pandas as pd\n",
    "import numpy as np\n",
    "import matplotlib.pyplot as plt\n",
    "import seaborn as sns"
   ]
  },
  {
   "cell_type": "code",
   "execution_count": 2,
   "id": "3bc6c852",
   "metadata": {},
   "outputs": [
    {
     "data": {
      "text/html": [
       "<div>\n",
       "<style scoped>\n",
       "    .dataframe tbody tr th:only-of-type {\n",
       "        vertical-align: middle;\n",
       "    }\n",
       "\n",
       "    .dataframe tbody tr th {\n",
       "        vertical-align: top;\n",
       "    }\n",
       "\n",
       "    .dataframe thead th {\n",
       "        text-align: right;\n",
       "    }\n",
       "</style>\n",
       "<table border=\"1\" class=\"dataframe\">\n",
       "  <thead>\n",
       "    <tr style=\"text-align: right;\">\n",
       "      <th></th>\n",
       "      <th>연번</th>\n",
       "      <th>확진일</th>\n",
       "      <th>환자번호</th>\n",
       "      <th>국적</th>\n",
       "      <th>환자정보</th>\n",
       "      <th>지역</th>\n",
       "      <th>여행력</th>\n",
       "      <th>접촉력</th>\n",
       "      <th>조치사항</th>\n",
       "      <th>상태</th>\n",
       "      <th>이동경로</th>\n",
       "      <th>등록일</th>\n",
       "      <th>수정일</th>\n",
       "      <th>노출여부</th>\n",
       "    </tr>\n",
       "  </thead>\n",
       "  <tbody>\n",
       "    <tr>\n",
       "      <th>0</th>\n",
       "      <td>5748</td>\n",
       "      <td>10.21.</td>\n",
       "      <td>25530</td>\n",
       "      <td>NaN</td>\n",
       "      <td>NaN</td>\n",
       "      <td>양천구</td>\n",
       "      <td>NaN</td>\n",
       "      <td>감염경로 조사중</td>\n",
       "      <td>NaN</td>\n",
       "      <td>NaN</td>\n",
       "      <td>NaN</td>\n",
       "      <td>2020-10-22 10:58</td>\n",
       "      <td>2020-10-22 10:58</td>\n",
       "      <td>Y</td>\n",
       "    </tr>\n",
       "    <tr>\n",
       "      <th>1</th>\n",
       "      <td>5747</td>\n",
       "      <td>10.21.</td>\n",
       "      <td>25528</td>\n",
       "      <td>NaN</td>\n",
       "      <td>NaN</td>\n",
       "      <td>강동구</td>\n",
       "      <td>NaN</td>\n",
       "      <td>강남서초 지인모임</td>\n",
       "      <td>NaN</td>\n",
       "      <td>NaN</td>\n",
       "      <td>NaN</td>\n",
       "      <td>2020-10-22 10:58</td>\n",
       "      <td>2020-10-22 10:58</td>\n",
       "      <td>Y</td>\n",
       "    </tr>\n",
       "    <tr>\n",
       "      <th>2</th>\n",
       "      <td>5746</td>\n",
       "      <td>10.21.</td>\n",
       "      <td>25525</td>\n",
       "      <td>NaN</td>\n",
       "      <td>NaN</td>\n",
       "      <td>강남구</td>\n",
       "      <td>NaN</td>\n",
       "      <td>기타 확진자 접촉</td>\n",
       "      <td>NaN</td>\n",
       "      <td>NaN</td>\n",
       "      <td>NaN</td>\n",
       "      <td>2020-10-22 10:58</td>\n",
       "      <td>2020-10-22 10:58</td>\n",
       "      <td>Y</td>\n",
       "    </tr>\n",
       "    <tr>\n",
       "      <th>3</th>\n",
       "      <td>5745</td>\n",
       "      <td>10.21.</td>\n",
       "      <td>25517</td>\n",
       "      <td>NaN</td>\n",
       "      <td>NaN</td>\n",
       "      <td>관악구</td>\n",
       "      <td>NaN</td>\n",
       "      <td>감염경로 조사중</td>\n",
       "      <td>NaN</td>\n",
       "      <td>NaN</td>\n",
       "      <td>NaN</td>\n",
       "      <td>2020-10-22 10:58</td>\n",
       "      <td>2020-10-22 10:58</td>\n",
       "      <td>Y</td>\n",
       "    </tr>\n",
       "    <tr>\n",
       "      <th>4</th>\n",
       "      <td>5744</td>\n",
       "      <td>10.21.</td>\n",
       "      <td>25504</td>\n",
       "      <td>NaN</td>\n",
       "      <td>NaN</td>\n",
       "      <td>관악구</td>\n",
       "      <td>NaN</td>\n",
       "      <td>기타 확진자 접촉</td>\n",
       "      <td>NaN</td>\n",
       "      <td>NaN</td>\n",
       "      <td>NaN</td>\n",
       "      <td>2020-10-22 10:58</td>\n",
       "      <td>2020-10-22 10:58</td>\n",
       "      <td>Y</td>\n",
       "    </tr>\n",
       "  </tbody>\n",
       "</table>\n",
       "</div>"
      ],
      "text/plain": [
       "     연번     확진일   환자번호  국적  환자정보   지역  여행력        접촉력  조치사항   상태 이동경로  \\\n",
       "0  5748  10.21.  25530 NaN   NaN  양천구  NaN   감염경로 조사중   NaN  NaN  NaN   \n",
       "1  5747  10.21.  25528 NaN   NaN  강동구  NaN  강남서초 지인모임   NaN  NaN  NaN   \n",
       "2  5746  10.21.  25525 NaN   NaN  강남구  NaN  기타 확진자 접촉   NaN  NaN  NaN   \n",
       "3  5745  10.21.  25517 NaN   NaN  관악구  NaN   감염경로 조사중   NaN  NaN  NaN   \n",
       "4  5744  10.21.  25504 NaN   NaN  관악구  NaN  기타 확진자 접촉   NaN  NaN  NaN   \n",
       "\n",
       "                등록일               수정일 노출여부  \n",
       "0  2020-10-22 10:58  2020-10-22 10:58    Y  \n",
       "1  2020-10-22 10:58  2020-10-22 10:58    Y  \n",
       "2  2020-10-22 10:58  2020-10-22 10:58    Y  \n",
       "3  2020-10-22 10:58  2020-10-22 10:58    Y  \n",
       "4  2020-10-22 10:58  2020-10-22 10:58    Y  "
      ]
     },
     "execution_count": 2,
     "metadata": {},
     "output_type": "execute_result"
    }
   ],
   "source": [
    "# 상위 5개의 데이터를 출력\n",
    "corona_all_data = pd.read_csv(\"./Seoul_Covid.csv\")\n",
    "corona_all_data.head()"
   ]
  },
  {
   "cell_type": "code",
   "execution_count": 3,
   "id": "88b191e1",
   "metadata": {},
   "outputs": [
    {
     "name": "stdout",
     "output_type": "stream",
     "text": [
      "<class 'pandas.core.frame.DataFrame'>\n",
      "RangeIndex: 5748 entries, 0 to 5747\n",
      "Data columns (total 14 columns):\n",
      " #   Column  Non-Null Count  Dtype  \n",
      "---  ------  --------------  -----  \n",
      " 0   연번      5748 non-null   int64  \n",
      " 1   확진일     5748 non-null   object \n",
      " 2   환자번호    5748 non-null   int64  \n",
      " 3   국적      0 non-null      float64\n",
      " 4   환자정보    0 non-null      float64\n",
      " 5   지역      5748 non-null   object \n",
      " 6   여행력     459 non-null    object \n",
      " 7   접촉력     5748 non-null   object \n",
      " 8   조치사항    0 non-null      float64\n",
      " 9   상태      5357 non-null   object \n",
      " 10  이동경로    5520 non-null   object \n",
      " 11  등록일     5748 non-null   object \n",
      " 12  수정일     5748 non-null   object \n",
      " 13  노출여부    5748 non-null   object \n",
      "dtypes: float64(3), int64(2), object(9)\n",
      "memory usage: 628.8+ KB\n"
     ]
    }
   ],
   "source": [
    "# data frame 정보를 요약하여 출력\n",
    "corona_all_data.info()"
   ]
  },
  {
   "cell_type": "markdown",
   "id": "285433dd",
   "metadata": {},
   "source": [
    "---"
   ]
  },
  {
   "cell_type": "markdown",
   "id": "685ad563",
   "metadata": {},
   "source": [
    "## 2. 데이터 정제하기"
   ]
  },
  {
   "cell_type": "code",
   "execution_count": 4,
   "id": "c42f6ed2",
   "metadata": {},
   "outputs": [
    {
     "name": "stdout",
     "output_type": "stream",
     "text": [
      "<class 'pandas.core.frame.DataFrame'>\n",
      "RangeIndex: 5748 entries, 0 to 5747\n",
      "Data columns (total 11 columns):\n",
      " #   Column  Non-Null Count  Dtype \n",
      "---  ------  --------------  ----- \n",
      " 0   연번      5748 non-null   int64 \n",
      " 1   확진일     5748 non-null   object\n",
      " 2   환자번호    5748 non-null   int64 \n",
      " 3   지역      5748 non-null   object\n",
      " 4   여행력     459 non-null    object\n",
      " 5   접촉력     5748 non-null   object\n",
      " 6   상태      5357 non-null   object\n",
      " 7   이동경로    5520 non-null   object\n",
      " 8   등록일     5748 non-null   object\n",
      " 9   수정일     5748 non-null   object\n",
      " 10  노출여부    5748 non-null   object\n",
      "dtypes: int64(2), object(9)\n",
      "memory usage: 494.1+ KB\n"
     ]
    }
   ],
   "source": [
    "corona_del_data = corona_all_data.drop(columns=['국적','환자정보','조치사항'])\n",
    "corona_del_data.info()"
   ]
  },
  {
   "cell_type": "markdown",
   "id": "99cba386",
   "metadata": {},
   "source": [
    "---"
   ]
  },
  {
   "cell_type": "markdown",
   "id": "28c9bd37",
   "metadata": {},
   "source": [
    "## 3. 데이터 시각화"
   ]
  },
  {
   "cell_type": "code",
   "execution_count": 5,
   "id": "b34ac941",
   "metadata": {},
   "outputs": [
    {
     "data": {
      "text/plain": [
       "0       10.21.\n",
       "1       10.21.\n",
       "2       10.21.\n",
       "3       10.21.\n",
       "4       10.21.\n",
       "         ...  \n",
       "5743     1.31.\n",
       "5744     1.30.\n",
       "5745     1.30.\n",
       "5746     1.30.\n",
       "5747     1.24.\n",
       "Name: 확진일, Length: 5748, dtype: object"
      ]
     },
     "execution_count": 5,
     "metadata": {},
     "output_type": "execute_result"
    }
   ],
   "source": [
    "# 월별 일별 확진자 분석을 위해 날짜 데이터를 나누기\n",
    "corona_del_data['확진일']"
   ]
  },
  {
   "cell_type": "code",
   "execution_count": 6,
   "id": "1c8006df",
   "metadata": {},
   "outputs": [],
   "source": [
    "def li_head(s, n):\n",
    "    for i in range(n):\n",
    "        print(s[i], end=\" \")"
   ]
  },
  {
   "cell_type": "code",
   "execution_count": 7,
   "id": "696beedc",
   "metadata": {},
   "outputs": [
    {
     "name": "stdout",
     "output_type": "stream",
     "text": [
      "10 10 10 10 10 \n",
      "21 21 21 21 21 "
     ]
    }
   ],
   "source": [
    "month = []\n",
    "day = []\n",
    "\n",
    "for data in corona_del_data['확진일']:\n",
    "    month.append(data.split('.')[0])\n",
    "    day.append(data.split('.')[1])\n",
    "\n",
    "\n",
    "\n",
    "li_head(month,5)\n",
    "print()\n",
    "li_head(day,5)"
   ]
  },
  {
   "cell_type": "code",
   "execution_count": 8,
   "id": "5ab8e554",
   "metadata": {},
   "outputs": [
    {
     "data": {
      "text/plain": [
       "0       21\n",
       "1       21\n",
       "2       21\n",
       "3       21\n",
       "4       21\n",
       "        ..\n",
       "5743    31\n",
       "5744    30\n",
       "5745    30\n",
       "5746    30\n",
       "5747    24\n",
       "Name: day, Length: 5748, dtype: int64"
      ]
     },
     "execution_count": 8,
     "metadata": {},
     "output_type": "execute_result"
    }
   ],
   "source": [
    "corona_del_data['month'] = month\n",
    "corona_del_data['day'] = day\n",
    "\n",
    "corona_del_data['month'].astype('int64')\n",
    "corona_del_data['day'].astype('int64')"
   ]
  },
  {
   "cell_type": "markdown",
   "id": "6ea3d39f",
   "metadata": {},
   "source": [
    "---\n",
    "\n",
    "#### 월 별 확진자 수\n",
    "\n",
    "Seaborn은 Matplotlib을 기반으로 다양한 색상 테마와 통계용 차트 등의 기능을 추가한 시각화 패키지이다. \n",
    "기본적인 시각화 기능은 Matplotlib 패키지에 의존하며 통계 기능은 Statsmodels 패키지에 의존한다."
   ]
  },
  {
   "cell_type": "code",
   "execution_count": 9,
   "id": "475205b1",
   "metadata": {},
   "outputs": [
    {
     "data": {
      "text/plain": [
       "['1', '2', '3', '4', '5', '6', '7', '8', '9', '10']"
      ]
     },
     "execution_count": 9,
     "metadata": {},
     "output_type": "execute_result"
    }
   ],
   "source": [
    "order = []\n",
    "for i in range(1,11):\n",
    "    order.append(str(i))\n",
    "order"
   ]
  },
  {
   "cell_type": "code",
   "execution_count": 10,
   "id": "982271e7",
   "metadata": {},
   "outputs": [
    {
     "data": {
      "image/png": "[encoded data removed]",
      "text/plain": [
       "<Figure size 720x360 with 1 Axes>"
      ]
     },
     "metadata": {
      "needs_background": "light"
     },
     "output_type": "display_data"
    }
   ],
   "source": [
    "plt.figure(figsize=(10,5))\n",
    "sns.set(style='darkgrid')\n",
    "ax = sns.countplot(x='month', data = corona_del_data, palette=\"Set2\", order = order)"
   ]
  },
  {
   "cell_type": "code",
   "execution_count": 11,
   "id": "795d7131",
   "metadata": {},
   "outputs": [
    {
     "data": {
      "text/plain": [
       "<AxesSubplot:>"
      ]
     },
     "execution_count": 11,
     "metadata": {},
     "output_type": "execute_result"
    },
    {
     "data": {
      "image/png": "[encoded data removed]",
      "text/plain": [
       "<Figure size 432x288 with 1 Axes>"
      ]
     },
     "metadata": {},
     "output_type": "display_data"
    }
   ],
   "source": [
    "# series의 plot 함수를 이용한 출력 방법\n",
    "corona_del_data['month'].value_counts().plot(kind='bar')"
   ]
  },
  {
   "cell_type": "code",
   "execution_count": 12,
   "id": "1cb622b2",
   "metadata": {},
   "outputs": [
    {
     "data": {
      "text/plain": [
       "8     2416\n",
       "9     1304\n",
       "6      460\n",
       "10     425\n",
       "3      391\n",
       "7      281\n",
       "5      228\n",
       "4      156\n",
       "2       80\n",
       "1        7\n",
       "Name: month, dtype: int64"
      ]
     },
     "execution_count": 12,
     "metadata": {},
     "output_type": "execute_result"
    }
   ],
   "source": [
    "corona_del_data['month'].value_counts()"
   ]
  },
  {
   "cell_type": "markdown",
   "id": "f9f7fbaa",
   "metadata": {},
   "source": [
    "---\n",
    "\n",
    "#### 8월달 일별 확진자 수"
   ]
  },
  {
   "cell_type": "code",
   "execution_count": 13,
   "id": "111de079",
   "metadata": {},
   "outputs": [
    {
     "data": {
      "text/plain": [
       "['1',\n",
       " '2',\n",
       " '3',\n",
       " '4',\n",
       " '5',\n",
       " '6',\n",
       " '7',\n",
       " '8',\n",
       " '9',\n",
       " '10',\n",
       " '11',\n",
       " '12',\n",
       " '13',\n",
       " '14',\n",
       " '15',\n",
       " '16',\n",
       " '17',\n",
       " '18',\n",
       " '19',\n",
       " '20',\n",
       " '21',\n",
       " '22',\n",
       " '23',\n",
       " '24',\n",
       " '25',\n",
       " '26',\n",
       " '27',\n",
       " '28',\n",
       " '29',\n",
       " '30',\n",
       " '31']"
      ]
     },
     "execution_count": 13,
     "metadata": {},
     "output_type": "execute_result"
    }
   ],
   "source": [
    "order2=[]\n",
    "for i in range(1,32):\n",
    "    order2.append(str(i))\n",
    "order2"
   ]
  },
  {
   "cell_type": "code",
   "execution_count": 14,
   "id": "e83f75d8",
   "metadata": {},
   "outputs": [
    {
     "data": {
      "image/png": "[encoded data removed]",
      "text/plain": [
       "<Figure size 1440x720 with 1 Axes>"
      ]
     },
     "metadata": {},
     "output_type": "display_data"
    }
   ],
   "source": [
    "plt.figure(figsize=(20,10))\n",
    "sns.set(style='darkgrid')\n",
    "# ax = sns.countplot(x='day', data=corona_del_data[corona_del_data[\"month\"] == '8'], \n",
    "#                    palette=\"Set2\", order=order2)\n",
    "ax2 = sns.countplot(x='day', data=corona_del_data[corona_del_data[\"month\"] == '8'], \n",
    "                   palette=\"rocket_r\", order=order2)"
   ]
  },
  {
   "cell_type": "markdown",
   "id": "778c225b",
   "metadata": {},
   "source": [
    "---\n",
    "#### 8월 평균 일별 확진자 수"
   ]
  },
  {
   "cell_type": "code",
   "execution_count": 15,
   "id": "fd18a068",
   "metadata": {},
   "outputs": [
    {
     "data": {
      "text/plain": [
       "77.93548387096774"
      ]
     },
     "execution_count": 15,
     "metadata": {},
     "output_type": "execute_result"
    }
   ],
   "source": [
    "corona_del_data[corona_del_data['month']=='8']['day'].count()/31"
   ]
  },
  {
   "cell_type": "code",
   "execution_count": 16,
   "id": "3a94f2f9",
   "metadata": {},
   "outputs": [
    {
     "data": {
      "text/plain": [
       "77.93548387096774"
      ]
     },
     "execution_count": 16,
     "metadata": {},
     "output_type": "execute_result"
    }
   ],
   "source": [
    "corona_del_data[corona_del_data['month']=='8']['day'].value_counts().mean()"
   ]
  },
  {
   "cell_type": "markdown",
   "id": "6bad8b10",
   "metadata": {},
   "source": [
    "#### 지역별 확진자 수"
   ]
  },
  {
   "cell_type": "code",
   "execution_count": 17,
   "id": "0943168c",
   "metadata": {},
   "outputs": [
    {
     "data": {
      "text/plain": [
       "0       양천구\n",
       "1       강동구\n",
       "2       강남구\n",
       "3       관악구\n",
       "4       관악구\n",
       "       ... \n",
       "5743    성북구\n",
       "5744    마포구\n",
       "5745    종로구\n",
       "5746    중랑구\n",
       "5747    강서구\n",
       "Name: 지역, Length: 5748, dtype: object"
      ]
     },
     "execution_count": 17,
     "metadata": {},
     "output_type": "execute_result"
    }
   ],
   "source": [
    "corona_del_data['지역']"
   ]
  },
  {
   "cell_type": "code",
   "execution_count": 18,
   "id": "5ab48896",
   "metadata": {},
   "outputs": [],
   "source": [
    "import matplotlib.font_manager as fm\n",
    "font_dirs = ['/usr/share/fonts/truetype/nanum', ]\n",
    "font_files = fm.findSystemFonts(fontpaths=font_dirs)\n",
    "\n",
    "for font_file in font_files:\n",
    "    fm.fontManager.addfont(font_file)"
   ]
  },
  {
   "cell_type": "code",
   "execution_count": 19,
   "id": "536ed2a2",
   "metadata": {},
   "outputs": [
    {
     "data": {
      "image/png": "[encoded data removed]",
      "text/plain": [
       "<Figure size 1440x720 with 1 Axes>"
      ]
     },
     "metadata": {},
     "output_type": "display_data"
    }
   ],
   "source": [
    "plt.figure(figsize=(20,10))\n",
    "\n",
    "sns.set(font=\"NanumBarunGothic\", \n",
    "        rc={\"axes.unicode_minus\":False},\n",
    "        style='darkgrid')\n",
    "ax = sns.countplot(x=\"지역\", data=corona_del_data, palette=\"Set2\")\n",
    "plt.xlabel('지역')\n",
    "plt.ylabel('확진자 수')\n",
    "plt.title(\"서울시 지역별 확진자 수\")\n",
    "plt.show()"
   ]
  },
  {
   "cell_type": "markdown",
   "id": "2421dd98",
   "metadata": {},
   "source": [
    "한국이라고 쓰여있는 이상 데이터 삭제\n",
    "종랑구 -> 중랑구 오타 수정"
   ]
  },
  {
   "cell_type": "code",
   "execution_count": 20,
   "id": "f16ffb0c",
   "metadata": {},
   "outputs": [],
   "source": [
    "corona_area = corona_del_data.replace({\"종랑구\":\"중랑구\", \"한국\":\"기타\"})"
   ]
  },
  {
   "cell_type": "code",
   "execution_count": 21,
   "id": "14c63d8a",
   "metadata": {},
   "outputs": [
    {
     "data": {
      "image/png": "[encoded data removed]",
      "text/plain": [
       "<Figure size 1440x720 with 1 Axes>"
      ]
     },
     "metadata": {},
     "output_type": "display_data"
    }
   ],
   "source": [
    "plt.figure(figsize=(20,10))\n",
    "ax = sns.countplot(x=\"지역\", data=corona_area, palette=\"Set2\")\n",
    "plt.xlabel('지역')\n",
    "plt.ylabel('확진자 수')\n",
    "plt.title(\"서울시 지역별 확진자 수\")\n",
    "plt.show()"
   ]
  },
  {
   "cell_type": "code",
   "execution_count": 22,
   "id": "80b27cb3",
   "metadata": {},
   "outputs": [
    {
     "data": {
      "text/html": [
       "<div>\n",
       "<style scoped>\n",
       "    .dataframe tbody tr th:only-of-type {\n",
       "        vertical-align: middle;\n",
       "    }\n",
       "\n",
       "    .dataframe tbody tr th {\n",
       "        vertical-align: top;\n",
       "    }\n",
       "\n",
       "    .dataframe thead th {\n",
       "        text-align: right;\n",
       "    }\n",
       "</style>\n",
       "<table border=\"1\" class=\"dataframe\">\n",
       "  <thead>\n",
       "    <tr style=\"text-align: right;\">\n",
       "      <th></th>\n",
       "      <th>연번</th>\n",
       "      <th>확진일</th>\n",
       "      <th>환자번호</th>\n",
       "      <th>지역</th>\n",
       "      <th>여행력</th>\n",
       "      <th>접촉력</th>\n",
       "      <th>상태</th>\n",
       "      <th>이동경로</th>\n",
       "      <th>등록일</th>\n",
       "      <th>수정일</th>\n",
       "      <th>노출여부</th>\n",
       "      <th>month</th>\n",
       "      <th>day</th>\n",
       "    </tr>\n",
       "  </thead>\n",
       "  <tbody>\n",
       "    <tr>\n",
       "      <th>1271</th>\n",
       "      <td>4477</td>\n",
       "      <td>8.31.</td>\n",
       "      <td>20132</td>\n",
       "      <td>타시도</td>\n",
       "      <td>NaN</td>\n",
       "      <td>감염경로 조사중</td>\n",
       "      <td>퇴원</td>\n",
       "      <td>이동경로 공개기간 경과</td>\n",
       "      <td>2020-10-22 10:58</td>\n",
       "      <td>2020-10-23 9:00</td>\n",
       "      <td>Y</td>\n",
       "      <td>8</td>\n",
       "      <td>31</td>\n",
       "    </tr>\n",
       "    <tr>\n",
       "      <th>1272</th>\n",
       "      <td>4476</td>\n",
       "      <td>8.25.</td>\n",
       "      <td>17968</td>\n",
       "      <td>타시도</td>\n",
       "      <td>NaN</td>\n",
       "      <td>성북구 사랑제일교회 관련</td>\n",
       "      <td>NaN</td>\n",
       "      <td>이동경로 공개기간 경과</td>\n",
       "      <td>2020-10-22 10:58</td>\n",
       "      <td>2020-10-23 9:00</td>\n",
       "      <td>Y</td>\n",
       "      <td>8</td>\n",
       "      <td>25</td>\n",
       "    </tr>\n",
       "    <tr>\n",
       "      <th>1273</th>\n",
       "      <td>4475</td>\n",
       "      <td>8.26.</td>\n",
       "      <td>18821</td>\n",
       "      <td>타시도</td>\n",
       "      <td>NaN</td>\n",
       "      <td>타시도 확진자 접촉</td>\n",
       "      <td>퇴원</td>\n",
       "      <td>이동경로 공개기간 경과</td>\n",
       "      <td>2020-10-22 10:58</td>\n",
       "      <td>2020-10-23 9:00</td>\n",
       "      <td>Y</td>\n",
       "      <td>8</td>\n",
       "      <td>26</td>\n",
       "    </tr>\n",
       "    <tr>\n",
       "      <th>1274</th>\n",
       "      <td>4474</td>\n",
       "      <td>8.27.</td>\n",
       "      <td>18818</td>\n",
       "      <td>타시도</td>\n",
       "      <td>NaN</td>\n",
       "      <td>기타 확진자 접촉</td>\n",
       "      <td>퇴원</td>\n",
       "      <td>이동경로 공개기간 경과</td>\n",
       "      <td>2020-10-22 10:58</td>\n",
       "      <td>2020-10-23 9:00</td>\n",
       "      <td>Y</td>\n",
       "      <td>8</td>\n",
       "      <td>27</td>\n",
       "    </tr>\n",
       "    <tr>\n",
       "      <th>1504</th>\n",
       "      <td>4244</td>\n",
       "      <td>8.30.</td>\n",
       "      <td>20116</td>\n",
       "      <td>타시도</td>\n",
       "      <td>NaN</td>\n",
       "      <td>감염경로 조사중</td>\n",
       "      <td>퇴원</td>\n",
       "      <td>이동경로 공개기간 경과</td>\n",
       "      <td>2020-10-22 10:58</td>\n",
       "      <td>2020-10-23 9:00</td>\n",
       "      <td>Y</td>\n",
       "      <td>8</td>\n",
       "      <td>30</td>\n",
       "    </tr>\n",
       "    <tr>\n",
       "      <th>...</th>\n",
       "      <td>...</td>\n",
       "      <td>...</td>\n",
       "      <td>...</td>\n",
       "      <td>...</td>\n",
       "      <td>...</td>\n",
       "      <td>...</td>\n",
       "      <td>...</td>\n",
       "      <td>...</td>\n",
       "      <td>...</td>\n",
       "      <td>...</td>\n",
       "      <td>...</td>\n",
       "      <td>...</td>\n",
       "      <td>...</td>\n",
       "    </tr>\n",
       "    <tr>\n",
       "      <th>4140</th>\n",
       "      <td>1608</td>\n",
       "      <td>8.2.</td>\n",
       "      <td>14382</td>\n",
       "      <td>용산구</td>\n",
       "      <td>일본</td>\n",
       "      <td>해외 접촉 추정</td>\n",
       "      <td>퇴원</td>\n",
       "      <td>이동경로 공개기간 경과</td>\n",
       "      <td>2020-10-22 10:58</td>\n",
       "      <td>2020-10-23 9:00</td>\n",
       "      <td>Y</td>\n",
       "      <td>8</td>\n",
       "      <td>2</td>\n",
       "    </tr>\n",
       "    <tr>\n",
       "      <th>4141</th>\n",
       "      <td>1607</td>\n",
       "      <td>8.1.</td>\n",
       "      <td>14364</td>\n",
       "      <td>양천구</td>\n",
       "      <td>NaN</td>\n",
       "      <td>송파구 확진자 접촉</td>\n",
       "      <td>퇴원</td>\n",
       "      <td>이동경로 공개기간 경과</td>\n",
       "      <td>2020-10-22 10:58</td>\n",
       "      <td>2020-10-23 9:00</td>\n",
       "      <td>Y</td>\n",
       "      <td>8</td>\n",
       "      <td>1</td>\n",
       "    </tr>\n",
       "    <tr>\n",
       "      <th>4142</th>\n",
       "      <td>1606</td>\n",
       "      <td>8.1.</td>\n",
       "      <td>14362</td>\n",
       "      <td>종로구</td>\n",
       "      <td>NaN</td>\n",
       "      <td>종로구 지인모임 신명투자</td>\n",
       "      <td>퇴원</td>\n",
       "      <td>이동경로 공개기간 경과</td>\n",
       "      <td>2020-10-22 10:58</td>\n",
       "      <td>2020-10-23 9:00</td>\n",
       "      <td>Y</td>\n",
       "      <td>8</td>\n",
       "      <td>1</td>\n",
       "    </tr>\n",
       "    <tr>\n",
       "      <th>4144</th>\n",
       "      <td>1604</td>\n",
       "      <td>8.1.</td>\n",
       "      <td>14366</td>\n",
       "      <td>강서구</td>\n",
       "      <td>NaN</td>\n",
       "      <td>강서구 요양시설관련</td>\n",
       "      <td>퇴원</td>\n",
       "      <td>이동경로 공개기간 경과</td>\n",
       "      <td>2020-10-22 10:58</td>\n",
       "      <td>2020-10-23 9:00</td>\n",
       "      <td>Y</td>\n",
       "      <td>8</td>\n",
       "      <td>1</td>\n",
       "    </tr>\n",
       "    <tr>\n",
       "      <th>4145</th>\n",
       "      <td>1603</td>\n",
       "      <td>8.1.</td>\n",
       "      <td>14365</td>\n",
       "      <td>강서구</td>\n",
       "      <td>NaN</td>\n",
       "      <td>강서구 요양시설관련</td>\n",
       "      <td>퇴원</td>\n",
       "      <td>이동경로 공개기간 경과</td>\n",
       "      <td>2020-10-22 10:58</td>\n",
       "      <td>2020-10-23 9:00</td>\n",
       "      <td>Y</td>\n",
       "      <td>8</td>\n",
       "      <td>1</td>\n",
       "    </tr>\n",
       "  </tbody>\n",
       "</table>\n",
       "<p>2416 rows × 13 columns</p>\n",
       "</div>"
      ],
      "text/plain": [
       "        연번    확진일   환자번호   지역  여행력            접촉력   상태          이동경로  \\\n",
       "1271  4477  8.31.  20132  타시도  NaN       감염경로 조사중   퇴원  이동경로 공개기간 경과   \n",
       "1272  4476  8.25.  17968  타시도  NaN  성북구 사랑제일교회 관련  NaN  이동경로 공개기간 경과   \n",
       "1273  4475  8.26.  18821  타시도  NaN     타시도 확진자 접촉   퇴원  이동경로 공개기간 경과   \n",
       "1274  4474  8.27.  18818  타시도  NaN      기타 확진자 접촉   퇴원  이동경로 공개기간 경과   \n",
       "1504  4244  8.30.  20116  타시도  NaN       감염경로 조사중   퇴원  이동경로 공개기간 경과   \n",
       "...    ...    ...    ...  ...  ...            ...  ...           ...   \n",
       "4140  1608   8.2.  14382  용산구   일본       해외 접촉 추정   퇴원  이동경로 공개기간 경과   \n",
       "4141  1607   8.1.  14364  양천구  NaN     송파구 확진자 접촉   퇴원  이동경로 공개기간 경과   \n",
       "4142  1606   8.1.  14362  종로구  NaN  종로구 지인모임 신명투자   퇴원  이동경로 공개기간 경과   \n",
       "4144  1604   8.1.  14366  강서구  NaN     강서구 요양시설관련   퇴원  이동경로 공개기간 경과   \n",
       "4145  1603   8.1.  14365  강서구  NaN     강서구 요양시설관련   퇴원  이동경로 공개기간 경과   \n",
       "\n",
       "                   등록일              수정일 노출여부 month day  \n",
       "1271  2020-10-22 10:58  2020-10-23 9:00    Y     8  31  \n",
       "1272  2020-10-22 10:58  2020-10-23 9:00    Y     8  25  \n",
       "1273  2020-10-22 10:58  2020-10-23 9:00    Y     8  26  \n",
       "1274  2020-10-22 10:58  2020-10-23 9:00    Y     8  27  \n",
       "1504  2020-10-22 10:58  2020-10-23 9:00    Y     8  30  \n",
       "...                ...              ...  ...   ...  ..  \n",
       "4140  2020-10-22 10:58  2020-10-23 9:00    Y     8   2  \n",
       "4141  2020-10-22 10:58  2020-10-23 9:00    Y     8   1  \n",
       "4142  2020-10-22 10:58  2020-10-23 9:00    Y     8   1  \n",
       "4144  2020-10-22 10:58  2020-10-23 9:00    Y     8   1  \n",
       "4145  2020-10-22 10:58  2020-10-23 9:00    Y     8   1  \n",
       "\n",
       "[2416 rows x 13 columns]"
      ]
     },
     "execution_count": 22,
     "metadata": {},
     "output_type": "execute_result"
    }
   ],
   "source": [
    "corona_area[corona_del_data['month'] == '8']"
   ]
  },
  {
   "cell_type": "code",
   "execution_count": 23,
   "id": "67580bb7",
   "metadata": {},
   "outputs": [
    {
     "data": {
      "image/png": "[encoded data removed]",
      "text/plain": [
       "<Figure size 1440x720 with 1 Axes>"
      ]
     },
     "metadata": {},
     "output_type": "display_data"
    }
   ],
   "source": [
    "plt.figure(figsize=(20,10))\n",
    "ax = sns.countplot(x=\"지역\", data= corona_area[corona_del_data['month']=='8'], palette=\"Set2\") \n",
    "plt.xlabel('지역')\n",
    "plt.ylabel('확진자 수')\n",
    "plt.title(\"8월 서울시 지역별 확진자 수\")\n",
    "plt.show()"
   ]
  },
  {
   "cell_type": "markdown",
   "id": "33b86783",
   "metadata": {},
   "source": [
    "관악구의 확진자 수가 가장 많았다. \n",
    "월별 증가율을 그래프로 그려보자."
   ]
  },
  {
   "cell_type": "code",
   "execution_count": 24,
   "id": "5c12d7c7",
   "metadata": {},
   "outputs": [
    {
     "data": {
      "text/plain": [
       "3       10\n",
       "4       10\n",
       "6       10\n",
       "7       10\n",
       "8       10\n",
       "        ..\n",
       "5630     3\n",
       "5661     2\n",
       "5674     2\n",
       "5695     2\n",
       "5711     2\n",
       "Name: month, Length: 452, dtype: object"
      ]
     },
     "execution_count": 24,
     "metadata": {},
     "output_type": "execute_result"
    }
   ],
   "source": [
    "corona_area['month'][corona_area['지역'] == \"관악구\"]"
   ]
  },
  {
   "cell_type": "code",
   "execution_count": 25,
   "id": "dc86d86b",
   "metadata": {},
   "outputs": [
    {
     "data": {
      "image/png": "[encoded data removed]",
      "text/plain": [
       "<Figure size 720x360 with 1 Axes>"
      ]
     },
     "metadata": {},
     "output_type": "display_data"
    }
   ],
   "source": [
    "plt.figure(figsize=(10,5))\n",
    "sns.set(font=\"NanumBarunGothic\", \n",
    "        rc={\"axes.unicode_minus\":False},\n",
    "        style='darkgrid')\n",
    "ax = sns.countplot(x=\"month\", data = corona_area[corona_area[\"지역\"]==\"관악구\"], \n",
    "                   palette=\"Set2\", order = order)\n",
    "plt.xlabel(\"월\")\n",
    "plt.ylabel(\"확진자 수\")\n",
    "plt.title(\"월별 서울시 관악구 확진자 수\")\n",
    "plt.show()"
   ]
  },
  {
   "cell_type": "code",
   "execution_count": 26,
   "id": "0516cb9a",
   "metadata": {
    "scrolled": true
   },
   "outputs": [
    {
     "data": {
      "text/html": [
       "<div style=\"width:100%;\"><div style=\"position:relative;width:100%;height:0;padding-bottom:60%;\"><span style=\"color:#565656\">Make this Notebook Trusted to load map: File -> Trust Notebook</span><iframe src=\"about:blank\" style=\"position:absolute;width:100%;height:100%;left:0;top:0;border:none !important;\" data-html=%3C%21DOCTYPE%20html%3E%0A%3Chead%3E%20%20%20%20%0A%20%20%20%20%3Cmeta%20http-equiv%3D%22content-type%22%20content%3D%22text/html%3B%20charset%3DUTF-8%22%20/%3E%0A%20%20%20%20%0A%20%20%20%20%20%20%20%20%3Cscript%3E%0A%20%20%20%20%20%20%20%20%20%20%20%20L_NO_TOUCH%20%3D%20false%3B%0A%20%20%20%20%20%20%20%20%20%20%20%20L_DISABLE_3D%20%3D%20false%3B%0A%20%20%20%20%20%20%20%20%3C/script%3E%0A%20%20%20%20%0A%20%20%20%20%3Cstyle%3Ehtml%2C%20body%20%7Bwidth%3A%20100%25%3Bheight%3A%20100%25%3Bmargin%3A%200%3Bpadding%3A%200%3B%7D%3C/style%3E%0A%20%20%20%20%3Cstyle%3E%23map%20%7Bposition%3Aabsolute%3Btop%3A0%3Bbottom%3A0%3Bright%3A0%3Bleft%3A0%3B%7D%3C/style%3E%0A%20%20%20%20%3Cscript%20src%3D%22https%3A//cdn.jsdelivr.net/npm/leaflet%401.6.0/dist/leaflet.js%22%3E%3C/script%3E%0A%20%20%20%20%3Cscript%20src%3D%22https%3A//code.jquery.com/jquery-1.12.4.min.js%22%3E%3C/script%3E%0A%20%20%20%20%3Cscript%20src%3D%22https%3A//maxcdn.bootstrapcdn.com/bootstrap/3.2.0/js/bootstrap.min.js%22%3E%3C/script%3E%0A%20%20%20%20%3Cscript%20src%3D%22https%3A//cdnjs.cloudflare.com/ajax/libs/Leaflet.awesome-markers/2.0.2/leaflet.awesome-markers.js%22%3E%3C/script%3E%0A%20%20%20%20%3Clink%20rel%3D%22stylesheet%22%20href%3D%22https%3A//cdn.jsdelivr.net/npm/leaflet%401.6.0/dist/leaflet.css%22/%3E%0A%20%20%20%20%3Clink%20rel%3D%22stylesheet%22%20href%3D%22https%3A//maxcdn.bootstrapcdn.com/bootstrap/3.2.0/css/bootstrap.min.css%22/%3E%0A%20%20%20%20%3Clink%20rel%3D%22stylesheet%22%20href%3D%22https%3A//maxcdn.bootstrapcdn.com/bootstrap/3.2.0/css/bootstrap-theme.min.css%22/%3E%0A%20%20%20%20%3Clink%20rel%3D%22stylesheet%22%20href%3D%22https%3A//maxcdn.bootstrapcdn.com/font-awesome/4.6.3/css/font-awesome.min.css%22/%3E%0A%20%20%20%20%3Clink%20rel%3D%22stylesheet%22%20href%3D%22https%3A//cdnjs.cloudflare.com/ajax/libs/Leaflet.awesome-markers/2.0.2/leaflet.awesome-markers.css%22/%3E%0A%20%20%20%20%3Clink%20rel%3D%22stylesheet%22%20href%3D%22https%3A//cdn.jsdelivr.net/gh/python-visualization/folium/folium/templates/leaflet.awesome.rotate.min.css%22/%3E%0A%20%20%20%20%0A%20%20%20%20%20%20%20%20%20%20%20%20%3Cmeta%20name%3D%22viewport%22%20content%3D%22width%3Ddevice-width%2C%0A%20%20%20%20%20%20%20%20%20%20%20%20%20%20%20%20initial-scale%3D1.0%2C%20maximum-scale%3D1.0%2C%20user-scalable%3Dno%22%20/%3E%0A%20%20%20%20%20%20%20%20%20%20%20%20%3Cstyle%3E%0A%20%20%20%20%20%20%20%20%20%20%20%20%20%20%20%20%23map_cae36b3faf134205acf9bf2c0b2306ed%20%7B%0A%20%20%20%20%20%20%20%20%20%20%20%20%20%20%20%20%20%20%20%20position%3A%20relative%3B%0A%20%20%20%20%20%20%20%20%20%20%20%20%20%20%20%20%20%20%20%20width%3A%20100.0%25%3B%0A%20%20%20%20%20%20%20%20%20%20%20%20%20%20%20%20%20%20%20%20height%3A%20100.0%25%3B%0A%20%20%20%20%20%20%20%20%20%20%20%20%20%20%20%20%20%20%20%20left%3A%200.0%25%3B%0A%20%20%20%20%20%20%20%20%20%20%20%20%20%20%20%20%20%20%20%20top%3A%200.0%25%3B%0A%20%20%20%20%20%20%20%20%20%20%20%20%20%20%20%20%7D%0A%20%20%20%20%20%20%20%20%20%20%20%20%3C/style%3E%0A%20%20%20%20%20%20%20%20%0A%3C/head%3E%0A%3Cbody%3E%20%20%20%20%0A%20%20%20%20%0A%20%20%20%20%20%20%20%20%20%20%20%20%3Cdiv%20class%3D%22folium-map%22%20id%3D%22map_cae36b3faf134205acf9bf2c0b2306ed%22%20%3E%3C/div%3E%0A%20%20%20%20%20%20%20%20%0A%3C/body%3E%0A%3Cscript%3E%20%20%20%20%0A%20%20%20%20%0A%20%20%20%20%20%20%20%20%20%20%20%20var%20map_cae36b3faf134205acf9bf2c0b2306ed%20%3D%20L.map%28%0A%20%20%20%20%20%20%20%20%20%20%20%20%20%20%20%20%22map_cae36b3faf134205acf9bf2c0b2306ed%22%2C%0A%20%20%20%20%20%20%20%20%20%20%20%20%20%20%20%20%7B%0A%20%20%20%20%20%20%20%20%20%20%20%20%20%20%20%20%20%20%20%20center%3A%20%5B37.529622%2C%20126.984307%5D%2C%0A%20%20%20%20%20%20%20%20%20%20%20%20%20%20%20%20%20%20%20%20crs%3A%20L.CRS.EPSG3857%2C%0A%20%20%20%20%20%20%20%20%20%20%20%20%20%20%20%20%20%20%20%20zoom%3A%2011%2C%0A%20%20%20%20%20%20%20%20%20%20%20%20%20%20%20%20%20%20%20%20zoomControl%3A%20true%2C%0A%20%20%20%20%20%20%20%20%20%20%20%20%20%20%20%20%20%20%20%20preferCanvas%3A%20false%2C%0A%20%20%20%20%20%20%20%20%20%20%20%20%20%20%20%20%7D%0A%20%20%20%20%20%20%20%20%20%20%20%20%29%3B%0A%0A%20%20%20%20%20%20%20%20%20%20%20%20%0A%0A%20%20%20%20%20%20%20%20%0A%20%20%20%20%0A%20%20%20%20%20%20%20%20%20%20%20%20var%20tile_layer_6797cf1e583046b2bf71412520eb5b9a%20%3D%20L.tileLayer%28%0A%20%20%20%20%20%20%20%20%20%20%20%20%20%20%20%20%22https%3A//%7Bs%7D.tile.openstreetmap.org/%7Bz%7D/%7Bx%7D/%7By%7D.png%22%2C%0A%20%20%20%20%20%20%20%20%20%20%20%20%20%20%20%20%7B%22attribution%22%3A%20%22Data%20by%20%5Cu0026copy%3B%20%5Cu003ca%20href%3D%5C%22http%3A//openstreetmap.org%5C%22%5Cu003eOpenStreetMap%5Cu003c/a%5Cu003e%2C%20under%20%5Cu003ca%20href%3D%5C%22http%3A//www.openstreetmap.org/copyright%5C%22%5Cu003eODbL%5Cu003c/a%5Cu003e.%22%2C%20%22detectRetina%22%3A%20false%2C%20%22maxNativeZoom%22%3A%2018%2C%20%22maxZoom%22%3A%2018%2C%20%22minZoom%22%3A%200%2C%20%22noWrap%22%3A%20false%2C%20%22opacity%22%3A%201%2C%20%22subdomains%22%3A%20%22abc%22%2C%20%22tms%22%3A%20false%7D%0A%20%20%20%20%20%20%20%20%20%20%20%20%29.addTo%28map_cae36b3faf134205acf9bf2c0b2306ed%29%3B%0A%20%20%20%20%20%20%20%20%0A%3C/script%3E onload=\"this.contentDocument.open();this.contentDocument.write(    decodeURIComponent(this.getAttribute('data-html')));this.contentDocument.close();\" allowfullscreen webkitallowfullscreen mozallowfullscreen></iframe></div></div>"
      ],
      "text/plain": [
       "<folium.folium.Map at 0x1b48b3b7d00>"
      ]
     },
     "execution_count": 26,
     "metadata": {},
     "output_type": "execute_result"
    }
   ],
   "source": [
    "import folium\n",
    "\n",
    "# Map 함수를 사용하여 지도를 출력합니다.\n",
    "map_f = folium.Map(location=[37.529622, 126.984307], zoom_start=11)\n",
    "\n",
    "map_f"
   ]
  },
  {
   "cell_type": "markdown",
   "id": "837cda71",
   "metadata": {},
   "source": [
    "지역마다 지도에 정보를 출력하려면 지역의 좌표가 필요하다.\n",
    "데이터 출처: https://data.seoul.go.kr/dataList/OA-11677/S/1/datasetView.do"
   ]
  },
  {
   "cell_type": "code",
   "execution_count": 27,
   "id": "f8818646",
   "metadata": {},
   "outputs": [
    {
     "data": {
      "text/html": [
       "<div>\n",
       "<style scoped>\n",
       "    .dataframe tbody tr th:only-of-type {\n",
       "        vertical-align: middle;\n",
       "    }\n",
       "\n",
       "    .dataframe tbody tr th {\n",
       "        vertical-align: top;\n",
       "    }\n",
       "\n",
       "    .dataframe thead th {\n",
       "        text-align: right;\n",
       "    }\n",
       "</style>\n",
       "<table border=\"1\" class=\"dataframe\">\n",
       "  <thead>\n",
       "    <tr style=\"text-align: right;\">\n",
       "      <th></th>\n",
       "      <th>순번</th>\n",
       "      <th>시군구코드</th>\n",
       "      <th>시군구명_한글</th>\n",
       "      <th>시군구명_영문</th>\n",
       "      <th>ESRI_PK</th>\n",
       "      <th>위도</th>\n",
       "      <th>경도</th>\n",
       "    </tr>\n",
       "  </thead>\n",
       "  <tbody>\n",
       "    <tr>\n",
       "      <th>0</th>\n",
       "      <td>1</td>\n",
       "      <td>11320</td>\n",
       "      <td>도봉구</td>\n",
       "      <td>Dobong-gu</td>\n",
       "      <td>0</td>\n",
       "      <td>37.665861</td>\n",
       "      <td>127.031767</td>\n",
       "    </tr>\n",
       "    <tr>\n",
       "      <th>1</th>\n",
       "      <td>2</td>\n",
       "      <td>11380</td>\n",
       "      <td>은평구</td>\n",
       "      <td>Eunpyeong-gu</td>\n",
       "      <td>1</td>\n",
       "      <td>37.617612</td>\n",
       "      <td>126.922700</td>\n",
       "    </tr>\n",
       "    <tr>\n",
       "      <th>2</th>\n",
       "      <td>3</td>\n",
       "      <td>11230</td>\n",
       "      <td>동대문구</td>\n",
       "      <td>Dongdaemun-gu</td>\n",
       "      <td>2</td>\n",
       "      <td>37.583801</td>\n",
       "      <td>127.050700</td>\n",
       "    </tr>\n",
       "    <tr>\n",
       "      <th>3</th>\n",
       "      <td>4</td>\n",
       "      <td>11590</td>\n",
       "      <td>동작구</td>\n",
       "      <td>Dongjak-gu</td>\n",
       "      <td>3</td>\n",
       "      <td>37.496504</td>\n",
       "      <td>126.944307</td>\n",
       "    </tr>\n",
       "    <tr>\n",
       "      <th>4</th>\n",
       "      <td>5</td>\n",
       "      <td>11545</td>\n",
       "      <td>금천구</td>\n",
       "      <td>Geumcheon-gu</td>\n",
       "      <td>4</td>\n",
       "      <td>37.460097</td>\n",
       "      <td>126.900155</td>\n",
       "    </tr>\n",
       "    <tr>\n",
       "      <th>5</th>\n",
       "      <td>6</td>\n",
       "      <td>11530</td>\n",
       "      <td>구로구</td>\n",
       "      <td>Guro-gu</td>\n",
       "      <td>5</td>\n",
       "      <td>37.495486</td>\n",
       "      <td>126.858121</td>\n",
       "    </tr>\n",
       "    <tr>\n",
       "      <th>6</th>\n",
       "      <td>7</td>\n",
       "      <td>11110</td>\n",
       "      <td>종로구</td>\n",
       "      <td>Jongno-gu</td>\n",
       "      <td>6</td>\n",
       "      <td>37.599100</td>\n",
       "      <td>126.986149</td>\n",
       "    </tr>\n",
       "    <tr>\n",
       "      <th>7</th>\n",
       "      <td>8</td>\n",
       "      <td>11305</td>\n",
       "      <td>강북구</td>\n",
       "      <td>Gangbuk-gu</td>\n",
       "      <td>7</td>\n",
       "      <td>37.646995</td>\n",
       "      <td>127.014716</td>\n",
       "    </tr>\n",
       "    <tr>\n",
       "      <th>8</th>\n",
       "      <td>9</td>\n",
       "      <td>11260</td>\n",
       "      <td>중랑구</td>\n",
       "      <td>Jungnang-gu</td>\n",
       "      <td>8</td>\n",
       "      <td>37.595379</td>\n",
       "      <td>127.093967</td>\n",
       "    </tr>\n",
       "    <tr>\n",
       "      <th>9</th>\n",
       "      <td>10</td>\n",
       "      <td>11680</td>\n",
       "      <td>강남구</td>\n",
       "      <td>Gangnam-gu</td>\n",
       "      <td>9</td>\n",
       "      <td>37.495985</td>\n",
       "      <td>127.066409</td>\n",
       "    </tr>\n",
       "    <tr>\n",
       "      <th>10</th>\n",
       "      <td>11</td>\n",
       "      <td>11500</td>\n",
       "      <td>강서구</td>\n",
       "      <td>Gangseo-gu</td>\n",
       "      <td>10</td>\n",
       "      <td>37.565762</td>\n",
       "      <td>126.822656</td>\n",
       "    </tr>\n",
       "    <tr>\n",
       "      <th>11</th>\n",
       "      <td>12</td>\n",
       "      <td>11140</td>\n",
       "      <td>중구</td>\n",
       "      <td>Jung-gu</td>\n",
       "      <td>11</td>\n",
       "      <td>37.557945</td>\n",
       "      <td>126.994190</td>\n",
       "    </tr>\n",
       "    <tr>\n",
       "      <th>12</th>\n",
       "      <td>13</td>\n",
       "      <td>11740</td>\n",
       "      <td>강동구</td>\n",
       "      <td>Gangdong-gu</td>\n",
       "      <td>12</td>\n",
       "      <td>37.549208</td>\n",
       "      <td>127.146482</td>\n",
       "    </tr>\n",
       "    <tr>\n",
       "      <th>13</th>\n",
       "      <td>14</td>\n",
       "      <td>11215</td>\n",
       "      <td>광진구</td>\n",
       "      <td>Gwangjin-gu</td>\n",
       "      <td>13</td>\n",
       "      <td>37.548144</td>\n",
       "      <td>127.085753</td>\n",
       "    </tr>\n",
       "    <tr>\n",
       "      <th>14</th>\n",
       "      <td>15</td>\n",
       "      <td>11440</td>\n",
       "      <td>마포구</td>\n",
       "      <td>Mapo-gu</td>\n",
       "      <td>14</td>\n",
       "      <td>37.562291</td>\n",
       "      <td>126.908780</td>\n",
       "    </tr>\n",
       "    <tr>\n",
       "      <th>15</th>\n",
       "      <td>16</td>\n",
       "      <td>11650</td>\n",
       "      <td>서초구</td>\n",
       "      <td>Seocho-gu</td>\n",
       "      <td>16</td>\n",
       "      <td>37.476953</td>\n",
       "      <td>127.037810</td>\n",
       "    </tr>\n",
       "    <tr>\n",
       "      <th>16</th>\n",
       "      <td>17</td>\n",
       "      <td>11290</td>\n",
       "      <td>성북구</td>\n",
       "      <td>Seongbuk-gu</td>\n",
       "      <td>17</td>\n",
       "      <td>37.606991</td>\n",
       "      <td>127.023218</td>\n",
       "    </tr>\n",
       "    <tr>\n",
       "      <th>17</th>\n",
       "      <td>18</td>\n",
       "      <td>11350</td>\n",
       "      <td>노원구</td>\n",
       "      <td>Nowon-gu</td>\n",
       "      <td>18</td>\n",
       "      <td>37.655264</td>\n",
       "      <td>127.077120</td>\n",
       "    </tr>\n",
       "    <tr>\n",
       "      <th>18</th>\n",
       "      <td>19</td>\n",
       "      <td>11710</td>\n",
       "      <td>송파구</td>\n",
       "      <td>Songpa-gu</td>\n",
       "      <td>19</td>\n",
       "      <td>37.504853</td>\n",
       "      <td>127.114482</td>\n",
       "    </tr>\n",
       "    <tr>\n",
       "      <th>19</th>\n",
       "      <td>20</td>\n",
       "      <td>11410</td>\n",
       "      <td>서대문구</td>\n",
       "      <td>Seodaemun-gu</td>\n",
       "      <td>21</td>\n",
       "      <td>37.582037</td>\n",
       "      <td>126.935666</td>\n",
       "    </tr>\n",
       "    <tr>\n",
       "      <th>20</th>\n",
       "      <td>21</td>\n",
       "      <td>11470</td>\n",
       "      <td>양천구</td>\n",
       "      <td>Yangcheon-gu</td>\n",
       "      <td>22</td>\n",
       "      <td>37.527062</td>\n",
       "      <td>126.856153</td>\n",
       "    </tr>\n",
       "    <tr>\n",
       "      <th>21</th>\n",
       "      <td>22</td>\n",
       "      <td>11560</td>\n",
       "      <td>영등포구</td>\n",
       "      <td>Yeongdeungpo-gu</td>\n",
       "      <td>23</td>\n",
       "      <td>37.520641</td>\n",
       "      <td>126.913924</td>\n",
       "    </tr>\n",
       "    <tr>\n",
       "      <th>22</th>\n",
       "      <td>23</td>\n",
       "      <td>11620</td>\n",
       "      <td>관악구</td>\n",
       "      <td>Gwanak-gu</td>\n",
       "      <td>15</td>\n",
       "      <td>37.465399</td>\n",
       "      <td>126.943807</td>\n",
       "    </tr>\n",
       "    <tr>\n",
       "      <th>23</th>\n",
       "      <td>24</td>\n",
       "      <td>11200</td>\n",
       "      <td>성동구</td>\n",
       "      <td>Seongdong-gu</td>\n",
       "      <td>20</td>\n",
       "      <td>37.550675</td>\n",
       "      <td>127.040962</td>\n",
       "    </tr>\n",
       "    <tr>\n",
       "      <th>24</th>\n",
       "      <td>25</td>\n",
       "      <td>11170</td>\n",
       "      <td>용산구</td>\n",
       "      <td>Yongsan-gu</td>\n",
       "      <td>24</td>\n",
       "      <td>37.531101</td>\n",
       "      <td>126.981074</td>\n",
       "    </tr>\n",
       "  </tbody>\n",
       "</table>\n",
       "</div>"
      ],
      "text/plain": [
       "    순번  시군구코드 시군구명_한글          시군구명_영문  ESRI_PK         위도          경도\n",
       "0    1  11320     도봉구        Dobong-gu        0  37.665861  127.031767\n",
       "1    2  11380     은평구     Eunpyeong-gu        1  37.617612  126.922700\n",
       "2    3  11230    동대문구    Dongdaemun-gu        2  37.583801  127.050700\n",
       "3    4  11590     동작구       Dongjak-gu        3  37.496504  126.944307\n",
       "4    5  11545     금천구     Geumcheon-gu        4  37.460097  126.900155\n",
       "5    6  11530     구로구          Guro-gu        5  37.495486  126.858121\n",
       "6    7  11110     종로구        Jongno-gu        6  37.599100  126.986149\n",
       "7    8  11305     강북구       Gangbuk-gu        7  37.646995  127.014716\n",
       "8    9  11260     중랑구      Jungnang-gu        8  37.595379  127.093967\n",
       "9   10  11680     강남구       Gangnam-gu        9  37.495985  127.066409\n",
       "10  11  11500     강서구       Gangseo-gu       10  37.565762  126.822656\n",
       "11  12  11140      중구          Jung-gu       11  37.557945  126.994190\n",
       "12  13  11740     강동구      Gangdong-gu       12  37.549208  127.146482\n",
       "13  14  11215     광진구      Gwangjin-gu       13  37.548144  127.085753\n",
       "14  15  11440     마포구          Mapo-gu       14  37.562291  126.908780\n",
       "15  16  11650     서초구        Seocho-gu       16  37.476953  127.037810\n",
       "16  17  11290     성북구      Seongbuk-gu       17  37.606991  127.023218\n",
       "17  18  11350     노원구         Nowon-gu       18  37.655264  127.077120\n",
       "18  19  11710     송파구        Songpa-gu       19  37.504853  127.114482\n",
       "19  20  11410    서대문구     Seodaemun-gu       21  37.582037  126.935666\n",
       "20  21  11470     양천구     Yangcheon-gu       22  37.527062  126.856153\n",
       "21  22  11560    영등포구  Yeongdeungpo-gu       23  37.520641  126.913924\n",
       "22  23  11620     관악구        Gwanak-gu       15  37.465399  126.943807\n",
       "23  24  11200     성동구     Seongdong-gu       20  37.550675  127.040962\n",
       "24  25  11170     용산구       Yongsan-gu       24  37.531101  126.981074"
      ]
     },
     "execution_count": 27,
     "metadata": {},
     "output_type": "execute_result"
    }
   ],
   "source": [
    "seoul_area = pd.read_csv(\"./Seoul_Area.csv\")\n",
    "seoul_area"
   ]
  },
  {
   "cell_type": "code",
   "execution_count": 28,
   "id": "8dc5f88b",
   "metadata": {},
   "outputs": [
    {
     "data": {
      "text/html": [
       "<div>\n",
       "<style scoped>\n",
       "    .dataframe tbody tr th:only-of-type {\n",
       "        vertical-align: middle;\n",
       "    }\n",
       "\n",
       "    .dataframe tbody tr th {\n",
       "        vertical-align: top;\n",
       "    }\n",
       "\n",
       "    .dataframe thead th {\n",
       "        text-align: right;\n",
       "    }\n",
       "</style>\n",
       "<table border=\"1\" class=\"dataframe\">\n",
       "  <thead>\n",
       "    <tr style=\"text-align: right;\">\n",
       "      <th></th>\n",
       "      <th>순번</th>\n",
       "      <th>시군구코드</th>\n",
       "      <th>시군구명_한글</th>\n",
       "      <th>시군구명_영문</th>\n",
       "      <th>ESRI_PK</th>\n",
       "      <th>위도</th>\n",
       "      <th>경도</th>\n",
       "    </tr>\n",
       "  </thead>\n",
       "  <tbody>\n",
       "    <tr>\n",
       "      <th>11</th>\n",
       "      <td>12</td>\n",
       "      <td>11140</td>\n",
       "      <td>중구</td>\n",
       "      <td>Jung-gu</td>\n",
       "      <td>11</td>\n",
       "      <td>37.557945</td>\n",
       "      <td>126.99419</td>\n",
       "    </tr>\n",
       "  </tbody>\n",
       "</table>\n",
       "</div>"
      ],
      "text/plain": [
       "    순번  시군구코드 시군구명_한글  시군구명_영문  ESRI_PK         위도         경도\n",
       "11  12  11140      중구  Jung-gu       11  37.557945  126.99419"
      ]
     },
     "execution_count": 28,
     "metadata": {},
     "output_type": "execute_result"
    }
   ],
   "source": [
    "seoul_area[seoul_area['시군구명_한글'] == '중구']"
   ]
  },
  {
   "cell_type": "code",
   "execution_count": 29,
   "id": "47c49d6b",
   "metadata": {},
   "outputs": [
    {
     "data": {
      "text/html": [
       "<div style=\"width:100%;\"><div style=\"position:relative;width:100%;height:0;padding-bottom:60%;\"><span style=\"color:#565656\">Make this Notebook Trusted to load map: File -> Trust Notebook</span><iframe src=\"about:blank\" style=\"position:absolute;width:100%;height:100%;left:0;top:0;border:none !important;\" data-html=%3C%21DOCTYPE%20html%3E%0A%3Chead%3E%20%20%20%20%0A%20%20%20%20%3Cmeta%20http-equiv%3D%22content-type%22%20content%3D%22text/html%3B%20charset%3DUTF-8%22%20/%3E%0A%20%20%20%20%0A%20%20%20%20%20%20%20%20%3Cscript%3E%0A%20%20%20%20%20%20%20%20%20%20%20%20L_NO_TOUCH%20%3D%20false%3B%0A%20%20%20%20%20%20%20%20%20%20%20%20L_DISABLE_3D%20%3D%20false%3B%0A%20%20%20%20%20%20%20%20%3C/script%3E%0A%20%20%20%20%0A%20%20%20%20%3Cstyle%3Ehtml%2C%20body%20%7Bwidth%3A%20100%25%3Bheight%3A%20100%25%3Bmargin%3A%200%3Bpadding%3A%200%3B%7D%3C/style%3E%0A%20%20%20%20%3Cstyle%3E%23map%20%7Bposition%3Aabsolute%3Btop%3A0%3Bbottom%3A0%3Bright%3A0%3Bleft%3A0%3B%7D%3C/style%3E%0A%20%20%20%20%3Cscript%20src%3D%22https%3A//cdn.jsdelivr.net/npm/leaflet%401.6.0/dist/leaflet.js%22%3E%3C/script%3E%0A%20%20%20%20%3Cscript%20src%3D%22https%3A//code.jquery.com/jquery-1.12.4.min.js%22%3E%3C/script%3E%0A%20%20%20%20%3Cscript%20src%3D%22https%3A//maxcdn.bootstrapcdn.com/bootstrap/3.2.0/js/bootstrap.min.js%22%3E%3C/script%3E%0A%20%20%20%20%3Cscript%20src%3D%22https%3A//cdnjs.cloudflare.com/ajax/libs/Leaflet.awesome-markers/2.0.2/leaflet.awesome-markers.js%22%3E%3C/script%3E%0A%20%20%20%20%3Clink%20rel%3D%22stylesheet%22%20href%3D%22https%3A//cdn.jsdelivr.net/npm/leaflet%401.6.0/dist/leaflet.css%22/%3E%0A%20%20%20%20%3Clink%20rel%3D%22stylesheet%22%20href%3D%22https%3A//maxcdn.bootstrapcdn.com/bootstrap/3.2.0/css/bootstrap.min.css%22/%3E%0A%20%20%20%20%3Clink%20rel%3D%22stylesheet%22%20href%3D%22https%3A//maxcdn.bootstrapcdn.com/bootstrap/3.2.0/css/bootstrap-theme.min.css%22/%3E%0A%20%20%20%20%3Clink%20rel%3D%22stylesheet%22%20href%3D%22https%3A//maxcdn.bootstrapcdn.com/font-awesome/4.6.3/css/font-awesome.min.css%22/%3E%0A%20%20%20%20%3Clink%20rel%3D%22stylesheet%22%20href%3D%22https%3A//cdnjs.cloudflare.com/ajax/libs/Leaflet.awesome-markers/2.0.2/leaflet.awesome-markers.css%22/%3E%0A%20%20%20%20%3Clink%20rel%3D%22stylesheet%22%20href%3D%22https%3A//cdn.jsdelivr.net/gh/python-visualization/folium/folium/templates/leaflet.awesome.rotate.min.css%22/%3E%0A%20%20%20%20%0A%20%20%20%20%20%20%20%20%20%20%20%20%3Cmeta%20name%3D%22viewport%22%20content%3D%22width%3Ddevice-width%2C%0A%20%20%20%20%20%20%20%20%20%20%20%20%20%20%20%20initial-scale%3D1.0%2C%20maximum-scale%3D1.0%2C%20user-scalable%3Dno%22%20/%3E%0A%20%20%20%20%20%20%20%20%20%20%20%20%3Cstyle%3E%0A%20%20%20%20%20%20%20%20%20%20%20%20%20%20%20%20%23map_626e0569de7248cea75f40928b689539%20%7B%0A%20%20%20%20%20%20%20%20%20%20%20%20%20%20%20%20%20%20%20%20position%3A%20relative%3B%0A%20%20%20%20%20%20%20%20%20%20%20%20%20%20%20%20%20%20%20%20width%3A%20100.0%25%3B%0A%20%20%20%20%20%20%20%20%20%20%20%20%20%20%20%20%20%20%20%20height%3A%20100.0%25%3B%0A%20%20%20%20%20%20%20%20%20%20%20%20%20%20%20%20%20%20%20%20left%3A%200.0%25%3B%0A%20%20%20%20%20%20%20%20%20%20%20%20%20%20%20%20%20%20%20%20top%3A%200.0%25%3B%0A%20%20%20%20%20%20%20%20%20%20%20%20%20%20%20%20%7D%0A%20%20%20%20%20%20%20%20%20%20%20%20%3C/style%3E%0A%20%20%20%20%20%20%20%20%0A%3C/head%3E%0A%3Cbody%3E%20%20%20%20%0A%20%20%20%20%0A%20%20%20%20%20%20%20%20%20%20%20%20%3Cdiv%20class%3D%22folium-map%22%20id%3D%22map_626e0569de7248cea75f40928b689539%22%20%3E%3C/div%3E%0A%20%20%20%20%20%20%20%20%0A%3C/body%3E%0A%3Cscript%3E%20%20%20%20%0A%20%20%20%20%0A%20%20%20%20%20%20%20%20%20%20%20%20var%20map_626e0569de7248cea75f40928b689539%20%3D%20L.map%28%0A%20%20%20%20%20%20%20%20%20%20%20%20%20%20%20%20%22map_626e0569de7248cea75f40928b689539%22%2C%0A%20%20%20%20%20%20%20%20%20%20%20%20%20%20%20%20%7B%0A%20%20%20%20%20%20%20%20%20%20%20%20%20%20%20%20%20%20%20%20center%3A%20%5B37.557945%2C%20126.99419%5D%2C%0A%20%20%20%20%20%20%20%20%20%20%20%20%20%20%20%20%20%20%20%20crs%3A%20L.CRS.EPSG3857%2C%0A%20%20%20%20%20%20%20%20%20%20%20%20%20%20%20%20%20%20%20%20zoom%3A%2011%2C%0A%20%20%20%20%20%20%20%20%20%20%20%20%20%20%20%20%20%20%20%20zoomControl%3A%20true%2C%0A%20%20%20%20%20%20%20%20%20%20%20%20%20%20%20%20%20%20%20%20preferCanvas%3A%20false%2C%0A%20%20%20%20%20%20%20%20%20%20%20%20%20%20%20%20%7D%0A%20%20%20%20%20%20%20%20%20%20%20%20%29%3B%0A%0A%20%20%20%20%20%20%20%20%20%20%20%20%0A%0A%20%20%20%20%20%20%20%20%0A%20%20%20%20%0A%20%20%20%20%20%20%20%20%20%20%20%20var%20tile_layer_d44d6715605e476b80b97aa57646b1d3%20%3D%20L.tileLayer%28%0A%20%20%20%20%20%20%20%20%20%20%20%20%20%20%20%20%22https%3A//%7Bs%7D.tile.openstreetmap.org/%7Bz%7D/%7Bx%7D/%7By%7D.png%22%2C%0A%20%20%20%20%20%20%20%20%20%20%20%20%20%20%20%20%7B%22attribution%22%3A%20%22Data%20by%20%5Cu0026copy%3B%20%5Cu003ca%20href%3D%5C%22http%3A//openstreetmap.org%5C%22%5Cu003eOpenStreetMap%5Cu003c/a%5Cu003e%2C%20under%20%5Cu003ca%20href%3D%5C%22http%3A//www.openstreetmap.org/copyright%5C%22%5Cu003eODbL%5Cu003c/a%5Cu003e.%22%2C%20%22detectRetina%22%3A%20false%2C%20%22maxNativeZoom%22%3A%2018%2C%20%22maxZoom%22%3A%2018%2C%20%22minZoom%22%3A%200%2C%20%22noWrap%22%3A%20false%2C%20%22opacity%22%3A%201%2C%20%22subdomains%22%3A%20%22abc%22%2C%20%22tms%22%3A%20false%7D%0A%20%20%20%20%20%20%20%20%20%20%20%20%29.addTo%28map_626e0569de7248cea75f40928b689539%29%3B%0A%20%20%20%20%20%20%20%20%0A%20%20%20%20%0A%20%20%20%20%20%20%20%20%20%20%20%20var%20circle_marker_c1bbfc91fb1743899fd2eefc5b74e808%20%3D%20L.circleMarker%28%0A%20%20%20%20%20%20%20%20%20%20%20%20%20%20%20%20%5B37.5953795%2C%20127.0939669%5D%2C%0A%20%20%20%20%20%20%20%20%20%20%20%20%20%20%20%20%7B%22bubblingMouseEvents%22%3A%20true%2C%20%22color%22%3A%20%22%239900FA%22%2C%20%22dashArray%22%3A%20null%2C%20%22dashOffset%22%3A%20null%2C%20%22fill%22%3A%20true%2C%20%22fillColor%22%3A%20%22%239900FA%22%2C%20%22fillOpacity%22%3A%200.2%2C%20%22fillRule%22%3A%20%22evenodd%22%2C%20%22lineCap%22%3A%20%22round%22%2C%20%22lineJoin%22%3A%20%22round%22%2C%20%22opacity%22%3A%201.0%2C%20%22radius%22%3A%2030.2%2C%20%22stroke%22%3A%20true%2C%20%22weight%22%3A%203%7D%0A%20%20%20%20%20%20%20%20%20%20%20%20%29.addTo%28map_626e0569de7248cea75f40928b689539%29%3B%0A%20%20%20%20%20%20%20%20%0A%20%20%20%20%0A%20%20%20%20%20%20%20%20var%20popup_c1cb1f05da884b7cb3de5cc857d86856%20%3D%20L.popup%28%7B%22maxWidth%22%3A%20%22100%25%22%7D%29%3B%0A%0A%20%20%20%20%20%20%20%20%0A%20%20%20%20%20%20%20%20%20%20%20%20var%20html_d2b3d09df04a401c98226344200f033c%20%3D%20%24%28%60%3Cdiv%20id%3D%22html_d2b3d09df04a401c98226344200f033c%22%20style%3D%22width%3A%20100.0%25%3B%20height%3A%20100.0%25%3B%22%3E%EC%A4%91%EB%9E%91%EA%B5%AC%20202%20%EB%AA%85%3C/div%3E%60%29%5B0%5D%3B%0A%20%20%20%20%20%20%20%20%20%20%20%20popup_c1cb1f05da884b7cb3de5cc857d86856.setContent%28html_d2b3d09df04a401c98226344200f033c%29%3B%0A%20%20%20%20%20%20%20%20%0A%0A%20%20%20%20%20%20%20%20circle_marker_c1bbfc91fb1743899fd2eefc5b74e808.bindPopup%28popup_c1cb1f05da884b7cb3de5cc857d86856%29%0A%20%20%20%20%20%20%20%20%3B%0A%0A%20%20%20%20%20%20%20%20%0A%20%20%20%20%0A%20%20%20%20%0A%20%20%20%20%20%20%20%20%20%20%20%20var%20circle_marker_ac80aef55494425f8a1f8ae75bc07c29%20%3D%20L.circleMarker%28%0A%20%20%20%20%20%20%20%20%20%20%20%20%20%20%20%20%5B37.4965037%2C%20126.9443073%5D%2C%0A%20%20%20%20%20%20%20%20%20%20%20%20%20%20%20%20%7B%22bubblingMouseEvents%22%3A%20true%2C%20%22color%22%3A%20%22%239900FA%22%2C%20%22dashArray%22%3A%20null%2C%20%22dashOffset%22%3A%20null%2C%20%22fill%22%3A%20true%2C%20%22fillColor%22%3A%20%22%239900FA%22%2C%20%22fillOpacity%22%3A%200.2%2C%20%22fillRule%22%3A%20%22evenodd%22%2C%20%22lineCap%22%3A%20%22round%22%2C%20%22lineJoin%22%3A%20%22round%22%2C%20%22opacity%22%3A%201.0%2C%20%22radius%22%3A%2035.4%2C%20%22stroke%22%3A%20true%2C%20%22weight%22%3A%203%7D%0A%20%20%20%20%20%20%20%20%20%20%20%20%29.addTo%28map_626e0569de7248cea75f40928b689539%29%3B%0A%20%20%20%20%20%20%20%20%0A%20%20%20%20%0A%20%20%20%20%20%20%20%20var%20popup_3d45740e55bb436ba221755ff31f7da2%20%3D%20L.popup%28%7B%22maxWidth%22%3A%20%22100%25%22%7D%29%3B%0A%0A%20%20%20%20%20%20%20%20%0A%20%20%20%20%20%20%20%20%20%20%20%20var%20html_af69d456b2df44d9b846e64f19ed3f03%20%3D%20%24%28%60%3Cdiv%20id%3D%22html_af69d456b2df44d9b846e64f19ed3f03%22%20style%3D%22width%3A%20100.0%25%3B%20height%3A%20100.0%25%3B%22%3E%EB%8F%99%EC%9E%91%EA%B5%AC%20254%20%EB%AA%85%3C/div%3E%60%29%5B0%5D%3B%0A%20%20%20%20%20%20%20%20%20%20%20%20popup_3d45740e55bb436ba221755ff31f7da2.setContent%28html_af69d456b2df44d9b846e64f19ed3f03%29%3B%0A%20%20%20%20%20%20%20%20%0A%0A%20%20%20%20%20%20%20%20circle_marker_ac80aef55494425f8a1f8ae75bc07c29.bindPopup%28popup_3d45740e55bb436ba221755ff31f7da2%29%0A%20%20%20%20%20%20%20%20%3B%0A%0A%20%20%20%20%20%20%20%20%0A%20%20%20%20%0A%20%20%20%20%0A%20%20%20%20%20%20%20%20%20%20%20%20var%20circle_marker_2f4430856322483990e8950de934c950%20%3D%20L.circleMarker%28%0A%20%20%20%20%20%20%20%20%20%20%20%20%20%20%20%20%5B37.5311008%2C%20126.9810742%5D%2C%0A%20%20%20%20%20%20%20%20%20%20%20%20%20%20%20%20%7B%22bubblingMouseEvents%22%3A%20true%2C%20%22color%22%3A%20%22%239900FA%22%2C%20%22dashArray%22%3A%20null%2C%20%22dashOffset%22%3A%20null%2C%20%22fill%22%3A%20true%2C%20%22fillColor%22%3A%20%22%239900FA%22%2C%20%22fillOpacity%22%3A%200.2%2C%20%22fillRule%22%3A%20%22evenodd%22%2C%20%22lineCap%22%3A%20%22round%22%2C%20%22lineJoin%22%3A%20%22round%22%2C%20%22opacity%22%3A%201.0%2C%20%22radius%22%3A%2024.0%2C%20%22stroke%22%3A%20true%2C%20%22weight%22%3A%203%7D%0A%20%20%20%20%20%20%20%20%20%20%20%20%29.addTo%28map_626e0569de7248cea75f40928b689539%29%3B%0A%20%20%20%20%20%20%20%20%0A%20%20%20%20%0A%20%20%20%20%20%20%20%20var%20popup_38ee601871e64e2bb3aab56effa926e8%20%3D%20L.popup%28%7B%22maxWidth%22%3A%20%22100%25%22%7D%29%3B%0A%0A%20%20%20%20%20%20%20%20%0A%20%20%20%20%20%20%20%20%20%20%20%20var%20html_c8841865d56d405f8fb9d7a637caf7a1%20%3D%20%24%28%60%3Cdiv%20id%3D%22html_c8841865d56d405f8fb9d7a637caf7a1%22%20style%3D%22width%3A%20100.0%25%3B%20height%3A%20100.0%25%3B%22%3E%EC%9A%A9%EC%82%B0%EA%B5%AC%20140%20%EB%AA%85%3C/div%3E%60%29%5B0%5D%3B%0A%20%20%20%20%20%20%20%20%20%20%20%20popup_38ee601871e64e2bb3aab56effa926e8.setContent%28html_c8841865d56d405f8fb9d7a637caf7a1%29%3B%0A%20%20%20%20%20%20%20%20%0A%0A%20%20%20%20%20%20%20%20circle_marker_2f4430856322483990e8950de934c950.bindPopup%28popup_38ee601871e64e2bb3aab56effa926e8%29%0A%20%20%20%20%20%20%20%20%3B%0A%0A%20%20%20%20%20%20%20%20%0A%20%20%20%20%0A%20%20%20%20%0A%20%20%20%20%20%20%20%20%20%20%20%20var%20circle_marker_958186babc114c8e9ef2cd3df5c7ed87%20%3D%20L.circleMarker%28%0A%20%20%20%20%20%20%20%20%20%20%20%20%20%20%20%20%5B37.606991%2C%20127.0232185%5D%2C%0A%20%20%20%20%20%20%20%20%20%20%20%20%20%20%20%20%7B%22bubblingMouseEvents%22%3A%20true%2C%20%22color%22%3A%20%22%239900FA%22%2C%20%22dashArray%22%3A%20null%2C%20%22dashOffset%22%3A%20null%2C%20%22fill%22%3A%20true%2C%20%22fillColor%22%3A%20%22%239900FA%22%2C%20%22fillOpacity%22%3A%200.2%2C%20%22fillRule%22%3A%20%22evenodd%22%2C%20%22lineCap%22%3A%20%22round%22%2C%20%22lineJoin%22%3A%20%22round%22%2C%20%22opacity%22%3A%201.0%2C%20%22radius%22%3A%2044.4%2C%20%22stroke%22%3A%20true%2C%20%22weight%22%3A%203%7D%0A%20%20%20%20%20%20%20%20%20%20%20%20%29.addTo%28map_626e0569de7248cea75f40928b689539%29%3B%0A%20%20%20%20%20%20%20%20%0A%20%20%20%20%0A%20%20%20%20%20%20%20%20var%20popup_ec4a26b6c1104485a3ff25fd4efa1115%20%3D%20L.popup%28%7B%22maxWidth%22%3A%20%22100%25%22%7D%29%3B%0A%0A%20%20%20%20%20%20%20%20%0A%20%20%20%20%20%20%20%20%20%20%20%20var%20html_e057f076bf144560bbd4c8ad320fd7ab%20%3D%20%24%28%60%3Cdiv%20id%3D%22html_e057f076bf144560bbd4c8ad320fd7ab%22%20style%3D%22width%3A%20100.0%25%3B%20height%3A%20100.0%25%3B%22%3E%EC%84%B1%EB%B6%81%EA%B5%AC%20344%20%EB%AA%85%3C/div%3E%60%29%5B0%5D%3B%0A%20%20%20%20%20%20%20%20%20%20%20%20popup_ec4a26b6c1104485a3ff25fd4efa1115.setContent%28html_e057f076bf144560bbd4c8ad320fd7ab%29%3B%0A%20%20%20%20%20%20%20%20%0A%0A%20%20%20%20%20%20%20%20circle_marker_958186babc114c8e9ef2cd3df5c7ed87.bindPopup%28popup_ec4a26b6c1104485a3ff25fd4efa1115%29%0A%20%20%20%20%20%20%20%20%3B%0A%0A%20%20%20%20%20%20%20%20%0A%20%20%20%20%0A%20%20%20%20%0A%20%20%20%20%20%20%20%20%20%20%20%20var%20circle_marker_dd0ef27b2c944dbeba700e413cccca8d%20%3D%20L.circleMarker%28%0A%20%20%20%20%20%20%20%20%20%20%20%20%20%20%20%20%5B37.5270616%2C%20126.8561534%5D%2C%0A%20%20%20%20%20%20%20%20%20%20%20%20%20%20%20%20%7B%22bubblingMouseEvents%22%3A%20true%2C%20%22color%22%3A%20%22%239900FA%22%2C%20%22dashArray%22%3A%20null%2C%20%22dashOffset%22%3A%20null%2C%20%22fill%22%3A%20true%2C%20%22fillColor%22%3A%20%22%239900FA%22%2C%20%22fillOpacity%22%3A%200.2%2C%20%22fillRule%22%3A%20%22evenodd%22%2C%20%22lineCap%22%3A%20%22round%22%2C%20%22lineJoin%22%3A%20%22round%22%2C%20%22opacity%22%3A%201.0%2C%20%22radius%22%3A%2028.6%2C%20%22stroke%22%3A%20true%2C%20%22weight%22%3A%203%7D%0A%20%20%20%20%20%20%20%20%20%20%20%20%29.addTo%28map_626e0569de7248cea75f40928b689539%29%3B%0A%20%20%20%20%20%20%20%20%0A%20%20%20%20%0A%20%20%20%20%20%20%20%20var%20popup_e403ed8dc66e495d82a4cf2f0268562a%20%3D%20L.popup%28%7B%22maxWidth%22%3A%20%22100%25%22%7D%29%3B%0A%0A%20%20%20%20%20%20%20%20%0A%20%20%20%20%20%20%20%20%20%20%20%20var%20html_57480bcfc3d942baa3481dfa943b1575%20%3D%20%24%28%60%3Cdiv%20id%3D%22html_57480bcfc3d942baa3481dfa943b1575%22%20style%3D%22width%3A%20100.0%25%3B%20height%3A%20100.0%25%3B%22%3E%EC%96%91%EC%B2%9C%EA%B5%AC%20186%20%EB%AA%85%3C/div%3E%60%29%5B0%5D%3B%0A%20%20%20%20%20%20%20%20%20%20%20%20popup_e403ed8dc66e495d82a4cf2f0268562a.setContent%28html_57480bcfc3d942baa3481dfa943b1575%29%3B%0A%20%20%20%20%20%20%20%20%0A%0A%20%20%20%20%20%20%20%20circle_marker_dd0ef27b2c944dbeba700e413cccca8d.bindPopup%28popup_e403ed8dc66e495d82a4cf2f0268562a%29%0A%20%20%20%20%20%20%20%20%3B%0A%0A%20%20%20%20%20%20%20%20%0A%20%20%20%20%0A%20%20%20%20%0A%20%20%20%20%20%20%20%20%20%20%20%20var%20circle_marker_6c95a8ff4fed4c39b52ada391ad1b39c%20%3D%20L.circleMarker%28%0A%20%20%20%20%20%20%20%20%20%20%20%20%20%20%20%20%5B37.4653993%2C%20126.9438071%5D%2C%0A%20%20%20%20%20%20%20%20%20%20%20%20%20%20%20%20%7B%22bubblingMouseEvents%22%3A%20true%2C%20%22color%22%3A%20%22%239900FA%22%2C%20%22dashArray%22%3A%20null%2C%20%22dashOffset%22%3A%20null%2C%20%22fill%22%3A%20true%2C%20%22fillColor%22%3A%20%22%239900FA%22%2C%20%22fillOpacity%22%3A%200.2%2C%20%22fillRule%22%3A%20%22evenodd%22%2C%20%22lineCap%22%3A%20%22round%22%2C%20%22lineJoin%22%3A%20%22round%22%2C%20%22opacity%22%3A%201.0%2C%20%22radius%22%3A%2055.2%2C%20%22stroke%22%3A%20true%2C%20%22weight%22%3A%203%7D%0A%20%20%20%20%20%20%20%20%20%20%20%20%29.addTo%28map_626e0569de7248cea75f40928b689539%29%3B%0A%20%20%20%20%20%20%20%20%0A%20%20%20%20%0A%20%20%20%20%20%20%20%20var%20popup_e1a8b07ebf684d0a91db241982cb5c55%20%3D%20L.popup%28%7B%22maxWidth%22%3A%20%22100%25%22%7D%29%3B%0A%0A%20%20%20%20%20%20%20%20%0A%20%20%20%20%20%20%20%20%20%20%20%20var%20html_1c57d6b015d245c2b35a60ef11ec0fa5%20%3D%20%24%28%60%3Cdiv%20id%3D%22html_1c57d6b015d245c2b35a60ef11ec0fa5%22%20style%3D%22width%3A%20100.0%25%3B%20height%3A%20100.0%25%3B%22%3E%EA%B4%80%EC%95%85%EA%B5%AC%20452%20%EB%AA%85%3C/div%3E%60%29%5B0%5D%3B%0A%20%20%20%20%20%20%20%20%20%20%20%20popup_e1a8b07ebf684d0a91db241982cb5c55.setContent%28html_1c57d6b015d245c2b35a60ef11ec0fa5%29%3B%0A%20%20%20%20%20%20%20%20%0A%0A%20%20%20%20%20%20%20%20circle_marker_6c95a8ff4fed4c39b52ada391ad1b39c.bindPopup%28popup_e1a8b07ebf684d0a91db241982cb5c55%29%0A%20%20%20%20%20%20%20%20%3B%0A%0A%20%20%20%20%20%20%20%20%0A%20%20%20%20%0A%20%20%20%20%0A%20%20%20%20%20%20%20%20%20%20%20%20var%20circle_marker_f8e59256984d4643bfd7280a3887efa0%20%3D%20L.circleMarker%28%0A%20%20%20%20%20%20%20%20%20%20%20%20%20%20%20%20%5B37.6469954%2C%20127.0147158%5D%2C%0A%20%20%20%20%20%20%20%20%20%20%20%20%20%20%20%20%7B%22bubblingMouseEvents%22%3A%20true%2C%20%22color%22%3A%20%22%239900FA%22%2C%20%22dashArray%22%3A%20null%2C%20%22dashOffset%22%3A%20null%2C%20%22fill%22%3A%20true%2C%20%22fillColor%22%3A%20%22%239900FA%22%2C%20%22fillOpacity%22%3A%200.2%2C%20%22fillRule%22%3A%20%22evenodd%22%2C%20%22lineCap%22%3A%20%22round%22%2C%20%22lineJoin%22%3A%20%22round%22%2C%20%22opacity%22%3A%201.0%2C%20%22radius%22%3A%2025.6%2C%20%22stroke%22%3A%20true%2C%20%22weight%22%3A%203%7D%0A%20%20%20%20%20%20%20%20%20%20%20%20%29.addTo%28map_626e0569de7248cea75f40928b689539%29%3B%0A%20%20%20%20%20%20%20%20%0A%20%20%20%20%0A%20%20%20%20%20%20%20%20var%20popup_0c173e46cce947e9bc0303d32c402f3e%20%3D%20L.popup%28%7B%22maxWidth%22%3A%20%22100%25%22%7D%29%3B%0A%0A%20%20%20%20%20%20%20%20%0A%20%20%20%20%20%20%20%20%20%20%20%20var%20html_e0ed5259bf104184a5109c4359db9963%20%3D%20%24%28%60%3Cdiv%20id%3D%22html_e0ed5259bf104184a5109c4359db9963%22%20style%3D%22width%3A%20100.0%25%3B%20height%3A%20100.0%25%3B%22%3E%EA%B0%95%EB%B6%81%EA%B5%AC%20156%20%EB%AA%85%3C/div%3E%60%29%5B0%5D%3B%0A%20%20%20%20%20%20%20%20%20%20%20%20popup_0c173e46cce947e9bc0303d32c402f3e.setContent%28html_e0ed5259bf104184a5109c4359db9963%29%3B%0A%20%20%20%20%20%20%20%20%0A%0A%20%20%20%20%20%20%20%20circle_marker_f8e59256984d4643bfd7280a3887efa0.bindPopup%28popup_0c173e46cce947e9bc0303d32c402f3e%29%0A%20%20%20%20%20%20%20%20%3B%0A%0A%20%20%20%20%20%20%20%20%0A%20%20%20%20%0A%20%20%20%20%0A%20%20%20%20%20%20%20%20%20%20%20%20var%20circle_marker_6821a76822514e31a25d0395f3a45beb%20%3D%20L.circleMarker%28%0A%20%20%20%20%20%20%20%20%20%20%20%20%20%20%20%20%5B37.6176125%2C%20126.9227004%5D%2C%0A%20%20%20%20%20%20%20%20%20%20%20%20%20%20%20%20%7B%22bubblingMouseEvents%22%3A%20true%2C%20%22color%22%3A%20%22%239900FA%22%2C%20%22dashArray%22%3A%20null%2C%20%22dashOffset%22%3A%20null%2C%20%22fill%22%3A%20true%2C%20%22fillColor%22%3A%20%22%239900FA%22%2C%20%22fillOpacity%22%3A%200.2%2C%20%22fillRule%22%3A%20%22evenodd%22%2C%20%22lineCap%22%3A%20%22round%22%2C%20%22lineJoin%22%3A%20%22round%22%2C%20%22opacity%22%3A%201.0%2C%20%22radius%22%3A%2035.9%2C%20%22stroke%22%3A%20true%2C%20%22weight%22%3A%203%7D%0A%20%20%20%20%20%20%20%20%20%20%20%20%29.addTo%28map_626e0569de7248cea75f40928b689539%29%3B%0A%20%20%20%20%20%20%20%20%0A%20%20%20%20%0A%20%20%20%20%20%20%20%20var%20popup_0dfea2c480a746e9bd771dc50c98652e%20%3D%20L.popup%28%7B%22maxWidth%22%3A%20%22100%25%22%7D%29%3B%0A%0A%20%20%20%20%20%20%20%20%0A%20%20%20%20%20%20%20%20%20%20%20%20var%20html_0403039cd9384a7eb0c67650624824b9%20%3D%20%24%28%60%3Cdiv%20id%3D%22html_0403039cd9384a7eb0c67650624824b9%22%20style%3D%22width%3A%20100.0%25%3B%20height%3A%20100.0%25%3B%22%3E%EC%9D%80%ED%8F%89%EA%B5%AC%20259%20%EB%AA%85%3C/div%3E%60%29%5B0%5D%3B%0A%20%20%20%20%20%20%20%20%20%20%20%20popup_0dfea2c480a746e9bd771dc50c98652e.setContent%28html_0403039cd9384a7eb0c67650624824b9%29%3B%0A%20%20%20%20%20%20%20%20%0A%0A%20%20%20%20%20%20%20%20circle_marker_6821a76822514e31a25d0395f3a45beb.bindPopup%28popup_0dfea2c480a746e9bd771dc50c98652e%29%0A%20%20%20%20%20%20%20%20%3B%0A%0A%20%20%20%20%20%20%20%20%0A%20%20%20%20%0A%20%20%20%20%0A%20%20%20%20%20%20%20%20%20%20%20%20var%20circle_marker_f514cf9ec4214cb29a90a16e1432bc91%20%3D%20L.circleMarker%28%0A%20%20%20%20%20%20%20%20%20%20%20%20%20%20%20%20%5B37.5481445%2C%20127.0857528%5D%2C%0A%20%20%20%20%20%20%20%20%20%20%20%20%20%20%20%20%7B%22bubblingMouseEvents%22%3A%20true%2C%20%22color%22%3A%20%22%239900FA%22%2C%20%22dashArray%22%3A%20null%2C%20%22dashOffset%22%3A%20null%2C%20%22fill%22%3A%20true%2C%20%22fillColor%22%3A%20%22%239900FA%22%2C%20%22fillOpacity%22%3A%200.2%2C%20%22fillRule%22%3A%20%22evenodd%22%2C%20%22lineCap%22%3A%20%22round%22%2C%20%22lineJoin%22%3A%20%22round%22%2C%20%22opacity%22%3A%201.0%2C%20%22radius%22%3A%2023.6%2C%20%22stroke%22%3A%20true%2C%20%22weight%22%3A%203%7D%0A%20%20%20%20%20%20%20%20%20%20%20%20%29.addTo%28map_626e0569de7248cea75f40928b689539%29%3B%0A%20%20%20%20%20%20%20%20%0A%20%20%20%20%0A%20%20%20%20%20%20%20%20var%20popup_21f03045b6d949788207d49d1c1c5391%20%3D%20L.popup%28%7B%22maxWidth%22%3A%20%22100%25%22%7D%29%3B%0A%0A%20%20%20%20%20%20%20%20%0A%20%20%20%20%20%20%20%20%20%20%20%20var%20html_16bb9ecc81094395ac41baab9b05e272%20%3D%20%24%28%60%3Cdiv%20id%3D%22html_16bb9ecc81094395ac41baab9b05e272%22%20style%3D%22width%3A%20100.0%25%3B%20height%3A%20100.0%25%3B%22%3E%EA%B4%91%EC%A7%84%EA%B5%AC%20136%20%EB%AA%85%3C/div%3E%60%29%5B0%5D%3B%0A%20%20%20%20%20%20%20%20%20%20%20%20popup_21f03045b6d949788207d49d1c1c5391.setContent%28html_16bb9ecc81094395ac41baab9b05e272%29%3B%0A%20%20%20%20%20%20%20%20%0A%0A%20%20%20%20%20%20%20%20circle_marker_f514cf9ec4214cb29a90a16e1432bc91.bindPopup%28popup_21f03045b6d949788207d49d1c1c5391%29%0A%20%20%20%20%20%20%20%20%3B%0A%0A%20%20%20%20%20%20%20%20%0A%20%20%20%20%0A%20%20%20%20%0A%20%20%20%20%20%20%20%20%20%20%20%20var%20circle_marker_0b7557dee0854d13a3dbd5d6270dfb9b%20%3D%20L.circleMarker%28%0A%20%20%20%20%20%20%20%20%20%20%20%20%20%20%20%20%5B37.5506753%2C%20127.0409622%5D%2C%0A%20%20%20%20%20%20%20%20%20%20%20%20%20%20%20%20%7B%22bubblingMouseEvents%22%3A%20true%2C%20%22color%22%3A%20%22%239900FA%22%2C%20%22dashArray%22%3A%20null%2C%20%22dashOffset%22%3A%20null%2C%20%22fill%22%3A%20true%2C%20%22fillColor%22%3A%20%22%239900FA%22%2C%20%22fillOpacity%22%3A%200.2%2C%20%22fillRule%22%3A%20%22evenodd%22%2C%20%22lineCap%22%3A%20%22round%22%2C%20%22lineJoin%22%3A%20%22round%22%2C%20%22opacity%22%3A%201.0%2C%20%22radius%22%3A%2023.0%2C%20%22stroke%22%3A%20true%2C%20%22weight%22%3A%203%7D%0A%20%20%20%20%20%20%20%20%20%20%20%20%29.addTo%28map_626e0569de7248cea75f40928b689539%29%3B%0A%20%20%20%20%20%20%20%20%0A%20%20%20%20%0A%20%20%20%20%20%20%20%20var%20popup_840b773cd67d4abbbb08a28d8ece1bf2%20%3D%20L.popup%28%7B%22maxWidth%22%3A%20%22100%25%22%7D%29%3B%0A%0A%20%20%20%20%20%20%20%20%0A%20%20%20%20%20%20%20%20%20%20%20%20var%20html_222eec7efb814d77bd155e9d1f744271%20%3D%20%24%28%60%3Cdiv%20id%3D%22html_222eec7efb814d77bd155e9d1f744271%22%20style%3D%22width%3A%20100.0%25%3B%20height%3A%20100.0%25%3B%22%3E%EC%84%B1%EB%8F%99%EA%B5%AC%20130%20%EB%AA%85%3C/div%3E%60%29%5B0%5D%3B%0A%20%20%20%20%20%20%20%20%20%20%20%20popup_840b773cd67d4abbbb08a28d8ece1bf2.setContent%28html_222eec7efb814d77bd155e9d1f744271%29%3B%0A%20%20%20%20%20%20%20%20%0A%0A%20%20%20%20%20%20%20%20circle_marker_0b7557dee0854d13a3dbd5d6270dfb9b.bindPopup%28popup_840b773cd67d4abbbb08a28d8ece1bf2%29%0A%20%20%20%20%20%20%20%20%3B%0A%0A%20%20%20%20%20%20%20%20%0A%20%20%20%20%0A%20%20%20%20%0A%20%20%20%20%20%20%20%20%20%20%20%20var%20circle_marker_11216c6a7dc84ad094d51869a53cd287%20%3D%20L.circleMarker%28%0A%20%20%20%20%20%20%20%20%20%20%20%20%20%20%20%20%5B37.5492077%2C%20127.1464824%5D%2C%0A%20%20%20%20%20%20%20%20%20%20%20%20%20%20%20%20%7B%22bubblingMouseEvents%22%3A%20true%2C%20%22color%22%3A%20%22%239900FA%22%2C%20%22dashArray%22%3A%20null%2C%20%22dashOffset%22%3A%20null%2C%20%22fill%22%3A%20true%2C%20%22fillColor%22%3A%20%22%239900FA%22%2C%20%22fillOpacity%22%3A%200.2%2C%20%22fillRule%22%3A%20%22evenodd%22%2C%20%22lineCap%22%3A%20%22round%22%2C%20%22lineJoin%22%3A%20%22round%22%2C%20%22opacity%22%3A%201.0%2C%20%22radius%22%3A%2029.9%2C%20%22stroke%22%3A%20true%2C%20%22weight%22%3A%203%7D%0A%20%20%20%20%20%20%20%20%20%20%20%20%29.addTo%28map_626e0569de7248cea75f40928b689539%29%3B%0A%20%20%20%20%20%20%20%20%0A%20%20%20%20%0A%20%20%20%20%20%20%20%20var%20popup_1da086b157404e788eef57e4cabce5f2%20%3D%20L.popup%28%7B%22maxWidth%22%3A%20%22100%25%22%7D%29%3B%0A%0A%20%20%20%20%20%20%20%20%0A%20%20%20%20%20%20%20%20%20%20%20%20var%20html_4a2859dcd5d6429c895705e4bae94c1f%20%3D%20%24%28%60%3Cdiv%20id%3D%22html_4a2859dcd5d6429c895705e4bae94c1f%22%20style%3D%22width%3A%20100.0%25%3B%20height%3A%20100.0%25%3B%22%3E%EA%B0%95%EB%8F%99%EA%B5%AC%20199%20%EB%AA%85%3C/div%3E%60%29%5B0%5D%3B%0A%20%20%20%20%20%20%20%20%20%20%20%20popup_1da086b157404e788eef57e4cabce5f2.setContent%28html_4a2859dcd5d6429c895705e4bae94c1f%29%3B%0A%20%20%20%20%20%20%20%20%0A%0A%20%20%20%20%20%20%20%20circle_marker_11216c6a7dc84ad094d51869a53cd287.bindPopup%28popup_1da086b157404e788eef57e4cabce5f2%29%0A%20%20%20%20%20%20%20%20%3B%0A%0A%20%20%20%20%20%20%20%20%0A%20%20%20%20%0A%20%20%20%20%0A%20%20%20%20%20%20%20%20%20%20%20%20var%20circle_marker_01561c2be40940c58370c86446a443c7%20%3D%20L.circleMarker%28%0A%20%20%20%20%20%20%20%20%20%20%20%20%20%20%20%20%5B37.5622906%2C%20126.9087803%5D%2C%0A%20%20%20%20%20%20%20%20%20%20%20%20%20%20%20%20%7B%22bubblingMouseEvents%22%3A%20true%2C%20%22color%22%3A%20%22%239900FA%22%2C%20%22dashArray%22%3A%20null%2C%20%22dashOffset%22%3A%20null%2C%20%22fill%22%3A%20true%2C%20%22fillColor%22%3A%20%22%239900FA%22%2C%20%22fillOpacity%22%3A%200.2%2C%20%22fillRule%22%3A%20%22evenodd%22%2C%20%22lineCap%22%3A%20%22round%22%2C%20%22lineJoin%22%3A%20%22round%22%2C%20%22opacity%22%3A%201.0%2C%20%22radius%22%3A%2028.0%2C%20%22stroke%22%3A%20true%2C%20%22weight%22%3A%203%7D%0A%20%20%20%20%20%20%20%20%20%20%20%20%29.addTo%28map_626e0569de7248cea75f40928b689539%29%3B%0A%20%20%20%20%20%20%20%20%0A%20%20%20%20%0A%20%20%20%20%20%20%20%20var%20popup_7aa8974f45794af8886182541adeb99a%20%3D%20L.popup%28%7B%22maxWidth%22%3A%20%22100%25%22%7D%29%3B%0A%0A%20%20%20%20%20%20%20%20%0A%20%20%20%20%20%20%20%20%20%20%20%20var%20html_02e42bd1905c4cc89afb2d81e68f8af2%20%3D%20%24%28%60%3Cdiv%20id%3D%22html_02e42bd1905c4cc89afb2d81e68f8af2%22%20style%3D%22width%3A%20100.0%25%3B%20height%3A%20100.0%25%3B%22%3E%EB%A7%88%ED%8F%AC%EA%B5%AC%20180%20%EB%AA%85%3C/div%3E%60%29%5B0%5D%3B%0A%20%20%20%20%20%20%20%20%20%20%20%20popup_7aa8974f45794af8886182541adeb99a.setContent%28html_02e42bd1905c4cc89afb2d81e68f8af2%29%3B%0A%20%20%20%20%20%20%20%20%0A%0A%20%20%20%20%20%20%20%20circle_marker_01561c2be40940c58370c86446a443c7.bindPopup%28popup_7aa8974f45794af8886182541adeb99a%29%0A%20%20%20%20%20%20%20%20%3B%0A%0A%20%20%20%20%20%20%20%20%0A%20%20%20%20%0A%20%20%20%20%0A%20%20%20%20%20%20%20%20%20%20%20%20var%20circle_marker_4a20827e9e6e4a49a3f25fbff61bd461%20%3D%20L.circleMarker%28%0A%20%20%20%20%20%20%20%20%20%20%20%20%20%20%20%20%5B37.4769528%2C%20127.0378103%5D%2C%0A%20%20%20%20%20%20%20%20%20%20%20%20%20%20%20%20%7B%22bubblingMouseEvents%22%3A%20true%2C%20%22color%22%3A%20%22%239900FA%22%2C%20%22dashArray%22%3A%20null%2C%20%22dashOffset%22%3A%20null%2C%20%22fill%22%3A%20true%2C%20%22fillColor%22%3A%20%22%239900FA%22%2C%20%22fillOpacity%22%3A%200.2%2C%20%22fillRule%22%3A%20%22evenodd%22%2C%20%22lineCap%22%3A%20%22round%22%2C%20%22lineJoin%22%3A%20%22round%22%2C%20%22opacity%22%3A%201.0%2C%20%22radius%22%3A%2031.0%2C%20%22stroke%22%3A%20true%2C%20%22weight%22%3A%203%7D%0A%20%20%20%20%20%20%20%20%20%20%20%20%29.addTo%28map_626e0569de7248cea75f40928b689539%29%3B%0A%20%20%20%20%20%20%20%20%0A%20%20%20%20%0A%20%20%20%20%20%20%20%20var%20popup_91232454607c449087ee5c162a80d822%20%3D%20L.popup%28%7B%22maxWidth%22%3A%20%22100%25%22%7D%29%3B%0A%0A%20%20%20%20%20%20%20%20%0A%20%20%20%20%20%20%20%20%20%20%20%20var%20html_58cf98e2c70440f0bdd1e7868ae087ee%20%3D%20%24%28%60%3Cdiv%20id%3D%22html_58cf98e2c70440f0bdd1e7868ae087ee%22%20style%3D%22width%3A%20100.0%25%3B%20height%3A%20100.0%25%3B%22%3E%EC%84%9C%EC%B4%88%EA%B5%AC%20210%20%EB%AA%85%3C/div%3E%60%29%5B0%5D%3B%0A%20%20%20%20%20%20%20%20%20%20%20%20popup_91232454607c449087ee5c162a80d822.setContent%28html_58cf98e2c70440f0bdd1e7868ae087ee%29%3B%0A%20%20%20%20%20%20%20%20%0A%0A%20%20%20%20%20%20%20%20circle_marker_4a20827e9e6e4a49a3f25fbff61bd461.bindPopup%28popup_91232454607c449087ee5c162a80d822%29%0A%20%20%20%20%20%20%20%20%3B%0A%0A%20%20%20%20%20%20%20%20%0A%20%20%20%20%0A%20%20%20%20%0A%20%20%20%20%20%20%20%20%20%20%20%20var%20circle_marker_137249cf807f4b3a845e654e082e1a6f%20%3D%20L.circleMarker%28%0A%20%20%20%20%20%20%20%20%20%20%20%20%20%20%20%20%5B37.5820369%2C%20126.9356665%5D%2C%0A%20%20%20%20%20%20%20%20%20%20%20%20%20%20%20%20%7B%22bubblingMouseEvents%22%3A%20true%2C%20%22color%22%3A%20%22%239900FA%22%2C%20%22dashArray%22%3A%20null%2C%20%22dashOffset%22%3A%20null%2C%20%22fill%22%3A%20true%2C%20%22fillColor%22%3A%20%22%239900FA%22%2C%20%22fillOpacity%22%3A%200.2%2C%20%22fillRule%22%3A%20%22evenodd%22%2C%20%22lineCap%22%3A%20%22round%22%2C%20%22lineJoin%22%3A%20%22round%22%2C%20%22opacity%22%3A%201.0%2C%20%22radius%22%3A%2023.5%2C%20%22stroke%22%3A%20true%2C%20%22weight%22%3A%203%7D%0A%20%20%20%20%20%20%20%20%20%20%20%20%29.addTo%28map_626e0569de7248cea75f40928b689539%29%3B%0A%20%20%20%20%20%20%20%20%0A%20%20%20%20%0A%20%20%20%20%20%20%20%20var%20popup_888b6f3407254c3b9f849c17b251c5b7%20%3D%20L.popup%28%7B%22maxWidth%22%3A%20%22100%25%22%7D%29%3B%0A%0A%20%20%20%20%20%20%20%20%0A%20%20%20%20%20%20%20%20%20%20%20%20var%20html_63f251eb39524348b894cda8a5ff3e14%20%3D%20%24%28%60%3Cdiv%20id%3D%22html_63f251eb39524348b894cda8a5ff3e14%22%20style%3D%22width%3A%20100.0%25%3B%20height%3A%20100.0%25%3B%22%3E%EC%84%9C%EB%8C%80%EB%AC%B8%EA%B5%AC%20135%20%EB%AA%85%3C/div%3E%60%29%5B0%5D%3B%0A%20%20%20%20%20%20%20%20%20%20%20%20popup_888b6f3407254c3b9f849c17b251c5b7.setContent%28html_63f251eb39524348b894cda8a5ff3e14%29%3B%0A%20%20%20%20%20%20%20%20%0A%0A%20%20%20%20%20%20%20%20circle_marker_137249cf807f4b3a845e654e082e1a6f.bindPopup%28popup_888b6f3407254c3b9f849c17b251c5b7%29%0A%20%20%20%20%20%20%20%20%3B%0A%0A%20%20%20%20%20%20%20%20%0A%20%20%20%20%0A%20%20%20%20%0A%20%20%20%20%20%20%20%20%20%20%20%20var%20circle_marker_402184d35eed44a28b7c0b5ef2236b08%20%3D%20L.circleMarker%28%0A%20%20%20%20%20%20%20%20%20%20%20%20%20%20%20%20%5B37.5579452%2C%20126.9941904%5D%2C%0A%20%20%20%20%20%20%20%20%20%20%20%20%20%20%20%20%7B%22bubblingMouseEvents%22%3A%20true%2C%20%22color%22%3A%20%22%239900FA%22%2C%20%22dashArray%22%3A%20null%2C%20%22dashOffset%22%3A%20null%2C%20%22fill%22%3A%20true%2C%20%22fillColor%22%3A%20%22%239900FA%22%2C%20%22fillOpacity%22%3A%200.2%2C%20%22fillRule%22%3A%20%22evenodd%22%2C%20%22lineCap%22%3A%20%22round%22%2C%20%22lineJoin%22%3A%20%22round%22%2C%20%22opacity%22%3A%201.0%2C%20%22radius%22%3A%2016.4%2C%20%22stroke%22%3A%20true%2C%20%22weight%22%3A%203%7D%0A%20%20%20%20%20%20%20%20%20%20%20%20%29.addTo%28map_626e0569de7248cea75f40928b689539%29%3B%0A%20%20%20%20%20%20%20%20%0A%20%20%20%20%0A%20%20%20%20%20%20%20%20var%20popup_9f82e6bb15274dc184d13966015fb3ee%20%3D%20L.popup%28%7B%22maxWidth%22%3A%20%22100%25%22%7D%29%3B%0A%0A%20%20%20%20%20%20%20%20%0A%20%20%20%20%20%20%20%20%20%20%20%20var%20html_a6af10c7a5d44f1a9d9857c15d97cff6%20%3D%20%24%28%60%3Cdiv%20id%3D%22html_a6af10c7a5d44f1a9d9857c15d97cff6%22%20style%3D%22width%3A%20100.0%25%3B%20height%3A%20100.0%25%3B%22%3E%EC%A4%91%EA%B5%AC%2064%20%EB%AA%85%3C/div%3E%60%29%5B0%5D%3B%0A%20%20%20%20%20%20%20%20%20%20%20%20popup_9f82e6bb15274dc184d13966015fb3ee.setContent%28html_a6af10c7a5d44f1a9d9857c15d97cff6%29%3B%0A%20%20%20%20%20%20%20%20%0A%0A%20%20%20%20%20%20%20%20circle_marker_402184d35eed44a28b7c0b5ef2236b08.bindPopup%28popup_9f82e6bb15274dc184d13966015fb3ee%29%0A%20%20%20%20%20%20%20%20%3B%0A%0A%20%20%20%20%20%20%20%20%0A%20%20%20%20%0A%20%20%20%20%0A%20%20%20%20%20%20%20%20%20%20%20%20var%20circle_marker_21d30fd699a34c2e911920a35f06cd3e%20%3D%20L.circleMarker%28%0A%20%20%20%20%20%20%20%20%20%20%20%20%20%20%20%20%5B37.4959854%2C%20127.0664091%5D%2C%0A%20%20%20%20%20%20%20%20%20%20%20%20%20%20%20%20%7B%22bubblingMouseEvents%22%3A%20true%2C%20%22color%22%3A%20%22%239900FA%22%2C%20%22dashArray%22%3A%20null%2C%20%22dashOffset%22%3A%20null%2C%20%22fill%22%3A%20true%2C%20%22fillColor%22%3A%20%22%239900FA%22%2C%20%22fillOpacity%22%3A%200.2%2C%20%22fillRule%22%3A%20%22evenodd%22%2C%20%22lineCap%22%3A%20%22round%22%2C%20%22lineJoin%22%3A%20%22round%22%2C%20%22opacity%22%3A%201.0%2C%20%22radius%22%3A%2039.6%2C%20%22stroke%22%3A%20true%2C%20%22weight%22%3A%203%7D%0A%20%20%20%20%20%20%20%20%20%20%20%20%29.addTo%28map_626e0569de7248cea75f40928b689539%29%3B%0A%20%20%20%20%20%20%20%20%0A%20%20%20%20%0A%20%20%20%20%20%20%20%20var%20popup_7becc6851d934001aa14cb298d35b263%20%3D%20L.popup%28%7B%22maxWidth%22%3A%20%22100%25%22%7D%29%3B%0A%0A%20%20%20%20%20%20%20%20%0A%20%20%20%20%20%20%20%20%20%20%20%20var%20html_f80e7a21fdcd4c7698e5846792be8c87%20%3D%20%24%28%60%3Cdiv%20id%3D%22html_f80e7a21fdcd4c7698e5846792be8c87%22%20style%3D%22width%3A%20100.0%25%3B%20height%3A%20100.0%25%3B%22%3E%EA%B0%95%EB%82%A8%EA%B5%AC%20296%20%EB%AA%85%3C/div%3E%60%29%5B0%5D%3B%0A%20%20%20%20%20%20%20%20%20%20%20%20popup_7becc6851d934001aa14cb298d35b263.setContent%28html_f80e7a21fdcd4c7698e5846792be8c87%29%3B%0A%20%20%20%20%20%20%20%20%0A%0A%20%20%20%20%20%20%20%20circle_marker_21d30fd699a34c2e911920a35f06cd3e.bindPopup%28popup_7becc6851d934001aa14cb298d35b263%29%0A%20%20%20%20%20%20%20%20%3B%0A%0A%20%20%20%20%20%20%20%20%0A%20%20%20%20%0A%20%20%20%20%0A%20%20%20%20%20%20%20%20%20%20%20%20var%20circle_marker_837c6d025cda4d2ab5831bc63dca9079%20%3D%20L.circleMarker%28%0A%20%20%20%20%20%20%20%20%20%20%20%20%20%20%20%20%5B37.5657617%2C%20126.8226561%5D%2C%0A%20%20%20%20%20%20%20%20%20%20%20%20%20%20%20%20%7B%22bubblingMouseEvents%22%3A%20true%2C%20%22color%22%3A%20%22%239900FA%22%2C%20%22dashArray%22%3A%20null%2C%20%22dashOffset%22%3A%20null%2C%20%22fill%22%3A%20true%2C%20%22fillColor%22%3A%20%22%239900FA%22%2C%20%22fillOpacity%22%3A%200.2%2C%20%22fillRule%22%3A%20%22evenodd%22%2C%20%22lineCap%22%3A%20%22round%22%2C%20%22lineJoin%22%3A%20%22round%22%2C%20%22opacity%22%3A%201.0%2C%20%22radius%22%3A%2039.5%2C%20%22stroke%22%3A%20true%2C%20%22weight%22%3A%203%7D%0A%20%20%20%20%20%20%20%20%20%20%20%20%29.addTo%28map_626e0569de7248cea75f40928b689539%29%3B%0A%20%20%20%20%20%20%20%20%0A%20%20%20%20%0A%20%20%20%20%20%20%20%20var%20popup_f8d5b4bf3de94d91b9ccf941e98ca19a%20%3D%20L.popup%28%7B%22maxWidth%22%3A%20%22100%25%22%7D%29%3B%0A%0A%20%20%20%20%20%20%20%20%0A%20%20%20%20%20%20%20%20%20%20%20%20var%20html_cf4c467f828f4174ad1f4c408efa7936%20%3D%20%24%28%60%3Cdiv%20id%3D%22html_cf4c467f828f4174ad1f4c408efa7936%22%20style%3D%22width%3A%20100.0%25%3B%20height%3A%20100.0%25%3B%22%3E%EA%B0%95%EC%84%9C%EA%B5%AC%20295%20%EB%AA%85%3C/div%3E%60%29%5B0%5D%3B%0A%20%20%20%20%20%20%20%20%20%20%20%20popup_f8d5b4bf3de94d91b9ccf941e98ca19a.setContent%28html_cf4c467f828f4174ad1f4c408efa7936%29%3B%0A%20%20%20%20%20%20%20%20%0A%0A%20%20%20%20%20%20%20%20circle_marker_837c6d025cda4d2ab5831bc63dca9079.bindPopup%28popup_f8d5b4bf3de94d91b9ccf941e98ca19a%29%0A%20%20%20%20%20%20%20%20%3B%0A%0A%20%20%20%20%20%20%20%20%0A%20%20%20%20%0A%20%20%20%20%0A%20%20%20%20%20%20%20%20%20%20%20%20var%20circle_marker_7441b692d9084d65b1b31950c441dd87%20%3D%20L.circleMarker%28%0A%20%20%20%20%20%20%20%20%20%20%20%20%20%20%20%20%5B37.6658609%2C%20127.0317674%5D%2C%0A%20%20%20%20%20%20%20%20%20%20%20%20%20%20%20%20%7B%22bubblingMouseEvents%22%3A%20true%2C%20%22color%22%3A%20%22%239900FA%22%2C%20%22dashArray%22%3A%20null%2C%20%22dashOffset%22%3A%20null%2C%20%22fill%22%3A%20true%2C%20%22fillColor%22%3A%20%22%239900FA%22%2C%20%22fillOpacity%22%3A%200.2%2C%20%22fillRule%22%3A%20%22evenodd%22%2C%20%22lineCap%22%3A%20%22round%22%2C%20%22lineJoin%22%3A%20%22round%22%2C%20%22opacity%22%3A%201.0%2C%20%22radius%22%3A%2032.3%2C%20%22stroke%22%3A%20true%2C%20%22weight%22%3A%203%7D%0A%20%20%20%20%20%20%20%20%20%20%20%20%29.addTo%28map_626e0569de7248cea75f40928b689539%29%3B%0A%20%20%20%20%20%20%20%20%0A%20%20%20%20%0A%20%20%20%20%20%20%20%20var%20popup_1c6740f9a1b64c998160ccb1de4da369%20%3D%20L.popup%28%7B%22maxWidth%22%3A%20%22100%25%22%7D%29%3B%0A%0A%20%20%20%20%20%20%20%20%0A%20%20%20%20%20%20%20%20%20%20%20%20var%20html_66080570ced74d7b81e5b02d03e46ef4%20%3D%20%24%28%60%3Cdiv%20id%3D%22html_66080570ced74d7b81e5b02d03e46ef4%22%20style%3D%22width%3A%20100.0%25%3B%20height%3A%20100.0%25%3B%22%3E%EB%8F%84%EB%B4%89%EA%B5%AC%20223%20%EB%AA%85%3C/div%3E%60%29%5B0%5D%3B%0A%20%20%20%20%20%20%20%20%20%20%20%20popup_1c6740f9a1b64c998160ccb1de4da369.setContent%28html_66080570ced74d7b81e5b02d03e46ef4%29%3B%0A%20%20%20%20%20%20%20%20%0A%0A%20%20%20%20%20%20%20%20circle_marker_7441b692d9084d65b1b31950c441dd87.bindPopup%28popup_1c6740f9a1b64c998160ccb1de4da369%29%0A%20%20%20%20%20%20%20%20%3B%0A%0A%20%20%20%20%20%20%20%20%0A%20%20%20%20%0A%20%20%20%20%0A%20%20%20%20%20%20%20%20%20%20%20%20var%20circle_marker_30f21e96822c428ab82bb1bdf3d83234%20%3D%20L.circleMarker%28%0A%20%20%20%20%20%20%20%20%20%20%20%20%20%20%20%20%5B37.5048534%2C%20127.1144822%5D%2C%0A%20%20%20%20%20%20%20%20%20%20%20%20%20%20%20%20%7B%22bubblingMouseEvents%22%3A%20true%2C%20%22color%22%3A%20%22%239900FA%22%2C%20%22dashArray%22%3A%20null%2C%20%22dashOffset%22%3A%20null%2C%20%22fill%22%3A%20true%2C%20%22fillColor%22%3A%20%22%239900FA%22%2C%20%22fillOpacity%22%3A%200.2%2C%20%22fillRule%22%3A%20%22evenodd%22%2C%20%22lineCap%22%3A%20%22round%22%2C%20%22lineJoin%22%3A%20%22round%22%2C%20%22opacity%22%3A%201.0%2C%20%22radius%22%3A%2046.1%2C%20%22stroke%22%3A%20true%2C%20%22weight%22%3A%203%7D%0A%20%20%20%20%20%20%20%20%20%20%20%20%29.addTo%28map_626e0569de7248cea75f40928b689539%29%3B%0A%20%20%20%20%20%20%20%20%0A%20%20%20%20%0A%20%20%20%20%20%20%20%20var%20popup_5ce648d451c3454f9c9318222aa507d0%20%3D%20L.popup%28%7B%22maxWidth%22%3A%20%22100%25%22%7D%29%3B%0A%0A%20%20%20%20%20%20%20%20%0A%20%20%20%20%20%20%20%20%20%20%20%20var%20html_a73ed04f068e49f688548c6f53b12948%20%3D%20%24%28%60%3Cdiv%20id%3D%22html_a73ed04f068e49f688548c6f53b12948%22%20style%3D%22width%3A%20100.0%25%3B%20height%3A%20100.0%25%3B%22%3E%EC%86%A1%ED%8C%8C%EA%B5%AC%20361%20%EB%AA%85%3C/div%3E%60%29%5B0%5D%3B%0A%20%20%20%20%20%20%20%20%20%20%20%20popup_5ce648d451c3454f9c9318222aa507d0.setContent%28html_a73ed04f068e49f688548c6f53b12948%29%3B%0A%20%20%20%20%20%20%20%20%0A%0A%20%20%20%20%20%20%20%20circle_marker_30f21e96822c428ab82bb1bdf3d83234.bindPopup%28popup_5ce648d451c3454f9c9318222aa507d0%29%0A%20%20%20%20%20%20%20%20%3B%0A%0A%20%20%20%20%20%20%20%20%0A%20%20%20%20%0A%20%20%20%20%0A%20%20%20%20%20%20%20%20%20%20%20%20var%20circle_marker_5cb83fcb76d644e39cfa32300c825118%20%3D%20L.circleMarker%28%0A%20%20%20%20%20%20%20%20%20%20%20%20%20%20%20%20%5B37.5990998%2C%20126.9861493%5D%2C%0A%20%20%20%20%20%20%20%20%20%20%20%20%20%20%20%20%7B%22bubblingMouseEvents%22%3A%20true%2C%20%22color%22%3A%20%22%239900FA%22%2C%20%22dashArray%22%3A%20null%2C%20%22dashOffset%22%3A%20null%2C%20%22fill%22%3A%20true%2C%20%22fillColor%22%3A%20%22%239900FA%22%2C%20%22fillOpacity%22%3A%200.2%2C%20%22fillRule%22%3A%20%22evenodd%22%2C%20%22lineCap%22%3A%20%22round%22%2C%20%22lineJoin%22%3A%20%22round%22%2C%20%22opacity%22%3A%201.0%2C%20%22radius%22%3A%2019.4%2C%20%22stroke%22%3A%20true%2C%20%22weight%22%3A%203%7D%0A%20%20%20%20%20%20%20%20%20%20%20%20%29.addTo%28map_626e0569de7248cea75f40928b689539%29%3B%0A%20%20%20%20%20%20%20%20%0A%20%20%20%20%0A%20%20%20%20%20%20%20%20var%20popup_e87c9e172bc548c796ccf5f278a7fc84%20%3D%20L.popup%28%7B%22maxWidth%22%3A%20%22100%25%22%7D%29%3B%0A%0A%20%20%20%20%20%20%20%20%0A%20%20%20%20%20%20%20%20%20%20%20%20var%20html_e3c30d9d935549d6a158503f00538daa%20%3D%20%24%28%60%3Cdiv%20id%3D%22html_e3c30d9d935549d6a158503f00538daa%22%20style%3D%22width%3A%20100.0%25%3B%20height%3A%20100.0%25%3B%22%3E%EC%A2%85%EB%A1%9C%EA%B5%AC%2094%20%EB%AA%85%3C/div%3E%60%29%5B0%5D%3B%0A%20%20%20%20%20%20%20%20%20%20%20%20popup_e87c9e172bc548c796ccf5f278a7fc84.setContent%28html_e3c30d9d935549d6a158503f00538daa%29%3B%0A%20%20%20%20%20%20%20%20%0A%0A%20%20%20%20%20%20%20%20circle_marker_5cb83fcb76d644e39cfa32300c825118.bindPopup%28popup_e87c9e172bc548c796ccf5f278a7fc84%29%0A%20%20%20%20%20%20%20%20%3B%0A%0A%20%20%20%20%20%20%20%20%0A%20%20%20%20%0A%20%20%20%20%0A%20%20%20%20%20%20%20%20%20%20%20%20var%20circle_marker_6b8d8967d6ea47fe9ae598eeb48f5ec4%20%3D%20L.circleMarker%28%0A%20%20%20%20%20%20%20%20%20%20%20%20%20%20%20%20%5B37.520641%2C%20126.9139242%5D%2C%0A%20%20%20%20%20%20%20%20%20%20%20%20%20%20%20%20%7B%22bubblingMouseEvents%22%3A%20true%2C%20%22color%22%3A%20%22%239900FA%22%2C%20%22dashArray%22%3A%20null%2C%20%22dashOffset%22%3A%20null%2C%20%22fill%22%3A%20true%2C%20%22fillColor%22%3A%20%22%239900FA%22%2C%20%22fillOpacity%22%3A%200.2%2C%20%22fillRule%22%3A%20%22evenodd%22%2C%20%22lineCap%22%3A%20%22round%22%2C%20%22lineJoin%22%3A%20%22round%22%2C%20%22opacity%22%3A%201.0%2C%20%22radius%22%3A%2030.0%2C%20%22stroke%22%3A%20true%2C%20%22weight%22%3A%203%7D%0A%20%20%20%20%20%20%20%20%20%20%20%20%29.addTo%28map_626e0569de7248cea75f40928b689539%29%3B%0A%20%20%20%20%20%20%20%20%0A%20%20%20%20%0A%20%20%20%20%20%20%20%20var%20popup_860340e0d6ab4e0d96ccf1db0715667c%20%3D%20L.popup%28%7B%22maxWidth%22%3A%20%22100%25%22%7D%29%3B%0A%0A%20%20%20%20%20%20%20%20%0A%20%20%20%20%20%20%20%20%20%20%20%20var%20html_bcfa4583f7ce498ab1ce28365302f9af%20%3D%20%24%28%60%3Cdiv%20id%3D%22html_bcfa4583f7ce498ab1ce28365302f9af%22%20style%3D%22width%3A%20100.0%25%3B%20height%3A%20100.0%25%3B%22%3E%EC%98%81%EB%93%B1%ED%8F%AC%EA%B5%AC%20200%20%EB%AA%85%3C/div%3E%60%29%5B0%5D%3B%0A%20%20%20%20%20%20%20%20%20%20%20%20popup_860340e0d6ab4e0d96ccf1db0715667c.setContent%28html_bcfa4583f7ce498ab1ce28365302f9af%29%3B%0A%20%20%20%20%20%20%20%20%0A%0A%20%20%20%20%20%20%20%20circle_marker_6b8d8967d6ea47fe9ae598eeb48f5ec4.bindPopup%28popup_860340e0d6ab4e0d96ccf1db0715667c%29%0A%20%20%20%20%20%20%20%20%3B%0A%0A%20%20%20%20%20%20%20%20%0A%20%20%20%20%0A%20%20%20%20%0A%20%20%20%20%20%20%20%20%20%20%20%20var%20circle_marker_1f961da981cc457883a8f0be5e7d7d73%20%3D%20L.circleMarker%28%0A%20%20%20%20%20%20%20%20%20%20%20%20%20%20%20%20%5B37.655264%2C%20127.0771201%5D%2C%0A%20%20%20%20%20%20%20%20%20%20%20%20%20%20%20%20%7B%22bubblingMouseEvents%22%3A%20true%2C%20%22color%22%3A%20%22%239900FA%22%2C%20%22dashArray%22%3A%20null%2C%20%22dashOffset%22%3A%20null%2C%20%22fill%22%3A%20true%2C%20%22fillColor%22%3A%20%22%239900FA%22%2C%20%22fillOpacity%22%3A%200.2%2C%20%22fillRule%22%3A%20%22evenodd%22%2C%20%22lineCap%22%3A%20%22round%22%2C%20%22lineJoin%22%3A%20%22round%22%2C%20%22opacity%22%3A%201.0%2C%20%22radius%22%3A%2042.3%2C%20%22stroke%22%3A%20true%2C%20%22weight%22%3A%203%7D%0A%20%20%20%20%20%20%20%20%20%20%20%20%29.addTo%28map_626e0569de7248cea75f40928b689539%29%3B%0A%20%20%20%20%20%20%20%20%0A%20%20%20%20%0A%20%20%20%20%20%20%20%20var%20popup_8ddab0429c4f4dd59e8a4edf9bd15479%20%3D%20L.popup%28%7B%22maxWidth%22%3A%20%22100%25%22%7D%29%3B%0A%0A%20%20%20%20%20%20%20%20%0A%20%20%20%20%20%20%20%20%20%20%20%20var%20html_32c39a098df843eb88075703c0ac5794%20%3D%20%24%28%60%3Cdiv%20id%3D%22html_32c39a098df843eb88075703c0ac5794%22%20style%3D%22width%3A%20100.0%25%3B%20height%3A%20100.0%25%3B%22%3E%EB%85%B8%EC%9B%90%EA%B5%AC%20323%20%EB%AA%85%3C/div%3E%60%29%5B0%5D%3B%0A%20%20%20%20%20%20%20%20%20%20%20%20popup_8ddab0429c4f4dd59e8a4edf9bd15479.setContent%28html_32c39a098df843eb88075703c0ac5794%29%3B%0A%20%20%20%20%20%20%20%20%0A%0A%20%20%20%20%20%20%20%20circle_marker_1f961da981cc457883a8f0be5e7d7d73.bindPopup%28popup_8ddab0429c4f4dd59e8a4edf9bd15479%29%0A%20%20%20%20%20%20%20%20%3B%0A%0A%20%20%20%20%20%20%20%20%0A%20%20%20%20%0A%20%20%20%20%0A%20%20%20%20%20%20%20%20%20%20%20%20var%20circle_marker_17dda68a5de14dd1897d6c86071cd308%20%3D%20L.circleMarker%28%0A%20%20%20%20%20%20%20%20%20%20%20%20%20%20%20%20%5B37.5838012%2C%20127.0507003%5D%2C%0A%20%20%20%20%20%20%20%20%20%20%20%20%20%20%20%20%7B%22bubblingMouseEvents%22%3A%20true%2C%20%22color%22%3A%20%22%239900FA%22%2C%20%22dashArray%22%3A%20null%2C%20%22dashOffset%22%3A%20null%2C%20%22fill%22%3A%20true%2C%20%22fillColor%22%3A%20%22%239900FA%22%2C%20%22fillOpacity%22%3A%200.2%2C%20%22fillRule%22%3A%20%22evenodd%22%2C%20%22lineCap%22%3A%20%22round%22%2C%20%22lineJoin%22%3A%20%22round%22%2C%20%22opacity%22%3A%201.0%2C%20%22radius%22%3A%2027.2%2C%20%22stroke%22%3A%20true%2C%20%22weight%22%3A%203%7D%0A%20%20%20%20%20%20%20%20%20%20%20%20%29.addTo%28map_626e0569de7248cea75f40928b689539%29%3B%0A%20%20%20%20%20%20%20%20%0A%20%20%20%20%0A%20%20%20%20%20%20%20%20var%20popup_856f2c59a9204be8b87ca132dcf2ea33%20%3D%20L.popup%28%7B%22maxWidth%22%3A%20%22100%25%22%7D%29%3B%0A%0A%20%20%20%20%20%20%20%20%0A%20%20%20%20%20%20%20%20%20%20%20%20var%20html_bba850d850534593b299911e51680714%20%3D%20%24%28%60%3Cdiv%20id%3D%22html_bba850d850534593b299911e51680714%22%20style%3D%22width%3A%20100.0%25%3B%20height%3A%20100.0%25%3B%22%3E%EB%8F%99%EB%8C%80%EB%AC%B8%EA%B5%AC%20172%20%EB%AA%85%3C/div%3E%60%29%5B0%5D%3B%0A%20%20%20%20%20%20%20%20%20%20%20%20popup_856f2c59a9204be8b87ca132dcf2ea33.setContent%28html_bba850d850534593b299911e51680714%29%3B%0A%20%20%20%20%20%20%20%20%0A%0A%20%20%20%20%20%20%20%20circle_marker_17dda68a5de14dd1897d6c86071cd308.bindPopup%28popup_856f2c59a9204be8b87ca132dcf2ea33%29%0A%20%20%20%20%20%20%20%20%3B%0A%0A%20%20%20%20%20%20%20%20%0A%20%20%20%20%0A%20%20%20%20%0A%20%20%20%20%20%20%20%20%20%20%20%20var%20circle_marker_901bf045f7ab41bea93205f318d0b412%20%3D%20L.circleMarker%28%0A%20%20%20%20%20%20%20%20%20%20%20%20%20%20%20%20%5B37.4600969%2C%20126.9001546%5D%2C%0A%20%20%20%20%20%20%20%20%20%20%20%20%20%20%20%20%7B%22bubblingMouseEvents%22%3A%20true%2C%20%22color%22%3A%20%22%239900FA%22%2C%20%22dashArray%22%3A%20null%2C%20%22dashOffset%22%3A%20null%2C%20%22fill%22%3A%20true%2C%20%22fillColor%22%3A%20%22%239900FA%22%2C%20%22fillOpacity%22%3A%200.2%2C%20%22fillRule%22%3A%20%22evenodd%22%2C%20%22lineCap%22%3A%20%22round%22%2C%20%22lineJoin%22%3A%20%22round%22%2C%20%22opacity%22%3A%201.0%2C%20%22radius%22%3A%2019.6%2C%20%22stroke%22%3A%20true%2C%20%22weight%22%3A%203%7D%0A%20%20%20%20%20%20%20%20%20%20%20%20%29.addTo%28map_626e0569de7248cea75f40928b689539%29%3B%0A%20%20%20%20%20%20%20%20%0A%20%20%20%20%0A%20%20%20%20%20%20%20%20var%20popup_865a5fa4af8c4f7f83a133cdcd62fe8b%20%3D%20L.popup%28%7B%22maxWidth%22%3A%20%22100%25%22%7D%29%3B%0A%0A%20%20%20%20%20%20%20%20%0A%20%20%20%20%20%20%20%20%20%20%20%20var%20html_13e4a0d2baf04c3abc44d91e115de543%20%3D%20%24%28%60%3Cdiv%20id%3D%22html_13e4a0d2baf04c3abc44d91e115de543%22%20style%3D%22width%3A%20100.0%25%3B%20height%3A%20100.0%25%3B%22%3E%EA%B8%88%EC%B2%9C%EA%B5%AC%2096%20%EB%AA%85%3C/div%3E%60%29%5B0%5D%3B%0A%20%20%20%20%20%20%20%20%20%20%20%20popup_865a5fa4af8c4f7f83a133cdcd62fe8b.setContent%28html_13e4a0d2baf04c3abc44d91e115de543%29%3B%0A%20%20%20%20%20%20%20%20%0A%0A%20%20%20%20%20%20%20%20circle_marker_901bf045f7ab41bea93205f318d0b412.bindPopup%28popup_865a5fa4af8c4f7f83a133cdcd62fe8b%29%0A%20%20%20%20%20%20%20%20%3B%0A%0A%20%20%20%20%20%20%20%20%0A%20%20%20%20%0A%20%20%20%20%0A%20%20%20%20%20%20%20%20%20%20%20%20var%20circle_marker_106490ca43cb49dfa836c97306067896%20%3D%20L.circleMarker%28%0A%20%20%20%20%20%20%20%20%20%20%20%20%20%20%20%20%5B37.4954856%2C%20126.858121%5D%2C%0A%20%20%20%20%20%20%20%20%20%20%20%20%20%20%20%20%7B%22bubblingMouseEvents%22%3A%20true%2C%20%22color%22%3A%20%22%239900FA%22%2C%20%22dashArray%22%3A%20null%2C%20%22dashOffset%22%3A%20null%2C%20%22fill%22%3A%20true%2C%20%22fillColor%22%3A%20%22%239900FA%22%2C%20%22fillOpacity%22%3A%200.2%2C%20%22fillRule%22%3A%20%22evenodd%22%2C%20%22lineCap%22%3A%20%22round%22%2C%20%22lineJoin%22%3A%20%22round%22%2C%20%22opacity%22%3A%201.0%2C%20%22radius%22%3A%2029.3%2C%20%22stroke%22%3A%20true%2C%20%22weight%22%3A%203%7D%0A%20%20%20%20%20%20%20%20%20%20%20%20%29.addTo%28map_626e0569de7248cea75f40928b689539%29%3B%0A%20%20%20%20%20%20%20%20%0A%20%20%20%20%0A%20%20%20%20%20%20%20%20var%20popup_e31f88eb44f6438c9d9df3e1dccd428e%20%3D%20L.popup%28%7B%22maxWidth%22%3A%20%22100%25%22%7D%29%3B%0A%0A%20%20%20%20%20%20%20%20%0A%20%20%20%20%20%20%20%20%20%20%20%20var%20html_16485cfa09c3416dbf64bfcd511316f1%20%3D%20%24%28%60%3Cdiv%20id%3D%22html_16485cfa09c3416dbf64bfcd511316f1%22%20style%3D%22width%3A%20100.0%25%3B%20height%3A%20100.0%25%3B%22%3E%EA%B5%AC%EB%A1%9C%EA%B5%AC%20193%20%EB%AA%85%3C/div%3E%60%29%5B0%5D%3B%0A%20%20%20%20%20%20%20%20%20%20%20%20popup_e31f88eb44f6438c9d9df3e1dccd428e.setContent%28html_16485cfa09c3416dbf64bfcd511316f1%29%3B%0A%20%20%20%20%20%20%20%20%0A%0A%20%20%20%20%20%20%20%20circle_marker_106490ca43cb49dfa836c97306067896.bindPopup%28popup_e31f88eb44f6438c9d9df3e1dccd428e%29%0A%20%20%20%20%20%20%20%20%3B%0A%0A%20%20%20%20%20%20%20%20%0A%20%20%20%20%0A%3C/script%3E onload=\"this.contentDocument.open();this.contentDocument.write(    decodeURIComponent(this.getAttribute('data-html')));this.contentDocument.close();\" allowfullscreen webkitallowfullscreen mozallowfullscreen></iframe></div></div>"
      ],
      "text/plain": [
       "<folium.folium.Map at 0x1b48b1ee580>"
      ]
     },
     "execution_count": 29,
     "metadata": {},
     "output_type": "execute_result"
    }
   ],
   "source": [
    "corona_seoul = corona_area.drop(corona_area[corona_area['지역']=='타시도'].index)\n",
    "corona_seoul = corona_seoul.drop(corona_area[corona_area['지역'] == '기타'].index)\n",
    "\n",
    "map_f = folium.Map(location=[37.557945, 126.99419], zoom_start=11)\n",
    "for i in set(corona_seoul['지역']):\n",
    "    cnt = len(corona_seoul[corona_seoul['지역']==i])\n",
    "    seoul_r = seoul_area[seoul_area['시군구명_한글'] == i]\n",
    "    \n",
    "    marker = folium.CircleMarker([seoul_r['위도'], seoul_r['경도']],\n",
    "                                radius=cnt/10 +10, color='#9900FA', \n",
    "                                 fill_color='#9900FA', popup=' '.join((i, str(cnt),\"명\")))\n",
    "    marker.add_to(map_f)\n",
    "    \n",
    "map_f"
   ]
  },
  {
   "cell_type": "markdown",
   "id": "5806a6a5",
   "metadata": {},
   "source": [
    "복습 : 6월에 확진자가 가장 많이 나온 지역을 구해보자"
   ]
  },
  {
   "cell_type": "code",
   "execution_count": 30,
   "id": "2d2060a9",
   "metadata": {},
   "outputs": [
    {
     "data": {
      "image/png": "[encoded data removed]",
      "text/plain": [
       "<Figure size 1440x720 with 1 Axes>"
      ]
     },
     "metadata": {},
     "output_type": "display_data"
    }
   ],
   "source": [
    "data1 = corona_del_data[corona_del_data['month']=='6']\n",
    "plt.figure(figsize=(20,10))\n",
    "sns.set(font=\"NanumBarunGothic\", \n",
    "        rc={\"axes.unicode_minus\":False},\n",
    "        style='darkgrid')\n",
    "\n",
    "ax = sns.countplot(x='지역', data=data1, palette='Set2')\n",
    "\n",
    "plt.xlabel(\"지역\")\n",
    "plt.ylabel(\"확진자 수\")\n",
    "plt.title(\"6월 서울시 확진자 수\")\n",
    "plt.show()"
   ]
  },
  {
   "cell_type": "markdown",
   "id": "9caff298",
   "metadata": {},
   "source": [
    "---"
   ]
  }
 ],
 "metadata": {
  "kernelspec": {
   "display_name": "Python 3",
   "language": "python",
   "name": "python3"
  },
  "language_info": {
   "codemirror_mode": {
    "name": "ipython",
    "version": 3
   },
   "file_extension": ".py",
   "mimetype": "text/x-python",
   "name": "python",
   "nbconvert_exporter": "python",
   "pygments_lexer": "ipython3",
   "version": "3.8.8"
  }
 },
 "nbformat": 4,
 "nbformat_minor": 5
}
