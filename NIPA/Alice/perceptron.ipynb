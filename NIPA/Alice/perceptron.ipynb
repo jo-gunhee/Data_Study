{
 "cells": [
  {
   "cell_type": "markdown",
   "id": "d37a64cd",
   "metadata": {},
   "source": [
    "# DL 01 퍼셉트론"
   ]
  },
  {
   "cell_type": "markdown",
   "id": "bd816ba8",
   "metadata": {},
   "source": [
    "## 퍼셉트론 작동 예시 구현하기"
   ]
  },
  {
   "cell_type": "code",
   "execution_count": 1,
   "id": "4c67472d",
   "metadata": {},
   "outputs": [
    {
     "name": "stdout",
     "output_type": "stream",
     "text": [
      "신호의 총합 : 13\n",
      "학습 여부 : 1\n",
      " ==> 학습한다!\n"
     ]
    }
   ],
   "source": [
    "# 학습 여부를 예측하는 퍼셉트론 함수\n",
    "def Perceptron(x_1,x_2):\n",
    "    \n",
    "    # 설정한 가중치값을 적용\n",
    "    w_0 = -5 \n",
    "    w_1 = -1\n",
    "    w_2 = 5\n",
    "    \n",
    "    # 활성화 함수에 들어갈 값을 계산\n",
    "    output = w_0+w_1*x_1+w_2*x_2\n",
    "    \n",
    "    # 활성화 함수 결과를 계산\n",
    "    if output < 0:\n",
    "        y = 0\n",
    "    else:\n",
    "        y = 1\n",
    "    \n",
    "    return y, output\n",
    "\n",
    "\n",
    "\"\"\"\n",
    "1. perceptron의 예측 결과가 학습한다:1 이 나오도록\n",
    "   x_1, x_2에 적절한 값을 입력하세요.\n",
    "\"\"\"\n",
    "x_1 = 2\n",
    "x_2 = 4\n",
    "\n",
    "result, go_out = Perceptron(x_1,x_2)\n",
    "\n",
    "print(\"신호의 총합 : %d\" % go_out)\n",
    "\n",
    "if go_out > 0:\n",
    "    print(\"학습 여부 : %d\\n ==> 학습한다!\" % result)\n",
    "else:\n",
    "    print(\"학습 여부 : %d\\n ==> 학습하지 않는다!\" % result)\n"
   ]
  },
  {
   "cell_type": "markdown",
   "id": "e069864c",
   "metadata": {},
   "source": [
    "## DIY 퍼셉트론 만들기"
   ]
  },
  {
   "cell_type": "code",
   "execution_count": 2,
   "id": "01fd55a5",
   "metadata": {},
   "outputs": [
    {
     "name": "stdout",
     "output_type": "stream",
     "text": [
      "output:  4\n",
      "y:  1\n"
     ]
    }
   ],
   "source": [
    "'''\n",
    "1. 신호의 총합과 그에 따른 결과 0 또는 1을\n",
    "   반환하는 함수 perceptron을 완성합니다.\n",
    "   \n",
    "   Step01. 입력 받은 값을 이용하여\n",
    "           신호의 총합을 구합니다.\n",
    "           \n",
    "   Step02. 신호의 총합이 0 이상이면 1을, \n",
    "           그렇지 않으면 0을 반환하는 활성화 \n",
    "           함수를 작성합니다.\n",
    "'''\n",
    "def perceptron(w, x):\n",
    "    output=0\n",
    "    for i in range(len(x)):\n",
    "        output += w[i+1]*x[i]\n",
    "    output+=w[0]\n",
    "    \n",
    "    y = 1 if output >= 0 else 0\n",
    "    \n",
    "    return y, output\n",
    "\n",
    "# x_1, x_2, x_3, x_4의 값을 순서대로 list 형태로 저장\n",
    "x = [1,2,3,4]\n",
    "\n",
    "# w_0, w_1, w_2, w_3, w_4의 값을 순서대로 list 형태로 저장\n",
    "w = [2, -1, 1, 3, -2]\n",
    "\n",
    "# 퍼셉트론의 결과를 출력\n",
    "y, output = perceptron(w,x)\n",
    "\n",
    "print('output: ', output)\n",
    "print('y: ', y)"
   ]
  },
  {
   "cell_type": "markdown",
   "id": "862d964e",
   "metadata": {},
   "source": [
    "## 페섭트론의 알맞은 가중치 찾기"
   ]
  },
  {
   "cell_type": "code",
   "execution_count": 3,
   "id": "7f3295b6",
   "metadata": {},
   "outputs": [
    {
     "name": "stdout",
     "output_type": "stream",
     "text": [
      "perceptron 출력\n",
      "Input:  0 0 , Output:  0\n",
      "Input:  0 1 , Output:  0\n",
      "Input:  1 0 , Output:  0\n",
      "Input:  1 1 , Output:  1\n"
     ]
    }
   ],
   "source": [
    "import numpy as np\n",
    "\n",
    "\n",
    "def perceptron(w, x):\n",
    "    \n",
    "    output = w[1] * x[0] + w[2] * x[1] + w[0]\n",
    "    \n",
    "    if output >= 0:\n",
    "        y = 1\n",
    "    else:\n",
    "        y = 0\n",
    "    \n",
    "    return y\n",
    "\n",
    "\n",
    "\n",
    "# Input 데이터\n",
    "X = [[0,0], [0,1], [1,0], [1,1]]\n",
    "\n",
    "'''\n",
    "1. perceptron 함수의 입력으로 들어갈 가중치 값을 입력해주세요.\n",
    "   순서대로 w_0, w_1, w_2에 해당됩니다.\n",
    "'''\n",
    "w = [-2, 1, 1]\n",
    "\n",
    "# AND Gate를 만족하는지 출력하여 확인\n",
    "print('perceptron 출력')\n",
    "\n",
    "for x in X:\n",
    "    print('Input: ',x[0], x[1], ', Output: ',perceptron(w, x))\n",
    "\n"
   ]
  }
 ],
 "metadata": {
  "kernelspec": {
   "display_name": "Python 3",
   "language": "python",
   "name": "python3"
  },
  "language_info": {
   "codemirror_mode": {
    "name": "ipython",
    "version": 3
   },
   "file_extension": ".py",
   "mimetype": "text/x-python",
   "name": "python",
   "nbconvert_exporter": "python",
   "pygments_lexer": "ipython3",
   "version": "3.8.8"
  }
 },
 "nbformat": 4,
 "nbformat_minor": 5
}
