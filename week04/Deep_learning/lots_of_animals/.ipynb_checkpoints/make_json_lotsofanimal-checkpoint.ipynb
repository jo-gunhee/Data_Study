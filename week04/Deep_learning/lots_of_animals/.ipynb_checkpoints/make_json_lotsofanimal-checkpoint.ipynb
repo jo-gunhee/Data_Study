{
 "cells": [
  {
   "cell_type": "code",
   "execution_count": null,
   "id": "0c063c51",
   "metadata": {},
   "outputs": [],
   "source": [
    "#create the sample file\n",
    "import os\n",
    "import json\n",
    "import pandas as pd\n",
    "filenames = os.listdir('/image')\n",
    "sample_json1 = []\n",
    "df = pd.read_csv(\"face_count/train/train.csv\")\n",
    "\n",
    "for i in filenames:\n",
    "    sample_json1.append(\n",
    "   {\n",
    "    'image_id': i,\n",
    "    'label': 'Cat' if 'cat' in i else 'Dog'\n",
    "    }\n",
    "    )\n",
    "\n",
    "    \n",
    "with open('data.json1', 'w') as outfile:\n",
    "    json.dump(sample_json1, outfile, indent=4, sort_keys=True)\n"
   ]
  }
 ],
 "metadata": {
  "kernelspec": {
   "display_name": "Python 3",
   "language": "python",
   "name": "python3"
  },
  "language_info": {
   "codemirror_mode": {
    "name": "ipython",
    "version": 3
   },
   "file_extension": ".py",
   "mimetype": "text/x-python",
   "name": "python",
   "nbconvert_exporter": "python",
   "pygments_lexer": "ipython3",
   "version": "3.6.13"
  }
 },
 "nbformat": 4,
 "nbformat_minor": 5
}
