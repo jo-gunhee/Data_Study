{
 "cells": [
  {
   "cell_type": "code",
   "execution_count": 7,
   "id": "0c063c51",
   "metadata": {},
   "outputs": [
    {
     "name": "stdout",
     "output_type": "stream",
     "text": [
      "file_path : ./image/butterfly\n",
      "proceed butterfly\n",
      "file_path : ./image/cat\n",
      "proceed cat\n",
      "file_path : ./image/chicken\n",
      "proceed chicken\n",
      "file_path : ./image/cow\n",
      "proceed cow\n",
      "file_path : ./image/dog\n",
      "proceed dog\n",
      "file_path : ./image/elephant\n",
      "proceed elephant\n",
      "file_path : ./image/horse\n",
      "proceed horse\n",
      "file_path : ./image/sheep\n",
      "proceed sheep\n",
      "file_path : ./image/spider\n",
      "proceed spider\n",
      "file_path : ./image/squirrel\n",
      "proceed squirrel\n",
      "done\n"
     ]
    }
   ],
   "source": [
    "#create the sample file\n",
    "import os\n",
    "import json\n",
    "import shutil\n",
    "\n",
    "filenames = os.listdir('./image')\n",
    "lots_of_animals_json = []\n",
    "\n",
    "\n",
    "for i in filenames:\n",
    "    file_path = './image/'\n",
    "    file_path += i\n",
    "    fp = os.listdir(file_path)\n",
    "    print(\"file_path :\", file_path)\n",
    "    src = file_path+\"/\"\n",
    "    print(\"proceed\",i)\n",
    "    for j in fp:\n",
    "        dir = \"./collection_of_pic/\"\n",
    "        file_name = i+\"_\"+j\n",
    "        lots_of_animals_json.append({\n",
    "            'image_id':file_name,\n",
    "            'label': i\n",
    "        }) \n",
    "        shutil.move(src+j,dir+file_name)\n",
    "with open('lots_of_animals.json', 'w') as outfile:\n",
    "    json.dump(lots_of_animals_json, outfile, indent=4, sort_keys=True)\n",
    "print(\"done\")"
   ]
  }
 ],
 "metadata": {
  "kernelspec": {
   "display_name": "Python 3",
   "language": "python",
   "name": "python3"
  },
  "language_info": {
   "codemirror_mode": {
    "name": "ipython",
    "version": 3
   },
   "file_extension": ".py",
   "mimetype": "text/x-python",
   "name": "python",
   "nbconvert_exporter": "python",
   "pygments_lexer": "ipython3",
   "version": "3.6.13"
  }
 },
 "nbformat": 4,
 "nbformat_minor": 5
}
