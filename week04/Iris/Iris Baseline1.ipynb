{
 "cells": [
  {
   "cell_type": "code",
   "execution_count": 2,
   "id": "a5339f2c",
   "metadata": {},
   "outputs": [
    {
     "data": {
      "text/html": [
       "<div>\n",
       "<style scoped>\n",
       "    .dataframe tbody tr th:only-of-type {\n",
       "        vertical-align: middle;\n",
       "    }\n",
       "\n",
       "    .dataframe tbody tr th {\n",
       "        vertical-align: top;\n",
       "    }\n",
       "\n",
       "    .dataframe thead th {\n",
       "        text-align: right;\n",
       "    }\n",
       "</style>\n",
       "<table border=\"1\" class=\"dataframe\">\n",
       "  <thead>\n",
       "    <tr style=\"text-align: right;\">\n",
       "      <th></th>\n",
       "      <th>id</th>\n",
       "      <th>species</th>\n",
       "      <th>sepal length (cm)</th>\n",
       "      <th>petal length (cm)</th>\n",
       "      <th>sepal width (cm)</th>\n",
       "      <th>petal width (cm)</th>\n",
       "    </tr>\n",
       "  </thead>\n",
       "  <tbody>\n",
       "    <tr>\n",
       "      <th>0</th>\n",
       "      <td>0</td>\n",
       "      <td>setosa</td>\n",
       "      <td>4.4</td>\n",
       "      <td>1.4</td>\n",
       "      <td>2.9</td>\n",
       "      <td>0.2</td>\n",
       "    </tr>\n",
       "    <tr>\n",
       "      <th>1</th>\n",
       "      <td>1</td>\n",
       "      <td>versicolor</td>\n",
       "      <td>6.4</td>\n",
       "      <td>4.5</td>\n",
       "      <td>3.2</td>\n",
       "      <td>1.5</td>\n",
       "    </tr>\n",
       "    <tr>\n",
       "      <th>2</th>\n",
       "      <td>2</td>\n",
       "      <td>virginica</td>\n",
       "      <td>6.2</td>\n",
       "      <td>4.8</td>\n",
       "      <td>2.8</td>\n",
       "      <td>1.8</td>\n",
       "    </tr>\n",
       "    <tr>\n",
       "      <th>3</th>\n",
       "      <td>3</td>\n",
       "      <td>virginica</td>\n",
       "      <td>7.2</td>\n",
       "      <td>6.1</td>\n",
       "      <td>3.6</td>\n",
       "      <td>2.5</td>\n",
       "    </tr>\n",
       "    <tr>\n",
       "      <th>4</th>\n",
       "      <td>4</td>\n",
       "      <td>setosa</td>\n",
       "      <td>4.9</td>\n",
       "      <td>1.4</td>\n",
       "      <td>3.0</td>\n",
       "      <td>0.2</td>\n",
       "    </tr>\n",
       "  </tbody>\n",
       "</table>\n",
       "</div>"
      ],
      "text/plain": [
       "   id     species  sepal length (cm)  petal length (cm)  sepal width (cm)  \\\n",
       "0   0      setosa                4.4                1.4               2.9   \n",
       "1   1  versicolor                6.4                4.5               3.2   \n",
       "2   2   virginica                6.2                4.8               2.8   \n",
       "3   3   virginica                7.2                6.1               3.6   \n",
       "4   4      setosa                4.9                1.4               3.0   \n",
       "\n",
       "   petal width (cm)  \n",
       "0               0.2  \n",
       "1               1.5  \n",
       "2               1.8  \n",
       "3               2.5  \n",
       "4               0.2  "
      ]
     },
     "execution_count": 2,
     "metadata": {},
     "output_type": "execute_result"
    }
   ],
   "source": [
    "import pandas as pd\n",
    "\n",
    "# csv 형식으로 된 데이터 파일을 읽어옵니다.\n",
    "train = pd.read_csv('iris_train.csv')\n",
    "\n",
    "# 데이터의 맨 앞 5 줄을 표시합니다.\n",
    "train.head()"
   ]
  },
  {
   "cell_type": "code",
   "execution_count": 3,
   "id": "d120c009",
   "metadata": {},
   "outputs": [
    {
     "data": {
      "text/plain": [
       "0     2.9\n",
       "1     3.2\n",
       "2     2.8\n",
       "3     3.6\n",
       "4     3.0\n",
       "     ... \n",
       "70    2.8\n",
       "71    2.9\n",
       "72    2.2\n",
       "73    2.4\n",
       "74    3.1\n",
       "Name: sepal width (cm), Length: 75, dtype: float64"
      ]
     },
     "execution_count": 3,
     "metadata": {},
     "output_type": "execute_result"
    }
   ],
   "source": [
    "# 꽃받침의 길이와 너비를 각각 따로 저장합니다.\n",
    "sepal_length = train['sepal length (cm)']\n",
    "sepal_width = train['sepal width (cm)']\n",
    "\n",
    "sepal_width"
   ]
  },
  {
   "cell_type": "code",
   "execution_count": 14,
   "id": "f3d06024",
   "metadata": {},
   "outputs": [
    {
     "name": "stdout",
     "output_type": "stream",
     "text": [
      "꽃받침 길이의 평균:6.04 \n",
      "꽃받침 너비의 평균:2.96\n",
      "따라서 꽃받침 너비는 꽃받침 길이의 평균 0.48952128833002434배 입니다.\n",
      "0.48952128833002434\n"
     ]
    }
   ],
   "source": [
    "import numpy as np\n",
    "\n",
    "# 꽃받침 길이의 평균과 꽃받침 너비의 평균을 구합니다.\n",
    "sepal_length_mean = np.mean(sepal_length)\n",
    "sepal_width_mean = np.mean(sepal_width)\n",
    "\n",
    "# 두 값을 나누어 주어서 꽃받침의 길이와 너비의 관계를 살펴봅니다.\n",
    "print(f\"꽃받침 길이의 평균:{sepal_length_mean:.2f} \\n꽃받침 너비의 평균:{sepal_width_mean:.2f}\")\n",
    "print(f\"따라서 꽃받침 너비는 꽃받침 길이의 평균 {sepal_width_mean/sepal_length_mean}배 입니다.\")\n",
    "ax = sepal_width_mean/sepal_length_mean\n",
    "\n",
    "# Y는 꽃받침의 너비\n",
    "# X는 꽃받침의 길이\n",
    "# Y = aX+b\n",
    "# 즉 a는 0.49"
   ]
  },
  {
   "cell_type": "code",
   "execution_count": 24,
   "id": "a73cafe3",
   "metadata": {},
   "outputs": [
    {
     "name": "stdout",
     "output_type": "stream",
     "text": [
      "업데이트 된 방정식의 b는 7.786666667009001e-06 입니다.\n"
     ]
    }
   ],
   "source": [
    "ax = round(ax,5)\n",
    "#print(ax)\n",
    "#print(sepal_width_mean)\n",
    "#print(sepal_length_mean)\n",
    "#print(ax*sepal_length_mean)\n",
    "b = sepal_width_mean - ax * sepal_length_mean\n",
    "\n",
    "print(f\"업데이트 된 방정식의 b는 {b} 입니다.\")"
   ]
  },
  {
   "cell_type": "code",
   "execution_count": 25,
   "id": "a2069d63",
   "metadata": {},
   "outputs": [
    {
     "data": {
      "text/plain": [
       "0     2.153880\n",
       "1     3.132920\n",
       "2     3.035016\n",
       "3     3.524536\n",
       "4     2.398640\n",
       "        ...   \n",
       "70    3.181872\n",
       "71    2.741304\n",
       "72    3.035016\n",
       "73    2.398640\n",
       "74    3.377680\n",
       "Name: sepal length (cm), Length: 75, dtype: float64"
      ]
     },
     "execution_count": 25,
     "metadata": {},
     "output_type": "execute_result"
    }
   ],
   "source": [
    "predict_sepal_width = ax * sepal_length - b\n",
    "predict_sepal_width"
   ]
  },
  {
   "cell_type": "code",
   "execution_count": 26,
   "id": "30d194de",
   "metadata": {},
   "outputs": [
    {
     "name": "stdout",
     "output_type": "stream",
     "text": [
      "이 방정식의 평균 에러는 0.43 입니다.\n"
     ]
    }
   ],
   "source": [
    "import numpy as np\n",
    "\n",
    "def MAE(true, pred):\n",
    "    score = np.mean(np.abs(true-pred))\n",
    "    return score\n",
    "\n",
    "# 실제 정답 값을 준비합니다.\n",
    "real_sepal_width = sepal_width.copy()\n",
    "\n",
    "# 정답과 예측 값을 함수에 넣어 결과를 확인합니다.\n",
    "mean_error = MAE(real_sepal_width, predict_sepal_width)\n",
    "\n",
    "print(f\"이 방정식의 평균 에러는 {mean_error:.2f} 입니다.\")"
   ]
  },
  {
   "cell_type": "code",
   "execution_count": 27,
   "id": "0785390b",
   "metadata": {},
   "outputs": [
    {
     "name": "stdout",
     "output_type": "stream",
     "text": [
      "꽃잎 길이의 평균:4.26 \n",
      "꽃잎 너비의 평균:1.38\n",
      "따라서 꽃잎 너비는 꽃잎 길이의 평균 0.32배 입니다.\n",
      "업데이트 된 방정식의 b는 0.02 입니다.\n"
     ]
    }
   ],
   "source": [
    "# 데이터 선택하기\n",
    "petal_length = train['petal length (cm)']\n",
    "petal_width = train['petal width (cm)']\n",
    "\n",
    "# 꽃잎 길이의 평균과 꽃잎 너비의 평균을 구합니다.\n",
    "petal_length_mean = np.mean(petal_length)\n",
    "petal_width_mean = np.mean(petal_width)\n",
    "\n",
    "# 두 값을 나누어 주어서 꽃잎의 길이와 너비의 관계를 살펴봅니다.\n",
    "print(f\"꽃잎 길이의 평균:{petal_length_mean:.2f} \\n꽃잎 너비의 평균:{petal_width_mean:.2f}\")\n",
    "print(f\"따라서 꽃잎 너비는 꽃잎 길이의 평균 {petal_width_mean/petal_length_mean:.2f}배 입니다.\")\n",
    "a = petal_width_mean/petal_length_mean\n",
    "\n",
    "# 꽃받침과 같은 방식으로 b를 구합니다.\n",
    "b = petal_width_mean - 0.32 * petal_length_mean\n",
    "\n",
    "print(f\"업데이트 된 방정식의 b는 {b:.2f} 입니다.\")"
   ]
  },
  {
   "cell_type": "code",
   "execution_count": 28,
   "id": "4d99da95",
   "metadata": {},
   "outputs": [
    {
     "name": "stdout",
     "output_type": "stream",
     "text": [
      "이 방정식의 평균 에러는 0.21 입니다.\n"
     ]
    }
   ],
   "source": [
    "# 에측 값을 구합니다.\n",
    "predict_petal_width = 0.32 * petal_length - 0.02\n",
    "\n",
    "# 실제 정답 값을 준비합니다.\n",
    "real_petal_width = petal_width.copy()\n",
    "\n",
    "# 정답과 예측 값을 함수에 넣어 결과를 확인합니다.\n",
    "mean_error = MAE(real_petal_width, predict_petal_width)\n",
    "\n",
    "print(f\"이 방정식의 평균 에러는 {mean_error:.2f} 입니다.\")"
   ]
  },
  {
   "cell_type": "code",
   "execution_count": 29,
   "id": "b6cdde9d",
   "metadata": {},
   "outputs": [
    {
     "data": {
      "text/html": [
       "<div>\n",
       "<style scoped>\n",
       "    .dataframe tbody tr th:only-of-type {\n",
       "        vertical-align: middle;\n",
       "    }\n",
       "\n",
       "    .dataframe tbody tr th {\n",
       "        vertical-align: top;\n",
       "    }\n",
       "\n",
       "    .dataframe thead th {\n",
       "        text-align: right;\n",
       "    }\n",
       "</style>\n",
       "<table border=\"1\" class=\"dataframe\">\n",
       "  <thead>\n",
       "    <tr style=\"text-align: right;\">\n",
       "      <th></th>\n",
       "      <th>id</th>\n",
       "      <th>species</th>\n",
       "      <th>sepal length (cm)</th>\n",
       "      <th>petal length (cm)</th>\n",
       "    </tr>\n",
       "  </thead>\n",
       "  <tbody>\n",
       "    <tr>\n",
       "      <th>0</th>\n",
       "      <td>0</td>\n",
       "      <td>setosa</td>\n",
       "      <td>5.4</td>\n",
       "      <td>1.7</td>\n",
       "    </tr>\n",
       "    <tr>\n",
       "      <th>1</th>\n",
       "      <td>1</td>\n",
       "      <td>setosa</td>\n",
       "      <td>5.7</td>\n",
       "      <td>1.5</td>\n",
       "    </tr>\n",
       "    <tr>\n",
       "      <th>2</th>\n",
       "      <td>2</td>\n",
       "      <td>setosa</td>\n",
       "      <td>5.3</td>\n",
       "      <td>1.5</td>\n",
       "    </tr>\n",
       "    <tr>\n",
       "      <th>3</th>\n",
       "      <td>3</td>\n",
       "      <td>setosa</td>\n",
       "      <td>5.1</td>\n",
       "      <td>1.9</td>\n",
       "    </tr>\n",
       "    <tr>\n",
       "      <th>4</th>\n",
       "      <td>4</td>\n",
       "      <td>virginica</td>\n",
       "      <td>6.0</td>\n",
       "      <td>4.8</td>\n",
       "    </tr>\n",
       "  </tbody>\n",
       "</table>\n",
       "</div>"
      ],
      "text/plain": [
       "   id    species  sepal length (cm)  petal length (cm)\n",
       "0   0     setosa                5.4                1.7\n",
       "1   1     setosa                5.7                1.5\n",
       "2   2     setosa                5.3                1.5\n",
       "3   3     setosa                5.1                1.9\n",
       "4   4  virginica                6.0                4.8"
      ]
     },
     "execution_count": 29,
     "metadata": {},
     "output_type": "execute_result"
    }
   ],
   "source": [
    "# 우리가 예측하고자 하는 test 데이터를 불러옵니다.\n",
    "test = pd.read_csv('iris_test.csv')\n",
    "\n",
    "test.head()"
   ]
  },
  {
   "cell_type": "code",
   "execution_count": 30,
   "id": "7e7251e7",
   "metadata": {},
   "outputs": [
    {
     "data": {
      "text/plain": [
       "0    -0.33\n",
       "1     0.60\n",
       "2     0.69\n",
       "3     1.08\n",
       "4    -0.33\n",
       "      ... \n",
       "70    0.63\n",
       "71    0.33\n",
       "72    0.60\n",
       "73    0.24\n",
       "74    0.72\n",
       "Name: petal length (cm), Length: 75, dtype: float64"
      ]
     },
     "execution_count": 30,
     "metadata": {},
     "output_type": "execute_result"
    }
   ],
   "source": [
    "# 예측의 재료를 가져옵니다.\n",
    "sepal_length = train['sepal length (cm)']\n",
    "petal_length = train['petal length (cm)']\n",
    "\n",
    "# 예측을 진행합니다.\n",
    "predict_sepal_width = 0.5 * sepal_length - 0.06\n",
    "predict_petal_width = 0.3 * petal_length - 0.75\n",
    "\n",
    "# 예측 결과를 확인합니다.\n",
    "predict_petal_width"
   ]
  },
  {
   "cell_type": "code",
   "execution_count": 31,
   "id": "c2428d82",
   "metadata": {},
   "outputs": [
    {
     "data": {
      "text/html": [
       "<div>\n",
       "<style scoped>\n",
       "    .dataframe tbody tr th:only-of-type {\n",
       "        vertical-align: middle;\n",
       "    }\n",
       "\n",
       "    .dataframe tbody tr th {\n",
       "        vertical-align: top;\n",
       "    }\n",
       "\n",
       "    .dataframe thead th {\n",
       "        text-align: right;\n",
       "    }\n",
       "</style>\n",
       "<table border=\"1\" class=\"dataframe\">\n",
       "  <thead>\n",
       "    <tr style=\"text-align: right;\">\n",
       "      <th></th>\n",
       "      <th>id</th>\n",
       "      <th>sepal width (cm)</th>\n",
       "      <th>petal width (cm)</th>\n",
       "    </tr>\n",
       "  </thead>\n",
       "  <tbody>\n",
       "    <tr>\n",
       "      <th>0</th>\n",
       "      <td>0</td>\n",
       "      <td>0</td>\n",
       "      <td>0</td>\n",
       "    </tr>\n",
       "    <tr>\n",
       "      <th>1</th>\n",
       "      <td>1</td>\n",
       "      <td>0</td>\n",
       "      <td>0</td>\n",
       "    </tr>\n",
       "    <tr>\n",
       "      <th>2</th>\n",
       "      <td>2</td>\n",
       "      <td>0</td>\n",
       "      <td>0</td>\n",
       "    </tr>\n",
       "    <tr>\n",
       "      <th>3</th>\n",
       "      <td>3</td>\n",
       "      <td>0</td>\n",
       "      <td>0</td>\n",
       "    </tr>\n",
       "    <tr>\n",
       "      <th>4</th>\n",
       "      <td>4</td>\n",
       "      <td>0</td>\n",
       "      <td>0</td>\n",
       "    </tr>\n",
       "  </tbody>\n",
       "</table>\n",
       "</div>"
      ],
      "text/plain": [
       "   id  sepal width (cm)  petal width (cm)\n",
       "0   0                 0                 0\n",
       "1   1                 0                 0\n",
       "2   2                 0                 0\n",
       "3   3                 0                 0\n",
       "4   4                 0                 0"
      ]
     },
     "execution_count": 31,
     "metadata": {},
     "output_type": "execute_result"
    }
   ],
   "source": [
    "# 제출용 sample 파일을 불러옵니다.\n",
    "submission = pd.read_csv('sample_submission.csv')\n",
    "submission.head()"
   ]
  },
  {
   "cell_type": "code",
   "execution_count": 32,
   "id": "b5937141",
   "metadata": {},
   "outputs": [
    {
     "data": {
      "text/html": [
       "<div>\n",
       "<style scoped>\n",
       "    .dataframe tbody tr th:only-of-type {\n",
       "        vertical-align: middle;\n",
       "    }\n",
       "\n",
       "    .dataframe tbody tr th {\n",
       "        vertical-align: top;\n",
       "    }\n",
       "\n",
       "    .dataframe thead th {\n",
       "        text-align: right;\n",
       "    }\n",
       "</style>\n",
       "<table border=\"1\" class=\"dataframe\">\n",
       "  <thead>\n",
       "    <tr style=\"text-align: right;\">\n",
       "      <th></th>\n",
       "      <th>id</th>\n",
       "      <th>sepal width (cm)</th>\n",
       "      <th>petal width (cm)</th>\n",
       "    </tr>\n",
       "  </thead>\n",
       "  <tbody>\n",
       "    <tr>\n",
       "      <th>0</th>\n",
       "      <td>0</td>\n",
       "      <td>2.14</td>\n",
       "      <td>-0.33</td>\n",
       "    </tr>\n",
       "    <tr>\n",
       "      <th>1</th>\n",
       "      <td>1</td>\n",
       "      <td>3.14</td>\n",
       "      <td>0.60</td>\n",
       "    </tr>\n",
       "    <tr>\n",
       "      <th>2</th>\n",
       "      <td>2</td>\n",
       "      <td>3.04</td>\n",
       "      <td>0.69</td>\n",
       "    </tr>\n",
       "    <tr>\n",
       "      <th>3</th>\n",
       "      <td>3</td>\n",
       "      <td>3.54</td>\n",
       "      <td>1.08</td>\n",
       "    </tr>\n",
       "    <tr>\n",
       "      <th>4</th>\n",
       "      <td>4</td>\n",
       "      <td>2.39</td>\n",
       "      <td>-0.33</td>\n",
       "    </tr>\n",
       "    <tr>\n",
       "      <th>...</th>\n",
       "      <td>...</td>\n",
       "      <td>...</td>\n",
       "      <td>...</td>\n",
       "    </tr>\n",
       "    <tr>\n",
       "      <th>70</th>\n",
       "      <td>70</td>\n",
       "      <td>3.19</td>\n",
       "      <td>0.63</td>\n",
       "    </tr>\n",
       "    <tr>\n",
       "      <th>71</th>\n",
       "      <td>71</td>\n",
       "      <td>2.74</td>\n",
       "      <td>0.33</td>\n",
       "    </tr>\n",
       "    <tr>\n",
       "      <th>72</th>\n",
       "      <td>72</td>\n",
       "      <td>3.04</td>\n",
       "      <td>0.60</td>\n",
       "    </tr>\n",
       "    <tr>\n",
       "      <th>73</th>\n",
       "      <td>73</td>\n",
       "      <td>2.39</td>\n",
       "      <td>0.24</td>\n",
       "    </tr>\n",
       "    <tr>\n",
       "      <th>74</th>\n",
       "      <td>74</td>\n",
       "      <td>3.39</td>\n",
       "      <td>0.72</td>\n",
       "    </tr>\n",
       "  </tbody>\n",
       "</table>\n",
       "<p>75 rows × 3 columns</p>\n",
       "</div>"
      ],
      "text/plain": [
       "    id  sepal width (cm)  petal width (cm)\n",
       "0    0              2.14             -0.33\n",
       "1    1              3.14              0.60\n",
       "2    2              3.04              0.69\n",
       "3    3              3.54              1.08\n",
       "4    4              2.39             -0.33\n",
       "..  ..               ...               ...\n",
       "70  70              3.19              0.63\n",
       "71  71              2.74              0.33\n",
       "72  72              3.04              0.60\n",
       "73  73              2.39              0.24\n",
       "74  74              3.39              0.72\n",
       "\n",
       "[75 rows x 3 columns]"
      ]
     },
     "execution_count": 32,
     "metadata": {},
     "output_type": "execute_result"
    }
   ],
   "source": [
    "# 위에서 구한 예측값을 그대로 넣어줍니다.\n",
    "submission['sepal width (cm)'] = predict_sepal_width\n",
    "submission['petal width (cm)'] = predict_petal_width\n",
    "\n",
    "# 데이터가 잘 들어갔는지 확인합니다.\n",
    "submission"
   ]
  },
  {
   "cell_type": "code",
   "execution_count": 33,
   "id": "52fded2b",
   "metadata": {},
   "outputs": [],
   "source": [
    "# submission을 csv 파일로 저장합니다.\n",
    "# index=False란 추가적인 id를 부여할 필요가 없다는 뜻입니다. \n",
    "# 정확한 채점을 위해 꼭 index=False를 넣어주세요.\n",
    "submission.to_csv(\"submission.csv\", index=False)"
   ]
  },
  {
   "cell_type": "code",
   "execution_count": 34,
   "id": "ab035f84",
   "metadata": {},
   "outputs": [],
   "source": [
    "# 탐색할 a와 b의 후보들을 마련합니다.\n",
    "a_list = [0.48, 0.49, 0.5, 0.51, 0.52] # 0.01 단위로 변화\n",
    "b_list = [-0.058, -0.059, -0.06, -0.061, -0.062] # 0.001 단위로 변화"
   ]
  },
  {
   "cell_type": "code",
   "execution_count": 40,
   "id": "c1e65228",
   "metadata": {},
   "outputs": [
    {
     "name": "stdout",
     "output_type": "stream",
     "text": [
      "\n",
      "\n",
      "모델 개선이 가능합니다.\n",
      "a=0.48, b=-0.058\n",
      "error=0.41373\n",
      "\n",
      "\n",
      "모델 개선이 가능합니다.\n",
      "a=0.48, b=-0.059\n",
      "error=0.41369\n",
      "\n",
      "\n",
      "모델 개선이 가능합니다.\n",
      "a=0.48, b=-0.06\n",
      "error=0.41365\n",
      "\n",
      "\n",
      "모델 개선이 가능합니다.\n",
      "a=0.48, b=-0.061\n",
      "error=0.41361\n",
      "\n",
      "\n",
      "모델 개선이 가능합니다.\n",
      "a=0.48, b=-0.062\n",
      "error=0.41357\n",
      "\n",
      "\n",
      "최적의 parameter는 a = 0.48, b = -0.062\n",
      "이때 평균 에러는 0.41 입니다.\n",
      "\n",
      "\n",
      "기존 방정식의 평균 에러 : 0.43\n",
      "모델 성능 개선 : 0.02\n"
     ]
    }
   ],
   "source": [
    "# 각각의 후보자들 중에서 가장 에러가 적은 후보를 고르는 함수를 작성합니다.\n",
    "def find_best_params(sepal_length, sepal_width):\n",
    "    min_error = 999\n",
    "\n",
    "    for a in a_list:\n",
    "        for b in b_list:\n",
    "            \n",
    "            predict = a * sepal_length + b\n",
    "            error = MAE(sepal_width, predict)\n",
    "            \n",
    "            if error < min_error:\n",
    "                print(\"\\n\")\n",
    "                print(\"모델 개선이 가능합니다.\")\n",
    "                print(f\"a={a}, b={b}\")\n",
    "                print(f\"error={error:.5f}\")\n",
    "                min_error = error\n",
    "                coef, bias = a,b\n",
    "    print(\"\\n\")\n",
    "    print(f\"최적의 parameter는 a = {coef}, b = {bias}\\n이때 평균 에러는 {min_error:.2f} 입니다.\")\n",
    "    print(\"\\n\")\n",
    "    return coef, bias, min_error\n",
    "\n",
    "a,b, error = find_best_params(sepal_length, sepal_width)\n",
    "print(\"기존 방정식의 평균 에러 : 0.43\")\n",
    "print(f\"모델 성능 개선 : {0.43 - error:.2f}\")"
   ]
  }
 ],
 "metadata": {
  "kernelspec": {
   "display_name": "Python 3",
   "language": "python",
   "name": "python3"
  },
  "language_info": {
   "codemirror_mode": {
    "name": "ipython",
    "version": 3
   },
   "file_extension": ".py",
   "mimetype": "text/x-python",
   "name": "python",
   "nbconvert_exporter": "python",
   "pygments_lexer": "ipython3",
   "version": "3.8.8"
  }
 },
 "nbformat": 4,
 "nbformat_minor": 5
}
