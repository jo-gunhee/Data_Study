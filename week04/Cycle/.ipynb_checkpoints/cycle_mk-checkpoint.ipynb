{
 "cells": [
  {
   "cell_type": "markdown",
   "id": "8f392bb9",
   "metadata": {},
   "source": [
    "## 서울시 따릉이 대여량 예측 경진대회\n",
    "### https://dacon.io/competitions/official/235837/overview/description"
   ]
  },
  {
   "cell_type": "markdown",
   "id": "8a87eebb",
   "metadata": {},
   "source": [
    "---\n",
    "### 1. 배경\n",
    "서울시 공유 자전거 “따릉이” 대여량과 날씨 데이터를 통해 데이터 분석 대회에 입문해보세요.\n",
    "다른 사람들과 실력을 겨뤄보며 데이터 분석 대회의 즐거움을 느껴보세요.\n",
    "자신만의 시각화 방법과 분석 방법을 공유하여 “좋아요”와 “댓글”을 모아보세요!\n",
    "가장 많은 호응을 얻으신 분께는 데이콘 후드를 선물로 드립니다!\n",
    "\n",
    "---\n",
    "\n",
    "### 2. 주제\n",
    "서울의 일별 온도, 습도, 강수량 등 일기 예보 데이터를 통해 따릉이 대여량을 예측해보세요.\n",
    "서울의 2018~2021년 4년 동안의 날씨 데이터와 2018~2020년의 따릉이 대여량 데이터가 주어집니다.\n",
    "이 데이터를 이용해 2021년의 따릉이 대여량을 예측해보세요.\n",
    "주어진 데이터 이외의 데이터는 사용 금지입니다!\n",
    "\n",
    "---\n",
    "\n",
    "### 3. 주최/주관\n",
    "주최 및 주관: 데이콘\n",
    "\n",
    "---\n",
    "\n",
    "### 4. 참가대상\n",
    "데이터 분석, 머신러닝에 관심있는 분\n",
    "컴피티션을 경험해보고 싶은 분\n",
    "\n",
    "---\n"
   ]
  },
  {
   "cell_type": "markdown",
   "id": "82450129",
   "metadata": {},
   "source": [
    "## 데이터 설명\n",
    "#### 1. bicycle_train.csv : 학습 데이터\n",
    "date_time : 일별 날짜\n",
    "\n",
    "wind_direction: 풍향 (degree)\n",
    "\n",
    "sky_condition : 하늘 상태 (하단 설명 참조)\n",
    "\n",
    "precipitation_form : 강수 형태 (하단 설명 참조)\n",
    "\n",
    "wind_speed : 풍속 (m/s)\n",
    "\n",
    "humidity : 습도 (%)\n",
    "\n",
    "low_temp : 최저 기온 ( `C)\n",
    "\n",
    "high_temp : 최고 기온 ( `C)\n",
    "\n",
    "Precipitation_Probability : 강수 확률 (%)\n",
    "\n",
    "number_of_rentals : 따릉이 대여량\n",
    "\n",
    "---\n",
    "\n",
    "#### 2. bicycle_test.csv : 테스트 데이터\n",
    "date_time : 일별 날짜\n",
    "\n",
    "wind_direction: 풍향\n",
    "\n",
    "sky_condition : 하늘 상태\n",
    "\n",
    "precipitation_form : 강수 형태\n",
    "\n",
    "wind_speed : 풍속\n",
    "\n",
    "humidity : 습도\n",
    "\n",
    "low_temp : 최저 기온\n",
    "\n",
    "high_temp : 최고 기온\n",
    "\n",
    "Precipitation_Probability : 강수 확률\n",
    "\n",
    "---\n",
    "\n",
    "#### 3. sample_submissoin.csv : 제출 양식\n",
    "date_time : 일별 날짜\n",
    "\n",
    "number_of_rentals : 따릉이 대여량\n",
    "\n",
    "---\n",
    "\n",
    "#### 4.데이터 상세 설명\n",
    "기상 데이터는 하루에 총 8번 3시간 간격으로 발표되는 기상단기예보(SHRT) 데이터를 1일 평균으로 변환한 데이터입니다.\n",
    "\n",
    "sky_condition (하늘 상태) 코드 : 맑음(1), 구름많음(3), 흐림(4)\n",
    "\n",
    "precipitation_form (강수 형태) 코드 : 없음(0), 비(1), 진눈깨비(2), 눈(3), 소나기(4)\n",
    "\n",
    "위 데이터는 4월~6월의 기상 데이터만을 추출한 것이기 때문에 없음(0), 비(1)만 등장했습니다.\n",
    "\n",
    "따라서 precipitation_form 이 0.5인 경우: \"하루의 절반은 비가 올 것으로 예측하고, 나머지 절반은 맑을 것으로 예측했다\"는 의미로 해석해주시기 바랍니다.\n",
    "\n",
    "\n",
    "위 자료는 아래 공공 데이터를 바탕으로 제작되었습니다.\n",
    "[기상청] 기상자료개방포털\n",
    "[서울특별시] 서울 열린데이터 광장"
   ]
  },
  {
   "cell_type": "code",
   "execution_count": null,
   "id": "4793b077",
   "metadata": {},
   "outputs": [],
   "source": []
  },
  {
   "cell_type": "code",
   "execution_count": null,
   "id": "7ccff2ef",
   "metadata": {},
   "outputs": [],
   "source": []
  },
  {
   "cell_type": "code",
   "execution_count": null,
   "id": "744b80d5",
   "metadata": {},
   "outputs": [],
   "source": []
  },
  {
   "cell_type": "code",
   "execution_count": null,
   "id": "a00e7267",
   "metadata": {},
   "outputs": [],
   "source": []
  },
  {
   "cell_type": "code",
   "execution_count": null,
   "id": "5621bf4e",
   "metadata": {},
   "outputs": [],
   "source": []
  },
  {
   "cell_type": "code",
   "execution_count": null,
   "id": "6b8f9026",
   "metadata": {},
   "outputs": [],
   "source": []
  },
  {
   "cell_type": "code",
   "execution_count": null,
   "id": "ebc2ade4",
   "metadata": {},
   "outputs": [],
   "source": []
  },
  {
   "cell_type": "code",
   "execution_count": null,
   "id": "61bfd52f",
   "metadata": {},
   "outputs": [],
   "source": []
  },
  {
   "cell_type": "code",
   "execution_count": null,
   "id": "2f58cc2f",
   "metadata": {},
   "outputs": [],
   "source": []
  },
  {
   "cell_type": "code",
   "execution_count": null,
   "id": "4caefa52",
   "metadata": {},
   "outputs": [],
   "source": []
  },
  {
   "cell_type": "code",
   "execution_count": null,
   "id": "35ddc9c7",
   "metadata": {},
   "outputs": [],
   "source": []
  }
 ],
 "metadata": {
  "kernelspec": {
   "display_name": "Python 3",
   "language": "python",
   "name": "python3"
  },
  "language_info": {
   "codemirror_mode": {
    "name": "ipython",
    "version": 3
   },
   "file_extension": ".py",
   "mimetype": "text/x-python",
   "name": "python",
   "nbconvert_exporter": "python",
   "pygments_lexer": "ipython3",
   "version": "3.8.8"
  }
 },
 "nbformat": 4,
 "nbformat_minor": 5
}
