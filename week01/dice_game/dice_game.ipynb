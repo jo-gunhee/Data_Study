{
 "cells": [
  {
   "cell_type": "markdown",
   "id": "6d1f887d",
   "metadata": {},
   "source": [
    "# 21.10.04                                                                                  "
   ]
  },
  {
   "cell_type": "code",
   "execution_count": 17,
   "id": "bc1e5cbd",
   "metadata": {},
   "outputs": [],
   "source": [
    "import numpy as np\n",
    "from scipy import stats\n",
    "from matplotlib import pyplot as plt"
   ]
  },
  {
   "cell_type": "markdown",
   "id": "e439cdd1",
   "metadata": {},
   "source": [
    "### 1. (dice game) 1부터 6까지의 수 중에 하나의 수를 임의로 선택하는 시행을 20번 시행하여 그 결과를 리스트 형태로 저장 "
   ]
  },
  {
   "cell_type": "code",
   "execution_count": 18,
   "id": "ae759f57",
   "metadata": {},
   "outputs": [
    {
     "name": "stdout",
     "output_type": "stream",
     "text": [
      "dice : [4, 3, 3, 2, 6, 2, 1, 1, 3, 1, 6, 1, 3, 3, 3, 2, 3, 3, 1, 6]\n",
      "dice 갯수 : 20\n"
     ]
    }
   ],
   "source": [
    "def dice_game(number):\n",
    "    dice0=[]\n",
    "    for i in range(number):\n",
    "        d = np.random.randint(1,7)\n",
    "        dice0.append(d)\n",
    "    return dice0\n",
    "dice = dice_game(20)\n",
    "print(\"dice :\",dice)\n",
    "print(\"dice 갯수 :\",len(dice))\n"
   ]
  },
  {
   "cell_type": "markdown",
   "id": "f2c2fc65",
   "metadata": {},
   "source": [
    "### 2. 위에서 얻은 dice의 결과값을 기준으로  각 수 (1부터 6까지) 에 해당하는 빈도를 구한 후, 해당 빈도를 기준으로 확률값 확인"
   ]
  },
  {
   "cell_type": "code",
   "execution_count": 19,
   "id": "878fb5cb",
   "metadata": {},
   "outputs": [
    {
     "name": "stdout",
     "output_type": "stream",
     "text": [
      "빈도 : [5, 3, 8, 1, 0, 3]\n",
      "확률 : [0.25, 0.15, 0.4, 0.05, 0.0, 0.15]\n"
     ]
    }
   ],
   "source": [
    "p_dice = [0]*6\n",
    "for i in dice:\n",
    "    p_dice[i-1]+=1\n",
    "print(\"빈도 :\", p_dice)\n",
    "\n",
    "\n",
    "for i in range(6):\n",
    "    p_dice[i] = p_dice[i]/20\n",
    "print(\"확률 :\",p_dice)\n"
   ]
  },
  {
   "cell_type": "markdown",
   "id": "7a0c6889",
   "metadata": {},
   "source": [
    "### 3. 위 2 번 결과를 나타내는 세로 막대 그래프"
   ]
  },
  {
   "cell_type": "code",
   "execution_count": 20,
   "id": "892f33b2",
   "metadata": {},
   "outputs": [
    {
     "data": {
      "image/png": "[encoded data removed]",
      "text/plain": [
       "<Figure size 432x288 with 1 Axes>"
      ]
     },
     "metadata": {
      "needs_background": "light"
     },
     "output_type": "display_data"
    }
   ],
   "source": [
    "plt.bar(range(1,7),p_dice)\n",
    "\n",
    "plt.show()"
   ]
  },
  {
   "cell_type": "markdown",
   "id": "21a5dea8",
   "metadata": {},
   "source": [
    "### 4. 위 2번 결과를 기준으로 하는 기대값과 분산"
   ]
  },
  {
   "cell_type": "code",
   "execution_count": 21,
   "id": "b6946989",
   "metadata": {},
   "outputs": [
    {
     "name": "stdout",
     "output_type": "stream",
     "text": [
      "이론상의 기대값 : 3.5\n",
      "이론상의 분산 : 2.9166666666666665\n",
      "\n",
      "위 2번 실험의 기대값 : 2.849999999999999\n",
      "위 2번 실험의 분산 : 2.5275\n"
     ]
    }
   ],
   "source": [
    "n= [1,2,3,4,5,6]\n",
    "\n",
    "# 직접 함수 작성\n",
    "def mean(q):\n",
    "    return sum(q)/len(q)\n",
    "\n",
    "def expec(w):\n",
    "    result = 0\n",
    "    for i in w:\n",
    "        result+=i/len(w)\n",
    "\n",
    "    return result\n",
    "\n",
    "def var(s):\n",
    "    vsum=0\n",
    "    for val in s: \n",
    "        vsum = vsum + (val - mean(s))**2 \n",
    "    variance = vsum / len(s) \n",
    "    return variance\n",
    "\n",
    "print(\"이론상의 기대값 :\", expec(n))\n",
    "print(\"이론상의 분산 :\", var(n))\n",
    "print()\n",
    "print(\"위 2번 실험의 기대값 :\", expec(dice))\n",
    "print(\"위 2번 실험의 분산 :\",var(dice))\n",
    "\n",
    "\n",
    "# numpy 활용\n",
    "#num_var = np.var(dice)\n",
    "#print(num_var)"
   ]
  },
  {
   "cell_type": "markdown",
   "id": "b696e3e5",
   "metadata": {},
   "source": [
    "### 5. 위의 dice game 을 20번 대신 200번 수행한다면, 현재의 결과가 바뀔 수 있는 지 아니면, 유지될 수 있는가"
   ]
  },
  {
   "cell_type": "code",
   "execution_count": 22,
   "id": "d8b87ef3",
   "metadata": {},
   "outputs": [
    {
     "name": "stdout",
     "output_type": "stream",
     "text": [
      "[3.5, 3.1, 3.5349999999999904, 3.517999999999949, 3.5035000000004493]\n",
      "[2.9166666666666665, 3.4474999999999993, 2.959975, 2.963979749999938, 2.9221769599995473]\n",
      "\n",
      "이론상의 기대값 : 3.5\n",
      "이론상의 분산 : 2.9166666666666665\n",
      "\n",
      "20번 수행\n",
      "기대값 : 3.1\n",
      "분산 : 3.4474999999999993\n",
      "\n",
      "200번 수행\n",
      "기대값 : 3.5349999999999904\n",
      "분산 : 2.959975\n",
      "\n",
      "2000번 수행\n",
      "기대값 : 3.517999999999949\n",
      "분산 : 2.963979749999938\n",
      "\n",
      "20000번 수행\n",
      "기대값 : 3.5035000000004493\n",
      "분산 : 2.9221769599995473\n"
     ]
    },
    {
     "data": {
      "image/png": "[encoded data removed]",
      "text/plain": [
       "<Figure size 432x288 with 1 Axes>"
      ]
     },
     "metadata": {
      "needs_background": "light"
     },
     "output_type": "display_data"
    },
    {
     "data": {
      "image/png": "[encoded data removed]",
      "text/plain": [
       "<Figure size 432x288 with 1 Axes>"
      ]
     },
     "metadata": {
      "needs_background": "light"
     },
     "output_type": "display_data"
    },
    {
     "name": "stdout",
     "output_type": "stream",
     "text": [
      "결론 : Dice game의 수행 횟수를 증가시키면 이론상의 수치로 점차 가까워지는 모습을 보여준다. \n",
      "따라서 수행횟수에 따라 현재의 결과는 얼마든지 변할 수 있다.\n"
     ]
    }
   ],
   "source": [
    "exp_list = []\n",
    "var_list = []\n",
    "\n",
    "exp_list.append(expec(n))\n",
    "var_list.append(var(n))\n",
    "\n",
    "min0 = 20\n",
    "max0 = 20001\n",
    "#min0 = input(\"최소 숫자 :\")\n",
    "#max0 = input(\"최대 숫자 :\")\n",
    "while(min0 < max0):\n",
    "    exp_list.append(expec(dice_game(min0)))\n",
    "    var_list.append(var(dice_game(min0)))\n",
    "    min0*=10\n",
    "    \n",
    "print(exp_list)\n",
    "print(var_list)\n",
    "\n",
    "\n",
    "\n",
    "print(\"\\n이론상의 기대값 :\", exp_list[0])\n",
    "print(\"이론상의 분산 :\", var_list[0])\n",
    "\n",
    "print(\"\\n20번 수행\")\n",
    "print(\"기대값 :\", exp_list[1])\n",
    "print(\"분산 :\",var_list[1])\n",
    "\n",
    "print(\"\\n200번 수행\")\n",
    "print(\"기대값 :\", exp_list[2])\n",
    "print(\"분산 :\", var_list[2])\n",
    "\n",
    "print(\"\\n2000번 수행\") \n",
    "print(\"기대값 :\", exp_list[3])\n",
    "print(\"분산 :\",var_list[3])\n",
    "\n",
    "print(\"\\n20000번 수행\") \n",
    "print(\"기대값 :\", exp_list[4])\n",
    "print(\"분산 :\",var_list[4])\n",
    "\n",
    "import os\n",
    "\n",
    "\n",
    "# Mac OS의 경우와 그 외 OS의 경우로 나누어 설정\n",
    "\n",
    "if os.name == 'posix':\n",
    "    pass\n",
    "else:\n",
    "    plt.rc(\"font\", family=\"Malgun Gothic\")\n",
    "ticklabel = ['이론', '20번', '200번', '2,000번','20,000번'] \n",
    "values = range(len(exp_list))\n",
    "\n",
    "\n",
    "plt.plot(exp_list,'ro')\n",
    "plt.axis([-0.5,4.5,min(exp_list)-0.05,max(exp_list)+0.05])\n",
    "plt.grid()\n",
    "plt.title(\"수행 횟수에 따른 기대값\")\n",
    "plt.ylabel(\"기대값\")\n",
    "plt.xlabel(\"수행 횟수\")\n",
    "plt.xticks(np.arange(0,5,1), ['이론', '20번', '200번', '2,000번','20,000번'])\n",
    "plt.hlines(exp_list[0],0,4,color=\"blue\", linestyles='solid', linewidth=2)\n",
    "plt.show()\n",
    "\n",
    "\n",
    "plt.plot(var_list,'ro')\n",
    "plt.axis([-0.5,4.5,min(var_list)-0.05,max(var_list)+0.05])\n",
    "plt.grid()\n",
    "plt.title(\"수행 횟수에 따른 분산값\")\n",
    "plt.ylabel(\"분산값\")\n",
    "plt.xlabel(\"수행 횟수\")\n",
    "plt.xticks(np.arange(0,5,1), ['이론', '20번', '200번', '2,000번','20,000번'])\n",
    "plt.hlines(var_list[0],0,4,color=\"blue\", linestyles='solid', linewidth=2)\n",
    "plt.show()\n",
    "\n",
    "print(\"결론 : Dice game의 수행 횟수를 증가시키면 이론상의 수치로 점차 가까워지는 모습을 보여준다. \\n따라서 수행횟수에 따라 현재의 결과는 얼마든지 변할 수 있다.\")"
   ]
  }
 ],
 "metadata": {
  "kernelspec": {
   "display_name": "Python 3",
   "language": "python",
   "name": "python3"
  },
  "language_info": {
   "codemirror_mode": {
    "name": "ipython",
    "version": 3
   },
   "file_extension": ".py",
   "mimetype": "text/x-python",
   "name": "python",
   "nbconvert_exporter": "python",
   "pygments_lexer": "ipython3",
   "version": "3.8.8"
  }
 },
 "nbformat": 4,
 "nbformat_minor": 5
}
