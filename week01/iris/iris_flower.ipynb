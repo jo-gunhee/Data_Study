{
  "nbformat": 4,
  "nbformat_minor": 0,
  "metadata": {
    "colab": {
      "name": "iris_flower.ipynb",
      "provenance": [],
      "collapsed_sections": []
    },
    "kernelspec": {
      "name": "python3",
      "display_name": "Python 3"
    }
  },
  "cells": [
    {
      "cell_type": "code",
      "metadata": {
        "id": "O0TZhIGiFeCh"
      },
      "source": [
        "from sklearn.datasets import load_iris\n",
        "\n",
        "iris = load_iris()"
      ],
      "execution_count": null,
      "outputs": []
    },
    {
      "cell_type": "code",
      "metadata": {
        "id": "WsgyD9lkLCf7"
      },
      "source": [
        "iris.keys()"
      ],
      "execution_count": null,
      "outputs": []
    },
    {
      "cell_type": "code",
      "metadata": {
        "id": "WJuHc4tMLDmx"
      },
      "source": [
        "print(iris.DESCR)"
      ],
      "execution_count": null,
      "outputs": []
    },
    {
      "cell_type": "code",
      "metadata": {
        "id": "AHdnh8kgLjtS"
      },
      "source": [
        "iris.feature_names"
      ],
      "execution_count": null,
      "outputs": []
    },
    {
      "cell_type": "code",
      "metadata": {
        "id": "0O3FPYF3Lwjq"
      },
      "source": [
        "iris.target_names"
      ],
      "execution_count": null,
      "outputs": []
    },
    {
      "cell_type": "code",
      "metadata": {
        "id": "CirjJXbkNhxS"
      },
      "source": [
        "iris.target"
      ],
      "execution_count": null,
      "outputs": []
    },
    {
      "cell_type": "code",
      "metadata": {
        "id": "I-paYE1JNl85"
      },
      "source": [
        "import pandas as pd"
      ],
      "execution_count": null,
      "outputs": []
    },
    {
      "cell_type": "code",
      "metadata": {
        "id": "H0ZftgMVQoF-"
      },
      "source": [
        "iris_pd = pd.DataFrame(iris.data, columns = iris.feature_names)\n",
        "iris_pd.head()"
      ],
      "execution_count": null,
      "outputs": []
    },
    {
      "cell_type": "code",
      "metadata": {
        "id": "hrs3yuHNQ0sb"
      },
      "source": [
        "iris_pd.describe()"
      ],
      "execution_count": null,
      "outputs": []
    },
    {
      "cell_type": "code",
      "metadata": {
        "id": "a21ZJoi_RFIa"
      },
      "source": [
        "from sklearn.preprocessing import LabelEncoder\n",
        "\n",
        "le = LabelEncoder()\n",
        "le.fit(iris.target_names)\n",
        "\n",
        "le.classes_"
      ],
      "execution_count": null,
      "outputs": []
    },
    {
      "cell_type": "code",
      "metadata": {
        "id": "zMt32Ld3R7Ok"
      },
      "source": [
        "le.transform(['setosa', 'virginica'])"
      ],
      "execution_count": null,
      "outputs": []
    },
    {
      "cell_type": "code",
      "metadata": {
        "id": "K0ykR86-SI-q"
      },
      "source": [
        "le.inverse_transform([1, 2, 0])"
      ],
      "execution_count": null,
      "outputs": []
    },
    {
      "cell_type": "code",
      "metadata": {
        "id": "ZAvDbnTBShfz"
      },
      "source": [
        "iris.target"
      ],
      "execution_count": null,
      "outputs": []
    },
    {
      "cell_type": "code",
      "metadata": {
        "id": "CJttKVHUS9gD"
      },
      "source": [
        "le.inverse_transform(iris.target)"
      ],
      "execution_count": null,
      "outputs": []
    },
    {
      "cell_type": "code",
      "metadata": {
        "id": "tIZYQfb7TCMj"
      },
      "source": [
        "iris_pd['species'] = le.inverse_transform(iris.target)\n",
        "iris_pd.head()"
      ],
      "execution_count": null,
      "outputs": []
    },
    {
      "cell_type": "code",
      "metadata": {
        "id": "tDR1TpBVTca-"
      },
      "source": [
        "import seaborn as sns"
      ],
      "execution_count": null,
      "outputs": []
    },
    {
      "cell_type": "code",
      "metadata": {
        "id": "AUPJ9EUKUVL7"
      },
      "source": [
        "sns.pairplot(iris_pd, hue = 'species')"
      ],
      "execution_count": null,
      "outputs": []
    },
    {
      "cell_type": "code",
      "metadata": {
        "id": "jy8SXP7yUbz7"
      },
      "source": [
        "feature_data = iris.data[:, 2:]\n",
        "feature_data"
      ],
      "execution_count": null,
      "outputs": []
    },
    {
      "cell_type": "code",
      "metadata": {
        "id": "GbbndfyXVJVM"
      },
      "source": [
        "from sklearn.tree import DecisionTreeClassifier"
      ],
      "execution_count": null,
      "outputs": []
    },
    {
      "cell_type": "code",
      "metadata": {
        "id": "F7zaVt4aWPOU"
      },
      "source": [
        "iris_tree = DecisionTreeClassifier(max_depth = 2)\n",
        "iris_tree.fit(feature_data, le.inverse_transform(iris.target))"
      ],
      "execution_count": null,
      "outputs": []
    },
    {
      "cell_type": "code",
      "metadata": {
        "id": "8m1C-8CcWe2c"
      },
      "source": [
        "from graphviz import Source\n",
        "from sklearn.tree import export_graphviz\n",
        "\n",
        "Source(export_graphviz(iris_tree, feature_names=['length', 'width'], rounded = True, filled = True))"
      ],
      "execution_count": null,
      "outputs": []
    },
    {
      "cell_type": "code",
      "metadata": {
        "id": "CuvK1eTcXjaL"
      },
      "source": [
        "iris_tree.predict([[1.45, 0.25]])"
      ],
      "execution_count": null,
      "outputs": []
    },
    {
      "cell_type": "code",
      "metadata": {
        "id": "yVC0LtCxqZSj"
      },
      "source": [
        "iris_tree.predict([[3.45, 0.25]])"
      ],
      "execution_count": null,
      "outputs": []
    },
    {
      "cell_type": "code",
      "metadata": {
        "id": "RVX4YOpRqebx"
      },
      "source": [
        "iris_tree.predict_proba([[1.45, 0.25]])"
      ],
      "execution_count": null,
      "outputs": []
    },
    {
      "cell_type": "code",
      "metadata": {
        "id": "Y8vORI5iqu3J"
      },
      "source": [
        "iris_tree.predict_proba([[3.45, 0.25]])"
      ],
      "execution_count": null,
      "outputs": []
    },
    {
      "cell_type": "markdown",
      "metadata": {
        "id": "-zBBRJGnwgl1"
      },
      "source": [
        "# training /test data seperation and overfitting"
      ]
    },
    {
      "cell_type": "code",
      "metadata": {
        "id": "e-e8dQkmq3_J"
      },
      "source": [
        "from sklearn.model_selection import train_test_split\n",
        "\n",
        "feature_data = iris.data[:, 2:]\n",
        "\n",
        "x_train, x_test, y_train, y_test = \\\n",
        "train_test_split(feature_data, iris.target, test_size = 0.2, random_state = 13)"
      ],
      "execution_count": null,
      "outputs": []
    },
    {
      "cell_type": "code",
      "metadata": {
        "id": "KcjkN_YmxSL1"
      },
      "source": [
        "import numpy as np\n",
        "\n",
        "np.unique(y_test, return_counts = True)"
      ],
      "execution_count": null,
      "outputs": []
    },
    {
      "cell_type": "code",
      "metadata": {
        "id": "OMd_l87GyZSM"
      },
      "source": [
        "x_train, x_test, y_train, y_test = \\\n",
        "train_test_split(feature_data, iris.target, \n",
        "                 test_size = 0.2,\n",
        "                 random_state = 13,\n",
        "                 stratify = iris.target)\n",
        "\n",
        "np.unique(y_test, return_counts = True)"
      ],
      "execution_count": null,
      "outputs": []
    },
    {
      "cell_type": "code",
      "metadata": {
        "id": "jtbiqwKBzJO7"
      },
      "source": [
        "from sklearn.tree import DecisionTreeClassifier\n",
        "\n",
        "iris_tree = DecisionTreeClassifier(max_depth = 2, random_state = 13)\n",
        "iris_tree.fit(x_train, y_train)"
      ],
      "execution_count": null,
      "outputs": []
    },
    {
      "cell_type": "code",
      "metadata": {
        "id": "4Uc2PllH0Udg"
      },
      "source": [
        "from graphviz import Source\n",
        "from sklearn.tree import export_graphviz\n",
        "\n",
        "Source(export_graphviz(iris_tree, feature_names=['length', 'width'],\n",
        "                       class_names = iris.target_names, \n",
        "                       rounded = True, filled = True))"
      ],
      "execution_count": null,
      "outputs": []
    },
    {
      "cell_type": "code",
      "metadata": {
        "id": "i-tXRMAD0uBb"
      },
      "source": [
        "from sklearn.metrics import accuracy_score\n",
        "\n",
        "y_pred_tr = iris_tree.predict(x_train)\n",
        "accuracy_score(y_train, y_pred_tr)"
      ],
      "execution_count": null,
      "outputs": []
    },
    {
      "cell_type": "code",
      "metadata": {
        "id": "n8wtxgxe10Di"
      },
      "source": [
        "y_pred_test = iris_tree.predict(x_test)\n",
        "accuracy_score(y_test, y_pred_test)"
      ],
      "execution_count": null,
      "outputs": []
    },
    {
      "cell_type": "code",
      "metadata": {
        "id": "veXLaLVO2e10"
      },
      "source": [
        "from sklearn.metrics import confusion_matrix\n",
        "\n",
        "confusion_matrix(y_test, y_pred_test)"
      ],
      "execution_count": null,
      "outputs": []
    },
    {
      "cell_type": "code",
      "metadata": {
        "id": "bIwIojtJ2o2L"
      },
      "source": [
        "from matplotlib.colors import ListedColormap\n",
        "import matplotlib.pyplot as plt\n",
        "import numpy as np\n",
        "\n",
        "def plot_decision_regions(X, y, classifier, resolution = 0.02):\n",
        "\n",
        "    #마커와 컬러맵을 설정\n",
        "    markers = ('s', 'x', 'o', '^', 'v')\n",
        "    colors = ('red', 'blue', 'lightgreen', 'gray', 'cyan')\n",
        "    cmap = ListedColormap(colors[:len(np.unique(y))])\n",
        "\n",
        "    #결정 경계를 그림\n",
        "    x1_min, x1_max = X[:, 0].min() - 1, X[:, 0].max() + 1\n",
        "    x2_min, x2_max = X[:, 1].min() - 1, X[:, 1].max() + 1\n",
        "    xx1, xx2 = np.meshgrid(np.arange(x1_min, x1_max, resolution),\n",
        "                           np.arange(x2_min, x2_max, resolution))\n",
        "    Z = classifier.predict(np.array([xx1.ravel(), xx2.ravel()]).T)\n",
        "    Z = Z.reshape(xx1.shape)\n",
        "    plt.contourf(xx1, xx2, Z, alpha = 0.3, cmap = cmap)\n",
        "    plt.xlim(xx1.min(), xx1.max())\n",
        "    plt.ylim(xx2.min(), xx2.max())\n",
        "\n",
        "    for idx, c1 in enumerate(np.unique(y)):\n",
        "        plt.scatter(x = X[y == c1, 0],\n",
        "                    y = X[y == c1, 1],\n",
        "                    alpha = 0.8,\n",
        "                    c=colors[idx],\n",
        "                    marker = markers[idx],\n",
        "                    label = c1,\n",
        "                    edgecolor = 'black')\n"
      ],
      "execution_count": null,
      "outputs": []
    },
    {
      "cell_type": "code",
      "metadata": {
        "id": "BX4s9H9m5ExX"
      },
      "source": [
        "plt.figure(figsize = (10,6))\n",
        "plot_decision_regions(X = x_train, y = y_train,\n",
        "                      classifier = iris_tree)\n",
        "plt.xlabel('petal length [cm]')\n",
        "plt.ylabel('petal width [cm]')\n",
        "plt.legend(loc = 'upper left')\n",
        "\n",
        "plt.show()"
      ],
      "execution_count": null,
      "outputs": []
    },
    {
      "cell_type": "code",
      "metadata": {
        "id": "FJC7eLWg5qbd"
      },
      "source": [
        "iris_tree = DecisionTreeClassifier(max_depth = 4, random_state = 13)\n",
        "iris_tree.fit(x_train, y_train)\n",
        "\n",
        "Source(export_graphviz(iris_tree, feature_names=['length', 'width'],\n",
        "                       class_names = iris.target_names, \n",
        "                       rounded = True, filled = True))"
      ],
      "execution_count": null,
      "outputs": []
    },
    {
      "cell_type": "code",
      "metadata": {
        "id": "g47C3GhN7eGD"
      },
      "source": [
        "y_pred_tr = iris_tree.predict(x_train)\n",
        "y_pred_test = iris_tree.predict(x_test)\n",
        "\n",
        "\n",
        "print(accuracy_score(y_train, y_pred_tr))\n",
        "print(accuracy_score(y_test, y_pred_test))"
      ],
      "execution_count": null,
      "outputs": []
    },
    {
      "cell_type": "code",
      "metadata": {
        "id": "5MW66kIx70Ac"
      },
      "source": [
        "plt.figure(figsize = (10,6))\n",
        "plot_decision_regions(X = x_train, y = y_train,\n",
        "                      classifier = iris_tree)\n",
        "plt.xlabel('petal length [cm]')\n",
        "plt.ylabel('petal width [cm]')\n",
        "plt.legend(loc = 'upper left')\n",
        "\n",
        "plt.show()"
      ],
      "execution_count": null,
      "outputs": []
    },
    {
      "cell_type": "code",
      "metadata": {
        "id": "M7fHAwuJ79Kd"
      },
      "source": [
        "x_train, x_test, y_train, y_test = \\\n",
        "train_test_split(iris.data, iris.target, \n",
        "                 test_size = 0.2,\n",
        "                 random_state = 13,\n",
        "                 stratify = iris.target)\n",
        "\n",
        "iris_tree = DecisionTreeClassifier(max_depth = 3, random_state = 13)\n",
        "iris_tree.fit(x_train, y_train)\n"
      ],
      "execution_count": null,
      "outputs": []
    },
    {
      "cell_type": "code",
      "metadata": {
        "id": "Z9DgADp28bNM"
      },
      "source": [
        "y_pred_tr = iris_tree.predict(x_train)\n",
        "y_pred_test = iris_tree.predict(x_test)\n",
        "\n",
        "\n",
        "print(accuracy_score(y_train, y_pred_tr))\n",
        "print(accuracy_score(y_test, y_pred_test))"
      ],
      "execution_count": null,
      "outputs": []
    },
    {
      "cell_type": "code",
      "metadata": {
        "id": "aHTO0WPk8eVE"
      },
      "source": [
        "iris_tree.predict([[5, 3.5, 1.45, 0.25]])"
      ],
      "execution_count": null,
      "outputs": []
    },
    {
      "cell_type": "code",
      "metadata": {
        "id": "tcy7j0Bu8nR1"
      },
      "source": [
        "iris_tree.predict_proba([[5, 3.5, 1.45, 0.25]])"
      ],
      "execution_count": null,
      "outputs": []
    },
    {
      "cell_type": "code",
      "metadata": {
        "id": "KIimGmCV88Pd"
      },
      "source": [
        "Source(export_graphviz(iris_tree, feature_names=iris.feature_names,\n",
        "                       class_names = iris.target_names, \n",
        "                       rounded = True, filled = True))"
      ],
      "execution_count": null,
      "outputs": []
    },
    {
      "cell_type": "code",
      "metadata": {
        "id": "Dkflxgk19Aps"
      },
      "source": [
        "iris_tree.feature_importances_"
      ],
      "execution_count": null,
      "outputs": []
    }
  ]
}